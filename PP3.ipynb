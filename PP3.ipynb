{
 "cells": [
  {
   "cell_type": "markdown",
   "id": "b338ff2e",
   "metadata": {},
   "source": [
    "# PP3: Pandas"
   ]
  },
  {
   "cell_type": "markdown",
   "id": "5a41f4ff",
   "metadata": {},
   "source": [
    "## Section 1: Getting and knowing your data"
   ]
  },
  {
   "cell_type": "markdown",
   "id": "cb63ad82",
   "metadata": {},
   "source": [
    "### Step 1. Import the necessary libraries"
   ]
  },
  {
   "cell_type": "code",
   "execution_count": 1,
   "id": "1a771838",
   "metadata": {},
   "outputs": [],
   "source": [
    "import pandas as pd\n",
    "import numpy as np"
   ]
  },
  {
   "cell_type": "markdown",
   "id": "8894765f",
   "metadata": {},
   "source": [
    "### Step 2. Import the dataset from this [address](https://raw.githubusercontent.com/justmarkham/DAT8/master/data/u.user). "
   ]
  },
  {
   "cell_type": "markdown",
   "id": "bb471920",
   "metadata": {},
   "source": [
    "### Step 3. Assign it to a variable called users and use the 'user_id' as index"
   ]
  },
  {
   "cell_type": "code",
   "execution_count": null,
   "id": "029b290f",
   "metadata": {},
   "outputs": [],
   "source": [
    "url1 = 'https://raw.githubusercontent.com/justmarkham/DAT8/master/data/u.user'\n",
    "users = pd.read_csv(url1, sep='|', index_col='user_id')"
   ]
  },
  {
   "cell_type": "markdown",
   "id": "0e757d1f",
   "metadata": {},
   "source": [
    "### Step 4. See the first 25 entries"
   ]
  },
  {
   "cell_type": "code",
   "execution_count": 3,
   "id": "9b87b173",
   "metadata": {
    "scrolled": true
   },
   "outputs": [
    {
     "data": {
      "text/html": [
       "<div>\n",
       "<style scoped>\n",
       "    .dataframe tbody tr th:only-of-type {\n",
       "        vertical-align: middle;\n",
       "    }\n",
       "\n",
       "    .dataframe tbody tr th {\n",
       "        vertical-align: top;\n",
       "    }\n",
       "\n",
       "    .dataframe thead th {\n",
       "        text-align: right;\n",
       "    }\n",
       "</style>\n",
       "<table border=\"1\" class=\"dataframe\">\n",
       "  <thead>\n",
       "    <tr style=\"text-align: right;\">\n",
       "      <th></th>\n",
       "      <th>age</th>\n",
       "      <th>gender</th>\n",
       "      <th>occupation</th>\n",
       "      <th>zip_code</th>\n",
       "    </tr>\n",
       "    <tr>\n",
       "      <th>user_id</th>\n",
       "      <th></th>\n",
       "      <th></th>\n",
       "      <th></th>\n",
       "      <th></th>\n",
       "    </tr>\n",
       "  </thead>\n",
       "  <tbody>\n",
       "    <tr>\n",
       "      <th>1</th>\n",
       "      <td>24</td>\n",
       "      <td>M</td>\n",
       "      <td>technician</td>\n",
       "      <td>85711</td>\n",
       "    </tr>\n",
       "    <tr>\n",
       "      <th>2</th>\n",
       "      <td>53</td>\n",
       "      <td>F</td>\n",
       "      <td>other</td>\n",
       "      <td>94043</td>\n",
       "    </tr>\n",
       "    <tr>\n",
       "      <th>3</th>\n",
       "      <td>23</td>\n",
       "      <td>M</td>\n",
       "      <td>writer</td>\n",
       "      <td>32067</td>\n",
       "    </tr>\n",
       "    <tr>\n",
       "      <th>4</th>\n",
       "      <td>24</td>\n",
       "      <td>M</td>\n",
       "      <td>technician</td>\n",
       "      <td>43537</td>\n",
       "    </tr>\n",
       "    <tr>\n",
       "      <th>5</th>\n",
       "      <td>33</td>\n",
       "      <td>F</td>\n",
       "      <td>other</td>\n",
       "      <td>15213</td>\n",
       "    </tr>\n",
       "    <tr>\n",
       "      <th>6</th>\n",
       "      <td>42</td>\n",
       "      <td>M</td>\n",
       "      <td>executive</td>\n",
       "      <td>98101</td>\n",
       "    </tr>\n",
       "    <tr>\n",
       "      <th>7</th>\n",
       "      <td>57</td>\n",
       "      <td>M</td>\n",
       "      <td>administrator</td>\n",
       "      <td>91344</td>\n",
       "    </tr>\n",
       "    <tr>\n",
       "      <th>8</th>\n",
       "      <td>36</td>\n",
       "      <td>M</td>\n",
       "      <td>administrator</td>\n",
       "      <td>05201</td>\n",
       "    </tr>\n",
       "    <tr>\n",
       "      <th>9</th>\n",
       "      <td>29</td>\n",
       "      <td>M</td>\n",
       "      <td>student</td>\n",
       "      <td>01002</td>\n",
       "    </tr>\n",
       "    <tr>\n",
       "      <th>10</th>\n",
       "      <td>53</td>\n",
       "      <td>M</td>\n",
       "      <td>lawyer</td>\n",
       "      <td>90703</td>\n",
       "    </tr>\n",
       "    <tr>\n",
       "      <th>11</th>\n",
       "      <td>39</td>\n",
       "      <td>F</td>\n",
       "      <td>other</td>\n",
       "      <td>30329</td>\n",
       "    </tr>\n",
       "    <tr>\n",
       "      <th>12</th>\n",
       "      <td>28</td>\n",
       "      <td>F</td>\n",
       "      <td>other</td>\n",
       "      <td>06405</td>\n",
       "    </tr>\n",
       "    <tr>\n",
       "      <th>13</th>\n",
       "      <td>47</td>\n",
       "      <td>M</td>\n",
       "      <td>educator</td>\n",
       "      <td>29206</td>\n",
       "    </tr>\n",
       "    <tr>\n",
       "      <th>14</th>\n",
       "      <td>45</td>\n",
       "      <td>M</td>\n",
       "      <td>scientist</td>\n",
       "      <td>55106</td>\n",
       "    </tr>\n",
       "    <tr>\n",
       "      <th>15</th>\n",
       "      <td>49</td>\n",
       "      <td>F</td>\n",
       "      <td>educator</td>\n",
       "      <td>97301</td>\n",
       "    </tr>\n",
       "    <tr>\n",
       "      <th>16</th>\n",
       "      <td>21</td>\n",
       "      <td>M</td>\n",
       "      <td>entertainment</td>\n",
       "      <td>10309</td>\n",
       "    </tr>\n",
       "    <tr>\n",
       "      <th>17</th>\n",
       "      <td>30</td>\n",
       "      <td>M</td>\n",
       "      <td>programmer</td>\n",
       "      <td>06355</td>\n",
       "    </tr>\n",
       "    <tr>\n",
       "      <th>18</th>\n",
       "      <td>35</td>\n",
       "      <td>F</td>\n",
       "      <td>other</td>\n",
       "      <td>37212</td>\n",
       "    </tr>\n",
       "    <tr>\n",
       "      <th>19</th>\n",
       "      <td>40</td>\n",
       "      <td>M</td>\n",
       "      <td>librarian</td>\n",
       "      <td>02138</td>\n",
       "    </tr>\n",
       "    <tr>\n",
       "      <th>20</th>\n",
       "      <td>42</td>\n",
       "      <td>F</td>\n",
       "      <td>homemaker</td>\n",
       "      <td>95660</td>\n",
       "    </tr>\n",
       "    <tr>\n",
       "      <th>21</th>\n",
       "      <td>26</td>\n",
       "      <td>M</td>\n",
       "      <td>writer</td>\n",
       "      <td>30068</td>\n",
       "    </tr>\n",
       "    <tr>\n",
       "      <th>22</th>\n",
       "      <td>25</td>\n",
       "      <td>M</td>\n",
       "      <td>writer</td>\n",
       "      <td>40206</td>\n",
       "    </tr>\n",
       "    <tr>\n",
       "      <th>23</th>\n",
       "      <td>30</td>\n",
       "      <td>F</td>\n",
       "      <td>artist</td>\n",
       "      <td>48197</td>\n",
       "    </tr>\n",
       "    <tr>\n",
       "      <th>24</th>\n",
       "      <td>21</td>\n",
       "      <td>F</td>\n",
       "      <td>artist</td>\n",
       "      <td>94533</td>\n",
       "    </tr>\n",
       "    <tr>\n",
       "      <th>25</th>\n",
       "      <td>39</td>\n",
       "      <td>M</td>\n",
       "      <td>engineer</td>\n",
       "      <td>55107</td>\n",
       "    </tr>\n",
       "  </tbody>\n",
       "</table>\n",
       "</div>"
      ],
      "text/plain": [
       "         age gender     occupation zip_code\n",
       "user_id                                    \n",
       "1         24      M     technician    85711\n",
       "2         53      F          other    94043\n",
       "3         23      M         writer    32067\n",
       "4         24      M     technician    43537\n",
       "5         33      F          other    15213\n",
       "6         42      M      executive    98101\n",
       "7         57      M  administrator    91344\n",
       "8         36      M  administrator    05201\n",
       "9         29      M        student    01002\n",
       "10        53      M         lawyer    90703\n",
       "11        39      F          other    30329\n",
       "12        28      F          other    06405\n",
       "13        47      M       educator    29206\n",
       "14        45      M      scientist    55106\n",
       "15        49      F       educator    97301\n",
       "16        21      M  entertainment    10309\n",
       "17        30      M     programmer    06355\n",
       "18        35      F          other    37212\n",
       "19        40      M      librarian    02138\n",
       "20        42      F      homemaker    95660\n",
       "21        26      M         writer    30068\n",
       "22        25      M         writer    40206\n",
       "23        30      F         artist    48197\n",
       "24        21      F         artist    94533\n",
       "25        39      M       engineer    55107"
      ]
     },
     "execution_count": 3,
     "metadata": {},
     "output_type": "execute_result"
    }
   ],
   "source": [
    "users.head(25)"
   ]
  },
  {
   "cell_type": "markdown",
   "id": "bd80aafc",
   "metadata": {},
   "source": [
    "### Step 5. See the last 10 entries"
   ]
  },
  {
   "cell_type": "code",
   "execution_count": 4,
   "id": "f58c85c1",
   "metadata": {
    "scrolled": true
   },
   "outputs": [
    {
     "data": {
      "text/html": [
       "<div>\n",
       "<style scoped>\n",
       "    .dataframe tbody tr th:only-of-type {\n",
       "        vertical-align: middle;\n",
       "    }\n",
       "\n",
       "    .dataframe tbody tr th {\n",
       "        vertical-align: top;\n",
       "    }\n",
       "\n",
       "    .dataframe thead th {\n",
       "        text-align: right;\n",
       "    }\n",
       "</style>\n",
       "<table border=\"1\" class=\"dataframe\">\n",
       "  <thead>\n",
       "    <tr style=\"text-align: right;\">\n",
       "      <th></th>\n",
       "      <th>age</th>\n",
       "      <th>gender</th>\n",
       "      <th>occupation</th>\n",
       "      <th>zip_code</th>\n",
       "    </tr>\n",
       "    <tr>\n",
       "      <th>user_id</th>\n",
       "      <th></th>\n",
       "      <th></th>\n",
       "      <th></th>\n",
       "      <th></th>\n",
       "    </tr>\n",
       "  </thead>\n",
       "  <tbody>\n",
       "    <tr>\n",
       "      <th>934</th>\n",
       "      <td>61</td>\n",
       "      <td>M</td>\n",
       "      <td>engineer</td>\n",
       "      <td>22902</td>\n",
       "    </tr>\n",
       "    <tr>\n",
       "      <th>935</th>\n",
       "      <td>42</td>\n",
       "      <td>M</td>\n",
       "      <td>doctor</td>\n",
       "      <td>66221</td>\n",
       "    </tr>\n",
       "    <tr>\n",
       "      <th>936</th>\n",
       "      <td>24</td>\n",
       "      <td>M</td>\n",
       "      <td>other</td>\n",
       "      <td>32789</td>\n",
       "    </tr>\n",
       "    <tr>\n",
       "      <th>937</th>\n",
       "      <td>48</td>\n",
       "      <td>M</td>\n",
       "      <td>educator</td>\n",
       "      <td>98072</td>\n",
       "    </tr>\n",
       "    <tr>\n",
       "      <th>938</th>\n",
       "      <td>38</td>\n",
       "      <td>F</td>\n",
       "      <td>technician</td>\n",
       "      <td>55038</td>\n",
       "    </tr>\n",
       "    <tr>\n",
       "      <th>939</th>\n",
       "      <td>26</td>\n",
       "      <td>F</td>\n",
       "      <td>student</td>\n",
       "      <td>33319</td>\n",
       "    </tr>\n",
       "    <tr>\n",
       "      <th>940</th>\n",
       "      <td>32</td>\n",
       "      <td>M</td>\n",
       "      <td>administrator</td>\n",
       "      <td>02215</td>\n",
       "    </tr>\n",
       "    <tr>\n",
       "      <th>941</th>\n",
       "      <td>20</td>\n",
       "      <td>M</td>\n",
       "      <td>student</td>\n",
       "      <td>97229</td>\n",
       "    </tr>\n",
       "    <tr>\n",
       "      <th>942</th>\n",
       "      <td>48</td>\n",
       "      <td>F</td>\n",
       "      <td>librarian</td>\n",
       "      <td>78209</td>\n",
       "    </tr>\n",
       "    <tr>\n",
       "      <th>943</th>\n",
       "      <td>22</td>\n",
       "      <td>M</td>\n",
       "      <td>student</td>\n",
       "      <td>77841</td>\n",
       "    </tr>\n",
       "  </tbody>\n",
       "</table>\n",
       "</div>"
      ],
      "text/plain": [
       "         age gender     occupation zip_code\n",
       "user_id                                    \n",
       "934       61      M       engineer    22902\n",
       "935       42      M         doctor    66221\n",
       "936       24      M          other    32789\n",
       "937       48      M       educator    98072\n",
       "938       38      F     technician    55038\n",
       "939       26      F        student    33319\n",
       "940       32      M  administrator    02215\n",
       "941       20      M        student    97229\n",
       "942       48      F      librarian    78209\n",
       "943       22      M        student    77841"
      ]
     },
     "execution_count": 4,
     "metadata": {},
     "output_type": "execute_result"
    }
   ],
   "source": [
    "users.tail(10)"
   ]
  },
  {
   "cell_type": "markdown",
   "id": "e65bd1c8",
   "metadata": {},
   "source": [
    "### Step 6. What is the number of observations in the dataset?"
   ]
  },
  {
   "cell_type": "code",
   "execution_count": 5,
   "id": "2178d579",
   "metadata": {},
   "outputs": [
    {
     "name": "stdout",
     "output_type": "stream",
     "text": [
      "943\n"
     ]
    }
   ],
   "source": [
    "print(len(users))"
   ]
  },
  {
   "cell_type": "markdown",
   "id": "218a3880",
   "metadata": {},
   "source": [
    "### Step 7. What is the number of columns in the dataset?"
   ]
  },
  {
   "cell_type": "code",
   "execution_count": 8,
   "id": "d569393f",
   "metadata": {},
   "outputs": [
    {
     "name": "stdout",
     "output_type": "stream",
     "text": [
      "4\n"
     ]
    }
   ],
   "source": [
    "print(len(users.columns))"
   ]
  },
  {
   "cell_type": "markdown",
   "id": "2a146809",
   "metadata": {},
   "source": [
    "### Step 8. Print the name of all the columns."
   ]
  },
  {
   "cell_type": "code",
   "execution_count": 10,
   "id": "9cf2fa51",
   "metadata": {},
   "outputs": [
    {
     "name": "stdout",
     "output_type": "stream",
     "text": [
      "Index(['age', 'gender', 'occupation', 'zip_code'], dtype='object')\n"
     ]
    }
   ],
   "source": [
    "print(users.columns)"
   ]
  },
  {
   "cell_type": "markdown",
   "id": "2b96bd9b",
   "metadata": {},
   "source": [
    "### Step 9. How is the dataset indexed?"
   ]
  },
  {
   "cell_type": "code",
   "execution_count": 11,
   "id": "dd192018",
   "metadata": {},
   "outputs": [
    {
     "data": {
      "text/plain": [
       "Index([  1,   2,   3,   4,   5,   6,   7,   8,   9,  10,\n",
       "       ...\n",
       "       934, 935, 936, 937, 938, 939, 940, 941, 942, 943],\n",
       "      dtype='int64', name='user_id', length=943)"
      ]
     },
     "execution_count": 11,
     "metadata": {},
     "output_type": "execute_result"
    }
   ],
   "source": [
    "users.index"
   ]
  },
  {
   "cell_type": "markdown",
   "id": "6427a9b7",
   "metadata": {},
   "source": [
    "### Step 10. What is the data type of each column?"
   ]
  },
  {
   "cell_type": "code",
   "execution_count": 15,
   "id": "1e75ae0a",
   "metadata": {},
   "outputs": [
    {
     "data": {
      "text/plain": [
       "age            int64\n",
       "gender        object\n",
       "occupation    object\n",
       "zip_code      object\n",
       "dtype: object"
      ]
     },
     "execution_count": 15,
     "metadata": {},
     "output_type": "execute_result"
    }
   ],
   "source": [
    "users.dtypes"
   ]
  },
  {
   "cell_type": "markdown",
   "id": "e9676543",
   "metadata": {},
   "source": [
    "### Step 11. Print only the occupation column"
   ]
  },
  {
   "cell_type": "code",
   "execution_count": 19,
   "id": "e34386ba",
   "metadata": {},
   "outputs": [
    {
     "data": {
      "text/plain": [
       "user_id\n",
       "1         technician\n",
       "2              other\n",
       "3             writer\n",
       "4         technician\n",
       "5              other\n",
       "           ...      \n",
       "939          student\n",
       "940    administrator\n",
       "941          student\n",
       "942        librarian\n",
       "943          student\n",
       "Name: occupation, Length: 943, dtype: object"
      ]
     },
     "execution_count": 19,
     "metadata": {},
     "output_type": "execute_result"
    }
   ],
   "source": [
    "users['occupation']"
   ]
  },
  {
   "cell_type": "markdown",
   "id": "41b56d2e",
   "metadata": {},
   "source": [
    "### Step 12. How many different occupations are in this dataset?"
   ]
  },
  {
   "cell_type": "code",
   "execution_count": 20,
   "id": "0051bdb3",
   "metadata": {},
   "outputs": [
    {
     "data": {
      "text/plain": [
       "21"
      ]
     },
     "execution_count": 20,
     "metadata": {},
     "output_type": "execute_result"
    }
   ],
   "source": [
    "users['occupation'].nunique()"
   ]
  },
  {
   "cell_type": "markdown",
   "id": "4dba5819",
   "metadata": {},
   "source": [
    "### Step 13. What is the most frequent occupation?"
   ]
  },
  {
   "cell_type": "code",
   "execution_count": 25,
   "id": "d0778f17",
   "metadata": {},
   "outputs": [
    {
     "data": {
      "text/plain": [
       "'student'"
      ]
     },
     "execution_count": 25,
     "metadata": {},
     "output_type": "execute_result"
    }
   ],
   "source": [
    "users['occupation'].value_counts().idxmax()"
   ]
  },
  {
   "cell_type": "markdown",
   "id": "4386018b",
   "metadata": {},
   "source": [
    "### Step 14. Summarize the DataFrame."
   ]
  },
  {
   "cell_type": "code",
   "execution_count": 28,
   "id": "aa3e5433",
   "metadata": {},
   "outputs": [
    {
     "data": {
      "text/html": [
       "<div>\n",
       "<style scoped>\n",
       "    .dataframe tbody tr th:only-of-type {\n",
       "        vertical-align: middle;\n",
       "    }\n",
       "\n",
       "    .dataframe tbody tr th {\n",
       "        vertical-align: top;\n",
       "    }\n",
       "\n",
       "    .dataframe thead th {\n",
       "        text-align: right;\n",
       "    }\n",
       "</style>\n",
       "<table border=\"1\" class=\"dataframe\">\n",
       "  <thead>\n",
       "    <tr style=\"text-align: right;\">\n",
       "      <th></th>\n",
       "      <th>age</th>\n",
       "      <th>gender</th>\n",
       "      <th>occupation</th>\n",
       "      <th>zip_code</th>\n",
       "    </tr>\n",
       "  </thead>\n",
       "  <tbody>\n",
       "    <tr>\n",
       "      <th>count</th>\n",
       "      <td>943.000000</td>\n",
       "      <td>943</td>\n",
       "      <td>943</td>\n",
       "      <td>943</td>\n",
       "    </tr>\n",
       "    <tr>\n",
       "      <th>unique</th>\n",
       "      <td>NaN</td>\n",
       "      <td>2</td>\n",
       "      <td>21</td>\n",
       "      <td>795</td>\n",
       "    </tr>\n",
       "    <tr>\n",
       "      <th>top</th>\n",
       "      <td>NaN</td>\n",
       "      <td>M</td>\n",
       "      <td>student</td>\n",
       "      <td>55414</td>\n",
       "    </tr>\n",
       "    <tr>\n",
       "      <th>freq</th>\n",
       "      <td>NaN</td>\n",
       "      <td>670</td>\n",
       "      <td>196</td>\n",
       "      <td>9</td>\n",
       "    </tr>\n",
       "    <tr>\n",
       "      <th>mean</th>\n",
       "      <td>34.051962</td>\n",
       "      <td>NaN</td>\n",
       "      <td>NaN</td>\n",
       "      <td>NaN</td>\n",
       "    </tr>\n",
       "    <tr>\n",
       "      <th>std</th>\n",
       "      <td>12.192740</td>\n",
       "      <td>NaN</td>\n",
       "      <td>NaN</td>\n",
       "      <td>NaN</td>\n",
       "    </tr>\n",
       "    <tr>\n",
       "      <th>min</th>\n",
       "      <td>7.000000</td>\n",
       "      <td>NaN</td>\n",
       "      <td>NaN</td>\n",
       "      <td>NaN</td>\n",
       "    </tr>\n",
       "    <tr>\n",
       "      <th>25%</th>\n",
       "      <td>25.000000</td>\n",
       "      <td>NaN</td>\n",
       "      <td>NaN</td>\n",
       "      <td>NaN</td>\n",
       "    </tr>\n",
       "    <tr>\n",
       "      <th>50%</th>\n",
       "      <td>31.000000</td>\n",
       "      <td>NaN</td>\n",
       "      <td>NaN</td>\n",
       "      <td>NaN</td>\n",
       "    </tr>\n",
       "    <tr>\n",
       "      <th>75%</th>\n",
       "      <td>43.000000</td>\n",
       "      <td>NaN</td>\n",
       "      <td>NaN</td>\n",
       "      <td>NaN</td>\n",
       "    </tr>\n",
       "    <tr>\n",
       "      <th>max</th>\n",
       "      <td>73.000000</td>\n",
       "      <td>NaN</td>\n",
       "      <td>NaN</td>\n",
       "      <td>NaN</td>\n",
       "    </tr>\n",
       "  </tbody>\n",
       "</table>\n",
       "</div>"
      ],
      "text/plain": [
       "               age gender occupation zip_code\n",
       "count   943.000000    943        943      943\n",
       "unique         NaN      2         21      795\n",
       "top            NaN      M    student    55414\n",
       "freq           NaN    670        196        9\n",
       "mean     34.051962    NaN        NaN      NaN\n",
       "std      12.192740    NaN        NaN      NaN\n",
       "min       7.000000    NaN        NaN      NaN\n",
       "25%      25.000000    NaN        NaN      NaN\n",
       "50%      31.000000    NaN        NaN      NaN\n",
       "75%      43.000000    NaN        NaN      NaN\n",
       "max      73.000000    NaN        NaN      NaN"
      ]
     },
     "execution_count": 28,
     "metadata": {},
     "output_type": "execute_result"
    }
   ],
   "source": [
    "users.describe(include='all')"
   ]
  },
  {
   "cell_type": "markdown",
   "id": "79bd4c12",
   "metadata": {},
   "source": [
    "### Step 15. Summarize all the columns"
   ]
  },
  {
   "cell_type": "code",
   "execution_count": null,
   "id": "8b5ea300",
   "metadata": {},
   "outputs": [],
   "source": [
    "users.describe(include='all')"
   ]
  },
  {
   "cell_type": "markdown",
   "id": "42126f94",
   "metadata": {},
   "source": [
    "### Step 16. Summarize only the occupation column"
   ]
  },
  {
   "cell_type": "code",
   "execution_count": 32,
   "id": "28b3daa9",
   "metadata": {},
   "outputs": [
    {
     "data": {
      "text/plain": [
       "count         943\n",
       "unique         21\n",
       "top       student\n",
       "freq          196\n",
       "Name: occupation, dtype: object"
      ]
     },
     "execution_count": 32,
     "metadata": {},
     "output_type": "execute_result"
    }
   ],
   "source": [
    "users['occupation'].describe()"
   ]
  },
  {
   "cell_type": "markdown",
   "id": "e368e6f5",
   "metadata": {},
   "source": [
    "### Step 17. What is the mean age of users?"
   ]
  },
  {
   "cell_type": "code",
   "execution_count": 33,
   "id": "3106a605",
   "metadata": {},
   "outputs": [
    {
     "data": {
      "text/plain": [
       "np.float64(34.05196182396607)"
      ]
     },
     "execution_count": 33,
     "metadata": {},
     "output_type": "execute_result"
    }
   ],
   "source": [
    "users['age'].mean()"
   ]
  },
  {
   "cell_type": "markdown",
   "id": "1e65e834",
   "metadata": {},
   "source": [
    "### Step 18. What is the age with least occurrence?"
   ]
  },
  {
   "cell_type": "code",
   "execution_count": 34,
   "id": "5ee5a0f2",
   "metadata": {},
   "outputs": [
    {
     "data": {
      "text/plain": [
       "np.int64(7)"
      ]
     },
     "execution_count": 34,
     "metadata": {},
     "output_type": "execute_result"
    }
   ],
   "source": [
    "users['age'].value_counts().idxmin()"
   ]
  },
  {
   "cell_type": "markdown",
   "id": "f3303768",
   "metadata": {},
   "source": [
    "## Section 2: Filtering and Sorting"
   ]
  },
  {
   "cell_type": "markdown",
   "id": "f9f86817",
   "metadata": {},
   "source": [
    "### Step 1. Import the necessary libraries"
   ]
  },
  {
   "cell_type": "code",
   "execution_count": null,
   "id": "746df2d7",
   "metadata": {},
   "outputs": [],
   "source": [
    "import pandas as pd\n",
    "import numpy as np"
   ]
  },
  {
   "cell_type": "markdown",
   "id": "00896ee1",
   "metadata": {},
   "source": [
    "### Step 2. Import the dataset from this [address](https://raw.githubusercontent.com/guipsamora/pandas_exercises/master/02_Filtering_%26_Sorting/Euro12/Euro_2012_stats_TEAM.csv). "
   ]
  },
  {
   "cell_type": "markdown",
   "id": "d4d5c165",
   "metadata": {},
   "source": [
    "### Step 3. Assign it to a variable called euro12."
   ]
  },
  {
   "cell_type": "code",
   "execution_count": 37,
   "id": "2976e766",
   "metadata": {},
   "outputs": [],
   "source": [
    "url2 = 'https://raw.githubusercontent.com/guipsamora/pandas_exercises/master/02_Filtering_%26_Sorting/Euro12/Euro_2012_stats_TEAM.csv'\n",
    "euro12 = pd.read_csv(url2)"
   ]
  },
  {
   "cell_type": "markdown",
   "id": "e54e7b26",
   "metadata": {},
   "source": [
    "### Step 4. Select only the Goal column."
   ]
  },
  {
   "cell_type": "code",
   "execution_count": 40,
   "id": "0d68252a",
   "metadata": {},
   "outputs": [
    {
     "data": {
      "text/plain": [
       "0      4\n",
       "1      4\n",
       "2      4\n",
       "3      5\n",
       "4      3\n",
       "5     10\n",
       "6      5\n",
       "7      6\n",
       "8      2\n",
       "9      2\n",
       "10     6\n",
       "11     1\n",
       "12     5\n",
       "13    12\n",
       "14     5\n",
       "15     2\n",
       "Name: Goals, dtype: int64"
      ]
     },
     "execution_count": 40,
     "metadata": {},
     "output_type": "execute_result"
    }
   ],
   "source": [
    "euro12['Goals']"
   ]
  },
  {
   "cell_type": "markdown",
   "id": "3ba9eb18",
   "metadata": {},
   "source": [
    "### Step 5. How many team participated in the Euro2012?"
   ]
  },
  {
   "cell_type": "code",
   "execution_count": 42,
   "id": "2908418c",
   "metadata": {},
   "outputs": [
    {
     "data": {
      "text/plain": [
       "16"
      ]
     },
     "execution_count": 42,
     "metadata": {},
     "output_type": "execute_result"
    }
   ],
   "source": [
    "len(euro12['Team'])"
   ]
  },
  {
   "cell_type": "markdown",
   "id": "974c9458",
   "metadata": {},
   "source": [
    "### Step 6. What is the number of columns in the dataset?"
   ]
  },
  {
   "cell_type": "code",
   "execution_count": 43,
   "id": "149f8fb8",
   "metadata": {},
   "outputs": [
    {
     "data": {
      "text/plain": [
       "35"
      ]
     },
     "execution_count": 43,
     "metadata": {},
     "output_type": "execute_result"
    }
   ],
   "source": [
    "len(euro12.columns)"
   ]
  },
  {
   "cell_type": "markdown",
   "id": "d4e7f6ab",
   "metadata": {},
   "source": [
    "### Step 7. View only the columns Team, Yellow Cards and Red Cards and assign them to a dataframe called discipline"
   ]
  },
  {
   "cell_type": "code",
   "execution_count": 45,
   "id": "7a70b451",
   "metadata": {},
   "outputs": [
    {
     "data": {
      "text/html": [
       "<div>\n",
       "<style scoped>\n",
       "    .dataframe tbody tr th:only-of-type {\n",
       "        vertical-align: middle;\n",
       "    }\n",
       "\n",
       "    .dataframe tbody tr th {\n",
       "        vertical-align: top;\n",
       "    }\n",
       "\n",
       "    .dataframe thead th {\n",
       "        text-align: right;\n",
       "    }\n",
       "</style>\n",
       "<table border=\"1\" class=\"dataframe\">\n",
       "  <thead>\n",
       "    <tr style=\"text-align: right;\">\n",
       "      <th></th>\n",
       "      <th>Team</th>\n",
       "      <th>Yellow Cards</th>\n",
       "      <th>Red Cards</th>\n",
       "    </tr>\n",
       "  </thead>\n",
       "  <tbody>\n",
       "    <tr>\n",
       "      <th>0</th>\n",
       "      <td>Croatia</td>\n",
       "      <td>9</td>\n",
       "      <td>0</td>\n",
       "    </tr>\n",
       "    <tr>\n",
       "      <th>1</th>\n",
       "      <td>Czech Republic</td>\n",
       "      <td>7</td>\n",
       "      <td>0</td>\n",
       "    </tr>\n",
       "    <tr>\n",
       "      <th>2</th>\n",
       "      <td>Denmark</td>\n",
       "      <td>4</td>\n",
       "      <td>0</td>\n",
       "    </tr>\n",
       "    <tr>\n",
       "      <th>3</th>\n",
       "      <td>England</td>\n",
       "      <td>5</td>\n",
       "      <td>0</td>\n",
       "    </tr>\n",
       "    <tr>\n",
       "      <th>4</th>\n",
       "      <td>France</td>\n",
       "      <td>6</td>\n",
       "      <td>0</td>\n",
       "    </tr>\n",
       "    <tr>\n",
       "      <th>5</th>\n",
       "      <td>Germany</td>\n",
       "      <td>4</td>\n",
       "      <td>0</td>\n",
       "    </tr>\n",
       "    <tr>\n",
       "      <th>6</th>\n",
       "      <td>Greece</td>\n",
       "      <td>9</td>\n",
       "      <td>1</td>\n",
       "    </tr>\n",
       "    <tr>\n",
       "      <th>7</th>\n",
       "      <td>Italy</td>\n",
       "      <td>16</td>\n",
       "      <td>0</td>\n",
       "    </tr>\n",
       "    <tr>\n",
       "      <th>8</th>\n",
       "      <td>Netherlands</td>\n",
       "      <td>5</td>\n",
       "      <td>0</td>\n",
       "    </tr>\n",
       "    <tr>\n",
       "      <th>9</th>\n",
       "      <td>Poland</td>\n",
       "      <td>7</td>\n",
       "      <td>1</td>\n",
       "    </tr>\n",
       "    <tr>\n",
       "      <th>10</th>\n",
       "      <td>Portugal</td>\n",
       "      <td>12</td>\n",
       "      <td>0</td>\n",
       "    </tr>\n",
       "    <tr>\n",
       "      <th>11</th>\n",
       "      <td>Republic of Ireland</td>\n",
       "      <td>6</td>\n",
       "      <td>1</td>\n",
       "    </tr>\n",
       "    <tr>\n",
       "      <th>12</th>\n",
       "      <td>Russia</td>\n",
       "      <td>6</td>\n",
       "      <td>0</td>\n",
       "    </tr>\n",
       "    <tr>\n",
       "      <th>13</th>\n",
       "      <td>Spain</td>\n",
       "      <td>11</td>\n",
       "      <td>0</td>\n",
       "    </tr>\n",
       "    <tr>\n",
       "      <th>14</th>\n",
       "      <td>Sweden</td>\n",
       "      <td>7</td>\n",
       "      <td>0</td>\n",
       "    </tr>\n",
       "    <tr>\n",
       "      <th>15</th>\n",
       "      <td>Ukraine</td>\n",
       "      <td>5</td>\n",
       "      <td>0</td>\n",
       "    </tr>\n",
       "  </tbody>\n",
       "</table>\n",
       "</div>"
      ],
      "text/plain": [
       "                   Team  Yellow Cards  Red Cards\n",
       "0               Croatia             9          0\n",
       "1        Czech Republic             7          0\n",
       "2               Denmark             4          0\n",
       "3               England             5          0\n",
       "4                France             6          0\n",
       "5               Germany             4          0\n",
       "6                Greece             9          1\n",
       "7                 Italy            16          0\n",
       "8           Netherlands             5          0\n",
       "9                Poland             7          1\n",
       "10             Portugal            12          0\n",
       "11  Republic of Ireland             6          1\n",
       "12               Russia             6          0\n",
       "13                Spain            11          0\n",
       "14               Sweden             7          0\n",
       "15              Ukraine             5          0"
      ]
     },
     "execution_count": 45,
     "metadata": {},
     "output_type": "execute_result"
    }
   ],
   "source": [
    "discipline = euro12[['Team', 'Yellow Cards', 'Red Cards']]\n",
    "discipline"
   ]
  },
  {
   "cell_type": "markdown",
   "id": "e784fb9e",
   "metadata": {},
   "source": [
    "### Step 8. Sort the teams by Red Cards, then to Yellow Cards"
   ]
  },
  {
   "cell_type": "code",
   "execution_count": 52,
   "id": "13ef25f4",
   "metadata": {
    "scrolled": true
   },
   "outputs": [
    {
     "data": {
      "text/html": [
       "<div>\n",
       "<style scoped>\n",
       "    .dataframe tbody tr th:only-of-type {\n",
       "        vertical-align: middle;\n",
       "    }\n",
       "\n",
       "    .dataframe tbody tr th {\n",
       "        vertical-align: top;\n",
       "    }\n",
       "\n",
       "    .dataframe thead th {\n",
       "        text-align: right;\n",
       "    }\n",
       "</style>\n",
       "<table border=\"1\" class=\"dataframe\">\n",
       "  <thead>\n",
       "    <tr style=\"text-align: right;\">\n",
       "      <th></th>\n",
       "      <th>Team</th>\n",
       "      <th>Yellow Cards</th>\n",
       "      <th>Red Cards</th>\n",
       "    </tr>\n",
       "  </thead>\n",
       "  <tbody>\n",
       "    <tr>\n",
       "      <th>6</th>\n",
       "      <td>Greece</td>\n",
       "      <td>9</td>\n",
       "      <td>1</td>\n",
       "    </tr>\n",
       "    <tr>\n",
       "      <th>9</th>\n",
       "      <td>Poland</td>\n",
       "      <td>7</td>\n",
       "      <td>1</td>\n",
       "    </tr>\n",
       "    <tr>\n",
       "      <th>11</th>\n",
       "      <td>Republic of Ireland</td>\n",
       "      <td>6</td>\n",
       "      <td>1</td>\n",
       "    </tr>\n",
       "    <tr>\n",
       "      <th>7</th>\n",
       "      <td>Italy</td>\n",
       "      <td>16</td>\n",
       "      <td>0</td>\n",
       "    </tr>\n",
       "    <tr>\n",
       "      <th>10</th>\n",
       "      <td>Portugal</td>\n",
       "      <td>12</td>\n",
       "      <td>0</td>\n",
       "    </tr>\n",
       "    <tr>\n",
       "      <th>13</th>\n",
       "      <td>Spain</td>\n",
       "      <td>11</td>\n",
       "      <td>0</td>\n",
       "    </tr>\n",
       "    <tr>\n",
       "      <th>0</th>\n",
       "      <td>Croatia</td>\n",
       "      <td>9</td>\n",
       "      <td>0</td>\n",
       "    </tr>\n",
       "    <tr>\n",
       "      <th>1</th>\n",
       "      <td>Czech Republic</td>\n",
       "      <td>7</td>\n",
       "      <td>0</td>\n",
       "    </tr>\n",
       "    <tr>\n",
       "      <th>14</th>\n",
       "      <td>Sweden</td>\n",
       "      <td>7</td>\n",
       "      <td>0</td>\n",
       "    </tr>\n",
       "    <tr>\n",
       "      <th>4</th>\n",
       "      <td>France</td>\n",
       "      <td>6</td>\n",
       "      <td>0</td>\n",
       "    </tr>\n",
       "    <tr>\n",
       "      <th>12</th>\n",
       "      <td>Russia</td>\n",
       "      <td>6</td>\n",
       "      <td>0</td>\n",
       "    </tr>\n",
       "    <tr>\n",
       "      <th>3</th>\n",
       "      <td>England</td>\n",
       "      <td>5</td>\n",
       "      <td>0</td>\n",
       "    </tr>\n",
       "    <tr>\n",
       "      <th>8</th>\n",
       "      <td>Netherlands</td>\n",
       "      <td>5</td>\n",
       "      <td>0</td>\n",
       "    </tr>\n",
       "    <tr>\n",
       "      <th>15</th>\n",
       "      <td>Ukraine</td>\n",
       "      <td>5</td>\n",
       "      <td>0</td>\n",
       "    </tr>\n",
       "    <tr>\n",
       "      <th>2</th>\n",
       "      <td>Denmark</td>\n",
       "      <td>4</td>\n",
       "      <td>0</td>\n",
       "    </tr>\n",
       "    <tr>\n",
       "      <th>5</th>\n",
       "      <td>Germany</td>\n",
       "      <td>4</td>\n",
       "      <td>0</td>\n",
       "    </tr>\n",
       "  </tbody>\n",
       "</table>\n",
       "</div>"
      ],
      "text/plain": [
       "                   Team  Yellow Cards  Red Cards\n",
       "6                Greece             9          1\n",
       "9                Poland             7          1\n",
       "11  Republic of Ireland             6          1\n",
       "7                 Italy            16          0\n",
       "10             Portugal            12          0\n",
       "13                Spain            11          0\n",
       "0               Croatia             9          0\n",
       "1        Czech Republic             7          0\n",
       "14               Sweden             7          0\n",
       "4                France             6          0\n",
       "12               Russia             6          0\n",
       "3               England             5          0\n",
       "8           Netherlands             5          0\n",
       "15              Ukraine             5          0\n",
       "2               Denmark             4          0\n",
       "5               Germany             4          0"
      ]
     },
     "execution_count": 52,
     "metadata": {},
     "output_type": "execute_result"
    }
   ],
   "source": [
    "discipline.sort_values(by=['Red Cards', 'Yellow Cards'], ascending=False)"
   ]
  },
  {
   "cell_type": "markdown",
   "id": "fde074ed",
   "metadata": {},
   "source": [
    "### Step 9. Calculate the mean Yellow Cards given per Team"
   ]
  },
  {
   "cell_type": "code",
   "execution_count": 53,
   "id": "f3b78c91",
   "metadata": {},
   "outputs": [
    {
     "data": {
      "text/plain": [
       "np.float64(7.4375)"
      ]
     },
     "execution_count": 53,
     "metadata": {},
     "output_type": "execute_result"
    }
   ],
   "source": [
    "discipline['Yellow Cards'].mean()"
   ]
  },
  {
   "cell_type": "markdown",
   "id": "00ae5eb8",
   "metadata": {},
   "source": [
    "### Step 10. Filter teams that scored more than 6 goals"
   ]
  },
  {
   "cell_type": "code",
   "execution_count": 56,
   "id": "64eed392",
   "metadata": {},
   "outputs": [
    {
     "data": {
      "text/html": [
       "<div>\n",
       "<style scoped>\n",
       "    .dataframe tbody tr th:only-of-type {\n",
       "        vertical-align: middle;\n",
       "    }\n",
       "\n",
       "    .dataframe tbody tr th {\n",
       "        vertical-align: top;\n",
       "    }\n",
       "\n",
       "    .dataframe thead th {\n",
       "        text-align: right;\n",
       "    }\n",
       "</style>\n",
       "<table border=\"1\" class=\"dataframe\">\n",
       "  <thead>\n",
       "    <tr style=\"text-align: right;\">\n",
       "      <th></th>\n",
       "      <th>Team</th>\n",
       "      <th>Goals</th>\n",
       "      <th>Shots on target</th>\n",
       "      <th>Shots off target</th>\n",
       "      <th>Shooting Accuracy</th>\n",
       "      <th>% Goals-to-shots</th>\n",
       "      <th>Total shots (inc. Blocked)</th>\n",
       "      <th>Hit Woodwork</th>\n",
       "      <th>Penalty goals</th>\n",
       "      <th>Penalties not scored</th>\n",
       "      <th>...</th>\n",
       "      <th>Saves made</th>\n",
       "      <th>Saves-to-shots ratio</th>\n",
       "      <th>Fouls Won</th>\n",
       "      <th>Fouls Conceded</th>\n",
       "      <th>Offsides</th>\n",
       "      <th>Yellow Cards</th>\n",
       "      <th>Red Cards</th>\n",
       "      <th>Subs on</th>\n",
       "      <th>Subs off</th>\n",
       "      <th>Players Used</th>\n",
       "    </tr>\n",
       "  </thead>\n",
       "  <tbody>\n",
       "    <tr>\n",
       "      <th>5</th>\n",
       "      <td>Germany</td>\n",
       "      <td>10</td>\n",
       "      <td>32</td>\n",
       "      <td>32</td>\n",
       "      <td>47.8%</td>\n",
       "      <td>15.6%</td>\n",
       "      <td>80</td>\n",
       "      <td>2</td>\n",
       "      <td>1</td>\n",
       "      <td>0</td>\n",
       "      <td>...</td>\n",
       "      <td>10</td>\n",
       "      <td>62.6%</td>\n",
       "      <td>63</td>\n",
       "      <td>49</td>\n",
       "      <td>12</td>\n",
       "      <td>4</td>\n",
       "      <td>0</td>\n",
       "      <td>15</td>\n",
       "      <td>15</td>\n",
       "      <td>17</td>\n",
       "    </tr>\n",
       "    <tr>\n",
       "      <th>13</th>\n",
       "      <td>Spain</td>\n",
       "      <td>12</td>\n",
       "      <td>42</td>\n",
       "      <td>33</td>\n",
       "      <td>55.9%</td>\n",
       "      <td>16.0%</td>\n",
       "      <td>100</td>\n",
       "      <td>0</td>\n",
       "      <td>1</td>\n",
       "      <td>0</td>\n",
       "      <td>...</td>\n",
       "      <td>15</td>\n",
       "      <td>93.8%</td>\n",
       "      <td>102</td>\n",
       "      <td>83</td>\n",
       "      <td>19</td>\n",
       "      <td>11</td>\n",
       "      <td>0</td>\n",
       "      <td>17</td>\n",
       "      <td>17</td>\n",
       "      <td>18</td>\n",
       "    </tr>\n",
       "  </tbody>\n",
       "</table>\n",
       "<p>2 rows × 35 columns</p>\n",
       "</div>"
      ],
      "text/plain": [
       "       Team  Goals  Shots on target  Shots off target Shooting Accuracy  \\\n",
       "5   Germany     10               32                32             47.8%   \n",
       "13    Spain     12               42                33             55.9%   \n",
       "\n",
       "   % Goals-to-shots  Total shots (inc. Blocked)  Hit Woodwork  Penalty goals  \\\n",
       "5             15.6%                          80             2              1   \n",
       "13            16.0%                         100             0              1   \n",
       "\n",
       "    Penalties not scored  ...  Saves made  Saves-to-shots ratio  Fouls Won  \\\n",
       "5                      0  ...          10                 62.6%         63   \n",
       "13                     0  ...          15                 93.8%        102   \n",
       "\n",
       "   Fouls Conceded  Offsides  Yellow Cards  Red Cards  Subs on  Subs off  \\\n",
       "5              49        12             4          0       15        15   \n",
       "13             83        19            11          0       17        17   \n",
       "\n",
       "    Players Used  \n",
       "5             17  \n",
       "13            18  \n",
       "\n",
       "[2 rows x 35 columns]"
      ]
     },
     "execution_count": 56,
     "metadata": {},
     "output_type": "execute_result"
    }
   ],
   "source": [
    "euro12[euro12['Goals']>6]"
   ]
  },
  {
   "cell_type": "markdown",
   "id": "03aad66a",
   "metadata": {},
   "source": [
    "### Step 11. Select the teams that start with G"
   ]
  },
  {
   "cell_type": "code",
   "execution_count": 60,
   "id": "874b15c3",
   "metadata": {},
   "outputs": [
    {
     "data": {
      "text/html": [
       "<div>\n",
       "<style scoped>\n",
       "    .dataframe tbody tr th:only-of-type {\n",
       "        vertical-align: middle;\n",
       "    }\n",
       "\n",
       "    .dataframe tbody tr th {\n",
       "        vertical-align: top;\n",
       "    }\n",
       "\n",
       "    .dataframe thead th {\n",
       "        text-align: right;\n",
       "    }\n",
       "</style>\n",
       "<table border=\"1\" class=\"dataframe\">\n",
       "  <thead>\n",
       "    <tr style=\"text-align: right;\">\n",
       "      <th></th>\n",
       "      <th>Team</th>\n",
       "      <th>Goals</th>\n",
       "      <th>Shots on target</th>\n",
       "      <th>Shots off target</th>\n",
       "      <th>Shooting Accuracy</th>\n",
       "      <th>% Goals-to-shots</th>\n",
       "      <th>Total shots (inc. Blocked)</th>\n",
       "      <th>Hit Woodwork</th>\n",
       "      <th>Penalty goals</th>\n",
       "      <th>Penalties not scored</th>\n",
       "      <th>...</th>\n",
       "      <th>Saves made</th>\n",
       "      <th>Saves-to-shots ratio</th>\n",
       "      <th>Fouls Won</th>\n",
       "      <th>Fouls Conceded</th>\n",
       "      <th>Offsides</th>\n",
       "      <th>Yellow Cards</th>\n",
       "      <th>Red Cards</th>\n",
       "      <th>Subs on</th>\n",
       "      <th>Subs off</th>\n",
       "      <th>Players Used</th>\n",
       "    </tr>\n",
       "  </thead>\n",
       "  <tbody>\n",
       "    <tr>\n",
       "      <th>5</th>\n",
       "      <td>Germany</td>\n",
       "      <td>10</td>\n",
       "      <td>32</td>\n",
       "      <td>32</td>\n",
       "      <td>47.8%</td>\n",
       "      <td>15.6%</td>\n",
       "      <td>80</td>\n",
       "      <td>2</td>\n",
       "      <td>1</td>\n",
       "      <td>0</td>\n",
       "      <td>...</td>\n",
       "      <td>10</td>\n",
       "      <td>62.6%</td>\n",
       "      <td>63</td>\n",
       "      <td>49</td>\n",
       "      <td>12</td>\n",
       "      <td>4</td>\n",
       "      <td>0</td>\n",
       "      <td>15</td>\n",
       "      <td>15</td>\n",
       "      <td>17</td>\n",
       "    </tr>\n",
       "    <tr>\n",
       "      <th>6</th>\n",
       "      <td>Greece</td>\n",
       "      <td>5</td>\n",
       "      <td>8</td>\n",
       "      <td>18</td>\n",
       "      <td>30.7%</td>\n",
       "      <td>19.2%</td>\n",
       "      <td>32</td>\n",
       "      <td>1</td>\n",
       "      <td>1</td>\n",
       "      <td>1</td>\n",
       "      <td>...</td>\n",
       "      <td>13</td>\n",
       "      <td>65.1%</td>\n",
       "      <td>67</td>\n",
       "      <td>48</td>\n",
       "      <td>12</td>\n",
       "      <td>9</td>\n",
       "      <td>1</td>\n",
       "      <td>12</td>\n",
       "      <td>12</td>\n",
       "      <td>20</td>\n",
       "    </tr>\n",
       "  </tbody>\n",
       "</table>\n",
       "<p>2 rows × 35 columns</p>\n",
       "</div>"
      ],
      "text/plain": [
       "      Team  Goals  Shots on target  Shots off target Shooting Accuracy  \\\n",
       "5  Germany     10               32                32             47.8%   \n",
       "6   Greece      5                8                18             30.7%   \n",
       "\n",
       "  % Goals-to-shots  Total shots (inc. Blocked)  Hit Woodwork  Penalty goals  \\\n",
       "5            15.6%                          80             2              1   \n",
       "6            19.2%                          32             1              1   \n",
       "\n",
       "   Penalties not scored  ...  Saves made  Saves-to-shots ratio  Fouls Won  \\\n",
       "5                     0  ...          10                 62.6%         63   \n",
       "6                     1  ...          13                 65.1%         67   \n",
       "\n",
       "  Fouls Conceded  Offsides  Yellow Cards  Red Cards  Subs on  Subs off  \\\n",
       "5             49        12             4          0       15        15   \n",
       "6             48        12             9          1       12        12   \n",
       "\n",
       "   Players Used  \n",
       "5            17  \n",
       "6            20  \n",
       "\n",
       "[2 rows x 35 columns]"
      ]
     },
     "execution_count": 60,
     "metadata": {},
     "output_type": "execute_result"
    }
   ],
   "source": [
    "euro12[euro12['Team'].str.startswith('G')]"
   ]
  },
  {
   "cell_type": "markdown",
   "id": "9ed901dd",
   "metadata": {},
   "source": [
    "### Step 12. Select the first 7 columns"
   ]
  },
  {
   "cell_type": "code",
   "execution_count": 63,
   "id": "3f87316e",
   "metadata": {},
   "outputs": [
    {
     "data": {
      "text/plain": [
       "Index(['Team', 'Goals', 'Shots on target', 'Shots off target',\n",
       "       'Shooting Accuracy'],\n",
       "      dtype='object')"
      ]
     },
     "execution_count": 63,
     "metadata": {},
     "output_type": "execute_result"
    }
   ],
   "source": [
    "euro12.columns[:5]"
   ]
  },
  {
   "cell_type": "markdown",
   "id": "15593c76",
   "metadata": {},
   "source": [
    "### Step 13. Select all columns except the last 3."
   ]
  },
  {
   "cell_type": "code",
   "execution_count": 66,
   "id": "4c755212",
   "metadata": {},
   "outputs": [
    {
     "data": {
      "text/plain": [
       "Index(['Team', 'Goals', 'Shots on target', 'Shots off target',\n",
       "       'Shooting Accuracy', '% Goals-to-shots', 'Total shots (inc. Blocked)',\n",
       "       'Hit Woodwork', 'Penalty goals', 'Penalties not scored', 'Headed goals',\n",
       "       'Passes', 'Passes completed', 'Passing Accuracy', 'Touches', 'Crosses',\n",
       "       'Dribbles', 'Corners Taken', 'Tackles', 'Clearances', 'Interceptions',\n",
       "       'Clearances off line', 'Clean Sheets', 'Blocks', 'Goals conceded',\n",
       "       'Saves made', 'Saves-to-shots ratio', 'Fouls Won', 'Fouls Conceded',\n",
       "       'Offsides', 'Yellow Cards', 'Red Cards'],\n",
       "      dtype='object')"
      ]
     },
     "execution_count": 66,
     "metadata": {},
     "output_type": "execute_result"
    }
   ],
   "source": [
    "euro12.columns[:-3]"
   ]
  },
  {
   "cell_type": "markdown",
   "id": "bd96dc64",
   "metadata": {},
   "source": [
    "### Step 14. Present only the Shooting Accuracy from England, Italy and Russia"
   ]
  },
  {
   "cell_type": "code",
   "execution_count": 69,
   "id": "aa451946",
   "metadata": {},
   "outputs": [
    {
     "data": {
      "text/html": [
       "<div>\n",
       "<style scoped>\n",
       "    .dataframe tbody tr th:only-of-type {\n",
       "        vertical-align: middle;\n",
       "    }\n",
       "\n",
       "    .dataframe tbody tr th {\n",
       "        vertical-align: top;\n",
       "    }\n",
       "\n",
       "    .dataframe thead th {\n",
       "        text-align: right;\n",
       "    }\n",
       "</style>\n",
       "<table border=\"1\" class=\"dataframe\">\n",
       "  <thead>\n",
       "    <tr style=\"text-align: right;\">\n",
       "      <th></th>\n",
       "      <th>Team</th>\n",
       "      <th>Shooting Accuracy</th>\n",
       "    </tr>\n",
       "  </thead>\n",
       "  <tbody>\n",
       "    <tr>\n",
       "      <th>3</th>\n",
       "      <td>England</td>\n",
       "      <td>50.0%</td>\n",
       "    </tr>\n",
       "    <tr>\n",
       "      <th>7</th>\n",
       "      <td>Italy</td>\n",
       "      <td>43.0%</td>\n",
       "    </tr>\n",
       "    <tr>\n",
       "      <th>12</th>\n",
       "      <td>Russia</td>\n",
       "      <td>22.5%</td>\n",
       "    </tr>\n",
       "  </tbody>\n",
       "</table>\n",
       "</div>"
      ],
      "text/plain": [
       "       Team Shooting Accuracy\n",
       "3   England             50.0%\n",
       "7     Italy             43.0%\n",
       "12   Russia             22.5%"
      ]
     },
     "execution_count": 69,
     "metadata": {},
     "output_type": "execute_result"
    }
   ],
   "source": [
    "euro12[euro12['Team'].isin(['England','Italy', 'Russia'])][['Team', 'Shooting Accuracy']]"
   ]
  },
  {
   "cell_type": "markdown",
   "id": "56ffa63b",
   "metadata": {},
   "source": [
    "## Section 3: Grouping"
   ]
  },
  {
   "cell_type": "markdown",
   "id": "907efa1f",
   "metadata": {},
   "source": [
    "### Step 1. Import the necessary libraries"
   ]
  },
  {
   "cell_type": "code",
   "execution_count": 75,
   "id": "60724404",
   "metadata": {},
   "outputs": [],
   "source": [
    "import pandas as pd\n",
    "import numpy as np\n",
    "url3 = 'https://raw.githubusercontent.com/justmarkham/DAT8/master/data/drinks.csv'"
   ]
  },
  {
   "cell_type": "markdown",
   "id": "08d87139",
   "metadata": {},
   "source": [
    "### Step 2. Import the dataset from this [address](https://raw.githubusercontent.com/justmarkham/DAT8/master/data/drinks.csv). "
   ]
  },
  {
   "cell_type": "markdown",
   "id": "ec6872ce",
   "metadata": {},
   "source": [
    "### Step 3. Assign it to a variable called drinks."
   ]
  },
  {
   "cell_type": "code",
   "execution_count": 76,
   "id": "4839ebdc",
   "metadata": {},
   "outputs": [],
   "source": [
    "drinks = pd.read_csv(url3)"
   ]
  },
  {
   "cell_type": "markdown",
   "id": "f5797352",
   "metadata": {},
   "source": [
    "### Step 4. Which continent drinks more beer on average?"
   ]
  },
  {
   "cell_type": "code",
   "execution_count": 77,
   "id": "9598d104",
   "metadata": {},
   "outputs": [
    {
     "data": {
      "text/plain": [
       "continent\n",
       "AF     61.471698\n",
       "AS     37.045455\n",
       "EU    193.777778\n",
       "OC     89.687500\n",
       "SA    175.083333\n",
       "Name: beer_servings, dtype: float64"
      ]
     },
     "execution_count": 77,
     "metadata": {},
     "output_type": "execute_result"
    }
   ],
   "source": [
    "drinks.groupby('continent')['beer_servings'].mean()\n"
   ]
  },
  {
   "cell_type": "markdown",
   "id": "7f6cc612",
   "metadata": {},
   "source": [
    "### Step 5. For each continent print the statistics for wine consumption."
   ]
  },
  {
   "cell_type": "code",
   "execution_count": 79,
   "id": "1ef89cb2",
   "metadata": {},
   "outputs": [
    {
     "data": {
      "text/html": [
       "<div>\n",
       "<style scoped>\n",
       "    .dataframe tbody tr th:only-of-type {\n",
       "        vertical-align: middle;\n",
       "    }\n",
       "\n",
       "    .dataframe tbody tr th {\n",
       "        vertical-align: top;\n",
       "    }\n",
       "\n",
       "    .dataframe thead th {\n",
       "        text-align: right;\n",
       "    }\n",
       "</style>\n",
       "<table border=\"1\" class=\"dataframe\">\n",
       "  <thead>\n",
       "    <tr style=\"text-align: right;\">\n",
       "      <th></th>\n",
       "      <th>count</th>\n",
       "      <th>mean</th>\n",
       "      <th>std</th>\n",
       "      <th>min</th>\n",
       "      <th>25%</th>\n",
       "      <th>50%</th>\n",
       "      <th>75%</th>\n",
       "      <th>max</th>\n",
       "    </tr>\n",
       "    <tr>\n",
       "      <th>continent</th>\n",
       "      <th></th>\n",
       "      <th></th>\n",
       "      <th></th>\n",
       "      <th></th>\n",
       "      <th></th>\n",
       "      <th></th>\n",
       "      <th></th>\n",
       "      <th></th>\n",
       "    </tr>\n",
       "  </thead>\n",
       "  <tbody>\n",
       "    <tr>\n",
       "      <th>AF</th>\n",
       "      <td>53.0</td>\n",
       "      <td>16.264151</td>\n",
       "      <td>38.846419</td>\n",
       "      <td>0.0</td>\n",
       "      <td>1.0</td>\n",
       "      <td>2.0</td>\n",
       "      <td>13.00</td>\n",
       "      <td>233.0</td>\n",
       "    </tr>\n",
       "    <tr>\n",
       "      <th>AS</th>\n",
       "      <td>44.0</td>\n",
       "      <td>9.068182</td>\n",
       "      <td>21.667034</td>\n",
       "      <td>0.0</td>\n",
       "      <td>0.0</td>\n",
       "      <td>1.0</td>\n",
       "      <td>8.00</td>\n",
       "      <td>123.0</td>\n",
       "    </tr>\n",
       "    <tr>\n",
       "      <th>EU</th>\n",
       "      <td>45.0</td>\n",
       "      <td>142.222222</td>\n",
       "      <td>97.421738</td>\n",
       "      <td>0.0</td>\n",
       "      <td>59.0</td>\n",
       "      <td>128.0</td>\n",
       "      <td>195.00</td>\n",
       "      <td>370.0</td>\n",
       "    </tr>\n",
       "    <tr>\n",
       "      <th>OC</th>\n",
       "      <td>16.0</td>\n",
       "      <td>35.625000</td>\n",
       "      <td>64.555790</td>\n",
       "      <td>0.0</td>\n",
       "      <td>1.0</td>\n",
       "      <td>8.5</td>\n",
       "      <td>23.25</td>\n",
       "      <td>212.0</td>\n",
       "    </tr>\n",
       "    <tr>\n",
       "      <th>SA</th>\n",
       "      <td>12.0</td>\n",
       "      <td>62.416667</td>\n",
       "      <td>88.620189</td>\n",
       "      <td>1.0</td>\n",
       "      <td>3.0</td>\n",
       "      <td>12.0</td>\n",
       "      <td>98.50</td>\n",
       "      <td>221.0</td>\n",
       "    </tr>\n",
       "  </tbody>\n",
       "</table>\n",
       "</div>"
      ],
      "text/plain": [
       "           count        mean        std  min   25%    50%     75%    max\n",
       "continent                                                               \n",
       "AF          53.0   16.264151  38.846419  0.0   1.0    2.0   13.00  233.0\n",
       "AS          44.0    9.068182  21.667034  0.0   0.0    1.0    8.00  123.0\n",
       "EU          45.0  142.222222  97.421738  0.0  59.0  128.0  195.00  370.0\n",
       "OC          16.0   35.625000  64.555790  0.0   1.0    8.5   23.25  212.0\n",
       "SA          12.0   62.416667  88.620189  1.0   3.0   12.0   98.50  221.0"
      ]
     },
     "execution_count": 79,
     "metadata": {},
     "output_type": "execute_result"
    }
   ],
   "source": [
    "drinks.groupby('continent')['wine_servings'].describe()"
   ]
  },
  {
   "cell_type": "markdown",
   "id": "fb845470",
   "metadata": {},
   "source": [
    "### Step 6. Print the mean alcohol consumption per continent for every column"
   ]
  },
  {
   "cell_type": "code",
   "execution_count": 80,
   "id": "4e588a9d",
   "metadata": {},
   "outputs": [
    {
     "data": {
      "text/html": [
       "<div>\n",
       "<style scoped>\n",
       "    .dataframe tbody tr th:only-of-type {\n",
       "        vertical-align: middle;\n",
       "    }\n",
       "\n",
       "    .dataframe tbody tr th {\n",
       "        vertical-align: top;\n",
       "    }\n",
       "\n",
       "    .dataframe thead th {\n",
       "        text-align: right;\n",
       "    }\n",
       "</style>\n",
       "<table border=\"1\" class=\"dataframe\">\n",
       "  <thead>\n",
       "    <tr style=\"text-align: right;\">\n",
       "      <th></th>\n",
       "      <th>beer_servings</th>\n",
       "      <th>spirit_servings</th>\n",
       "      <th>wine_servings</th>\n",
       "      <th>total_litres_of_pure_alcohol</th>\n",
       "    </tr>\n",
       "    <tr>\n",
       "      <th>continent</th>\n",
       "      <th></th>\n",
       "      <th></th>\n",
       "      <th></th>\n",
       "      <th></th>\n",
       "    </tr>\n",
       "  </thead>\n",
       "  <tbody>\n",
       "    <tr>\n",
       "      <th>AF</th>\n",
       "      <td>61.471698</td>\n",
       "      <td>16.339623</td>\n",
       "      <td>16.264151</td>\n",
       "      <td>3.007547</td>\n",
       "    </tr>\n",
       "    <tr>\n",
       "      <th>AS</th>\n",
       "      <td>37.045455</td>\n",
       "      <td>60.840909</td>\n",
       "      <td>9.068182</td>\n",
       "      <td>2.170455</td>\n",
       "    </tr>\n",
       "    <tr>\n",
       "      <th>EU</th>\n",
       "      <td>193.777778</td>\n",
       "      <td>132.555556</td>\n",
       "      <td>142.222222</td>\n",
       "      <td>8.617778</td>\n",
       "    </tr>\n",
       "    <tr>\n",
       "      <th>OC</th>\n",
       "      <td>89.687500</td>\n",
       "      <td>58.437500</td>\n",
       "      <td>35.625000</td>\n",
       "      <td>3.381250</td>\n",
       "    </tr>\n",
       "    <tr>\n",
       "      <th>SA</th>\n",
       "      <td>175.083333</td>\n",
       "      <td>114.750000</td>\n",
       "      <td>62.416667</td>\n",
       "      <td>6.308333</td>\n",
       "    </tr>\n",
       "  </tbody>\n",
       "</table>\n",
       "</div>"
      ],
      "text/plain": [
       "           beer_servings  spirit_servings  wine_servings  \\\n",
       "continent                                                  \n",
       "AF             61.471698        16.339623      16.264151   \n",
       "AS             37.045455        60.840909       9.068182   \n",
       "EU            193.777778       132.555556     142.222222   \n",
       "OC             89.687500        58.437500      35.625000   \n",
       "SA            175.083333       114.750000      62.416667   \n",
       "\n",
       "           total_litres_of_pure_alcohol  \n",
       "continent                                \n",
       "AF                             3.007547  \n",
       "AS                             2.170455  \n",
       "EU                             8.617778  \n",
       "OC                             3.381250  \n",
       "SA                             6.308333  "
      ]
     },
     "execution_count": 80,
     "metadata": {},
     "output_type": "execute_result"
    }
   ],
   "source": [
    "drinks.groupby('continent').mean(numeric_only=True)"
   ]
  },
  {
   "cell_type": "markdown",
   "id": "e9434abc",
   "metadata": {},
   "source": [
    "### Step 7. Print the median alcohol consumption per continent for every column"
   ]
  },
  {
   "cell_type": "code",
   "execution_count": 82,
   "id": "34a57ae2",
   "metadata": {},
   "outputs": [
    {
     "data": {
      "text/html": [
       "<div>\n",
       "<style scoped>\n",
       "    .dataframe tbody tr th:only-of-type {\n",
       "        vertical-align: middle;\n",
       "    }\n",
       "\n",
       "    .dataframe tbody tr th {\n",
       "        vertical-align: top;\n",
       "    }\n",
       "\n",
       "    .dataframe thead th {\n",
       "        text-align: right;\n",
       "    }\n",
       "</style>\n",
       "<table border=\"1\" class=\"dataframe\">\n",
       "  <thead>\n",
       "    <tr style=\"text-align: right;\">\n",
       "      <th></th>\n",
       "      <th>beer_servings</th>\n",
       "      <th>spirit_servings</th>\n",
       "      <th>wine_servings</th>\n",
       "      <th>total_litres_of_pure_alcohol</th>\n",
       "    </tr>\n",
       "    <tr>\n",
       "      <th>continent</th>\n",
       "      <th></th>\n",
       "      <th></th>\n",
       "      <th></th>\n",
       "      <th></th>\n",
       "    </tr>\n",
       "  </thead>\n",
       "  <tbody>\n",
       "    <tr>\n",
       "      <th>AF</th>\n",
       "      <td>32.0</td>\n",
       "      <td>3.0</td>\n",
       "      <td>2.0</td>\n",
       "      <td>2.30</td>\n",
       "    </tr>\n",
       "    <tr>\n",
       "      <th>AS</th>\n",
       "      <td>17.5</td>\n",
       "      <td>16.0</td>\n",
       "      <td>1.0</td>\n",
       "      <td>1.20</td>\n",
       "    </tr>\n",
       "    <tr>\n",
       "      <th>EU</th>\n",
       "      <td>219.0</td>\n",
       "      <td>122.0</td>\n",
       "      <td>128.0</td>\n",
       "      <td>10.00</td>\n",
       "    </tr>\n",
       "    <tr>\n",
       "      <th>OC</th>\n",
       "      <td>52.5</td>\n",
       "      <td>37.0</td>\n",
       "      <td>8.5</td>\n",
       "      <td>1.75</td>\n",
       "    </tr>\n",
       "    <tr>\n",
       "      <th>SA</th>\n",
       "      <td>162.5</td>\n",
       "      <td>108.5</td>\n",
       "      <td>12.0</td>\n",
       "      <td>6.85</td>\n",
       "    </tr>\n",
       "  </tbody>\n",
       "</table>\n",
       "</div>"
      ],
      "text/plain": [
       "           beer_servings  spirit_servings  wine_servings  \\\n",
       "continent                                                  \n",
       "AF                  32.0              3.0            2.0   \n",
       "AS                  17.5             16.0            1.0   \n",
       "EU                 219.0            122.0          128.0   \n",
       "OC                  52.5             37.0            8.5   \n",
       "SA                 162.5            108.5           12.0   \n",
       "\n",
       "           total_litres_of_pure_alcohol  \n",
       "continent                                \n",
       "AF                                 2.30  \n",
       "AS                                 1.20  \n",
       "EU                                10.00  \n",
       "OC                                 1.75  \n",
       "SA                                 6.85  "
      ]
     },
     "execution_count": 82,
     "metadata": {},
     "output_type": "execute_result"
    }
   ],
   "source": [
    "drinks.groupby('continent').median(numeric_only=True)"
   ]
  },
  {
   "cell_type": "markdown",
   "id": "a0ab2bd5",
   "metadata": {},
   "source": [
    "### Step 8. Print the mean, min and max values for spirit consumption.\n",
    "#### This time output a DataFrame"
   ]
  },
  {
   "cell_type": "code",
   "execution_count": 91,
   "id": "93d9779b",
   "metadata": {},
   "outputs": [
    {
     "name": "stdout",
     "output_type": "stream",
     "text": [
      "80.99481865284974\n",
      "0\n",
      "438\n"
     ]
    }
   ],
   "source": [
    "print(drinks['spirit_servings'].mean())\n",
    "print(drinks['spirit_servings'].min())\n",
    "print(drinks['spirit_servings'].max())"
   ]
  },
  {
   "cell_type": "markdown",
   "id": "9fe6c338",
   "metadata": {},
   "source": [
    "## Section 4: Apply"
   ]
  },
  {
   "cell_type": "markdown",
   "id": "2ac338e2",
   "metadata": {},
   "source": [
    "### Step 1. Import the necessary libraries"
   ]
  },
  {
   "cell_type": "code",
   "execution_count": null,
   "id": "55a7863f",
   "metadata": {},
   "outputs": [],
   "source": [
    "import pandas as pd\n",
    "import numpy as np"
   ]
  },
  {
   "cell_type": "markdown",
   "id": "d7d4e41b",
   "metadata": {},
   "source": [
    "### Step 2. Import the dataset from this [address](https://raw.githubusercontent.com/guipsamora/pandas_exercises/master/04_Apply/US_Crime_Rates/US_Crime_Rates_1960_2014.csv). "
   ]
  },
  {
   "cell_type": "markdown",
   "id": "c35b9589",
   "metadata": {},
   "source": [
    "### Step 3. Assign it to a variable called crime."
   ]
  },
  {
   "cell_type": "code",
   "execution_count": 96,
   "id": "279afa18",
   "metadata": {},
   "outputs": [
    {
     "name": "stdout",
     "output_type": "stream",
     "text": [
      "    Year  Population     Total  Violent  Property  Murder  Forcible_Rape  \\\n",
      "0   1960   179323175   3384200   288460   3095700    9110          17190   \n",
      "1   1961   182992000   3488000   289390   3198600    8740          17220   \n",
      "2   1962   185771000   3752200   301510   3450700    8530          17550   \n",
      "3   1963   188483000   4109500   316970   3792500    8640          17650   \n",
      "4   1964   191141000   4564600   364220   4200400    9360          21420   \n",
      "5   1965   193526000   4739400   387390   4352000    9960          23410   \n",
      "6   1966   195576000   5223500   430180   4793300   11040          25820   \n",
      "7   1967   197457000   5903400   499930   5403500   12240          27620   \n",
      "8   1968   199399000   6720200   595010   6125200   13800          31670   \n",
      "9   1969   201385000   7410900   661870   6749000   14760          37170   \n",
      "10  1970   203235298   8098000   738820   7359200   16000          37990   \n",
      "11  1971   206212000   8588200   816500   7771700   17780          42260   \n",
      "12  1972   208230000   8248800   834900   7413900   18670          46850   \n",
      "13  1973   209851000   8718100   875910   7842200   19640          51400   \n",
      "14  1974   211392000  10253400   974720   9278700   20710          55400   \n",
      "15  1975   213124000  11292400  1039710  10252700   20510          56090   \n",
      "16  1976   214659000  11349700  1004210  10345500   18780          57080   \n",
      "17  1977   216332000  10984500  1029580   9955000   19120          63500   \n",
      "18  1978   218059000  11209000  1085550  10123400   19560          67610   \n",
      "19  1979   220099000  12249500  1208030  11041500   21460          76390   \n",
      "20  1980   225349264  13408300  1344520  12063700   23040          82990   \n",
      "21  1981   229146000  13423800  1361820  12061900   22520          82500   \n",
      "22  1982   231534000  12974400  1322390  11652000   21010          78770   \n",
      "23  1983   233981000  12108600  1258090  10850500   19310          78920   \n",
      "24  1984   236158000  11881800  1273280  10608500   18690          84230   \n",
      "25  1985   238740000  12431400  1328800  11102600   18980          88670   \n",
      "26  1986   240132887  13211869  1489169  11722700   20613          91459   \n",
      "27  1987   242282918  13508700  1483999  12024700   20096          91110   \n",
      "28  1988   245807000  13923100  1566220  12356900   20680          92490   \n",
      "29  1989   248239000  14251400  1646040  12605400   21500          94500   \n",
      "30  1990   248709873  14475600  1820130  12655500   23440         102560   \n",
      "31  1991   252177000  14872900  1911770  12961100   24700         106590   \n",
      "32  1992   255082000  14438200  1932270  12505900   23760         109060   \n",
      "33  1993   257908000  14144800  1926020  12218800   24530         106010   \n",
      "34  1994   260341000  13989500  1857670  12131900   23330         102220   \n",
      "35  1995   262755000  13862700  1798790  12063900   21610          97470   \n",
      "36  1996   265228572  13493863  1688540  11805300   19650          96250   \n",
      "37  1997   267637000  13194571  1634770  11558175   18208          96153   \n",
      "38  1998   270296000  12475634  1531044  10944590   16914          93103   \n",
      "39  1999   272690813  11634378  1426044  10208334   15522          89411   \n",
      "40  2000   281421906  11608072  1425486  10182586   15586          90178   \n",
      "41  2001   285317559  11876669  1439480  10437480   16037          90863   \n",
      "42  2002   287973924  11878954  1423677  10455277   16229          95235   \n",
      "43  2003   290690788  11826538  1383676  10442862   16528          93883   \n",
      "44  2004   293656842  11679474  1360088  10319386   16148          95089   \n",
      "45  2005   296507061  11565499  1390745  10174754   16740          94347   \n",
      "46  2006   299398484  11401511  1418043   9983568   17030          92757   \n",
      "47  2007   301621157  11251828  1408337   9843481   16929          90427   \n",
      "48  2008   304374846  11160543  1392628   9767915   16442          90479   \n",
      "49  2009   307006550  10762956  1325896   9337060   15399          89241   \n",
      "50  2010   309330219  10363873  1251248   9112625   14772          85593   \n",
      "51  2011   311587816  10258774  1206031   9052743   14661          84175   \n",
      "52  2012   313873685  10219059  1217067   9001992   14866          85141   \n",
      "53  2013   316497531   9850445  1199684   8650761   14319          82109   \n",
      "54  2014   318857056   9475816  1197987   8277829   14249          84041   \n",
      "\n",
      "    Robbery  Aggravated_assault  Burglary  Larceny_Theft  Vehicle_Theft  \n",
      "0    107840              154320    912100        1855400         328200  \n",
      "1    106670              156760    949600        1913000         336000  \n",
      "2    110860              164570    994300        2089600         366800  \n",
      "3    116470              174210   1086400        2297800         408300  \n",
      "4    130390              203050   1213200        2514400         472800  \n",
      "5    138690              215330   1282500        2572600         496900  \n",
      "6    157990              235330   1410100        2822000         561200  \n",
      "7    202910              257160   1632100        3111600         659800  \n",
      "8    262840              286700   1858900        3482700         783600  \n",
      "9    298850              311090   1981900        3888600         878500  \n",
      "10   349860              334970   2205000        4225800         928400  \n",
      "11   387700              368760   2399300        4424200         948200  \n",
      "12   376290              393090   2375500        4151200         887200  \n",
      "13   384220              420650   2565500        4347900         928800  \n",
      "14   442400              456210   3039200        5262500         977100  \n",
      "15   470500              492620   3265300        5977700        1009600  \n",
      "16   427810              500530   3108700        6270800         966000  \n",
      "17   412610              534350   3071500        5905700         977700  \n",
      "18   426930              571460   3128300        5991000        1004100  \n",
      "19   480700              629480   3327700        6601000        1112800  \n",
      "20   565840              672650   3795200        7136900        1131700  \n",
      "21   592910              663900   3779700        7194400        1087800  \n",
      "22   553130              669480   3447100        7142500        1062400  \n",
      "23   506570              653290   3129900        6712800        1007900  \n",
      "24   485010              685350   2984400        6591900        1032200  \n",
      "25   497870              723250   3073300        6926400        1102900  \n",
      "26   542775              834322   3241410        7257153        1224137  \n",
      "27   517704              855088   3236184        7499900        1288674  \n",
      "28   542970              910090   3218100        7705900        1432900  \n",
      "29   578330              951710   3168200        7872400        1564800  \n",
      "30   639270             1054860   3073900        7945700        1635900  \n",
      "31   687730             1092740   3157200        8142200        1661700  \n",
      "32   672480             1126970   2979900        7915200        1610800  \n",
      "33   659870             1135610   2834800        7820900        1563100  \n",
      "34   618950             1113180   2712800        7879800        1539300  \n",
      "35   580510             1099210   2593800        7997700        1472400  \n",
      "36   535590             1037050   2506400        7904700        1394200  \n",
      "37   498534             1023201   2460526        7743760        1354189  \n",
      "38   446625              974402   2329950        7373886        1240754  \n",
      "39   409371              911740   2100739        6955520        1152075  \n",
      "40   408016              911706   2050992        6971590        1160002  \n",
      "41   423557              909023   2116531        7092267        1228391  \n",
      "42   420806              891407   2151252        7057370        1246646  \n",
      "43   414235              859030   2154834        7026802        1261226  \n",
      "44   401470              847381   2144446        6937089        1237851  \n",
      "45   417438              862220   2155448        6783447        1235859  \n",
      "46   447403              860853   2183746        6607013        1192809  \n",
      "47   445125              855856   2176140        6568572        1095769  \n",
      "48   443574              842134   2228474        6588046         958629  \n",
      "49   408742              812514   2203313        6338095         795652  \n",
      "50   369089              781844   2168457        6204601         739565  \n",
      "51   354772              752423   2185140        6151095         716508  \n",
      "52   355051              762009   2109932        6168874         723186  \n",
      "53   345095              726575   1931835        6018632         700294  \n",
      "54   325802              741291   1729806        5858496         689527  \n"
     ]
    }
   ],
   "source": [
    "url4 = 'https://raw.githubusercontent.com/guipsamora/pandas_exercises/master/04_Apply/US_Crime_Rates/US_Crime_Rates_1960_2014.csv'\n",
    "crime = pd.read_csv(url4)\n",
    "print(crime)"
   ]
  },
  {
   "cell_type": "markdown",
   "id": "8af7de8e",
   "metadata": {},
   "source": [
    "### Step 4. What is the type of the columns?"
   ]
  },
  {
   "cell_type": "code",
   "execution_count": 102,
   "id": "d6b6d061",
   "metadata": {},
   "outputs": [
    {
     "name": "stdout",
     "output_type": "stream",
     "text": [
      "<class 'pandas.core.frame.DataFrame'>\n",
      "RangeIndex: 55 entries, 0 to 54\n",
      "Data columns (total 12 columns):\n",
      " #   Column              Non-Null Count  Dtype\n",
      "---  ------              --------------  -----\n",
      " 0   Year                55 non-null     int64\n",
      " 1   Population          55 non-null     int64\n",
      " 2   Total               55 non-null     int64\n",
      " 3   Violent             55 non-null     int64\n",
      " 4   Property            55 non-null     int64\n",
      " 5   Murder              55 non-null     int64\n",
      " 6   Forcible_Rape       55 non-null     int64\n",
      " 7   Robbery             55 non-null     int64\n",
      " 8   Aggravated_assault  55 non-null     int64\n",
      " 9   Burglary            55 non-null     int64\n",
      " 10  Larceny_Theft       55 non-null     int64\n",
      " 11  Vehicle_Theft       55 non-null     int64\n",
      "dtypes: int64(12)\n",
      "memory usage: 5.3 KB\n"
     ]
    }
   ],
   "source": [
    "crime.info()"
   ]
  },
  {
   "cell_type": "markdown",
   "id": "0c0eda69",
   "metadata": {},
   "source": [
    "##### Have you noticed that the type of Year is int64. But pandas has a different type to work with Time Series. Let's see it now.\n",
    "\n",
    "### Step 5. Convert the type of the column Year to datetime64"
   ]
  },
  {
   "cell_type": "code",
   "execution_count": 123,
   "id": "a7ddd5b4",
   "metadata": {},
   "outputs": [
    {
     "data": {
      "text/plain": [
       "DatetimeIndex(['1960-01-01', '1961-01-01', '1962-01-01', '1963-01-01',\n",
       "               '1964-01-01', '1965-01-01', '1966-01-01', '1967-01-01',\n",
       "               '1968-01-01', '1969-01-01', '1970-01-01', '1971-01-01',\n",
       "               '1972-01-01', '1973-01-01', '1974-01-01', '1975-01-01',\n",
       "               '1976-01-01', '1977-01-01', '1978-01-01', '1979-01-01',\n",
       "               '1980-01-01', '1981-01-01', '1982-01-01', '1983-01-01',\n",
       "               '1984-01-01', '1985-01-01', '1986-01-01', '1987-01-01',\n",
       "               '1988-01-01', '1989-01-01', '1990-01-01', '1991-01-01',\n",
       "               '1992-01-01', '1993-01-01', '1994-01-01', '1995-01-01',\n",
       "               '1996-01-01', '1997-01-01', '1998-01-01', '1999-01-01',\n",
       "               '2000-01-01', '2001-01-01', '2002-01-01', '2003-01-01',\n",
       "               '2004-01-01', '2005-01-01', '2006-01-01', '2007-01-01',\n",
       "               '2008-01-01', '2009-01-01', '2010-01-01', '2011-01-01',\n",
       "               '2012-01-01', '2013-01-01', '2014-01-01'],\n",
       "              dtype='datetime64[ns]', name='Year', freq=None)"
      ]
     },
     "execution_count": 123,
     "metadata": {},
     "output_type": "execute_result"
    }
   ],
   "source": [
    "crime.index = pd.to_datetime(crime.index, format='%Y')\n",
    "crime.index"
   ]
  },
  {
   "cell_type": "markdown",
   "id": "a7bbcef2",
   "metadata": {},
   "source": [
    "### Step 6. Set the Year column as the index of the dataframe"
   ]
  },
  {
   "cell_type": "code",
   "execution_count": 124,
   "id": "00dedda7",
   "metadata": {},
   "outputs": [
    {
     "data": {
      "text/html": [
       "<div>\n",
       "<style scoped>\n",
       "    .dataframe tbody tr th:only-of-type {\n",
       "        vertical-align: middle;\n",
       "    }\n",
       "\n",
       "    .dataframe tbody tr th {\n",
       "        vertical-align: top;\n",
       "    }\n",
       "\n",
       "    .dataframe thead th {\n",
       "        text-align: right;\n",
       "    }\n",
       "</style>\n",
       "<table border=\"1\" class=\"dataframe\">\n",
       "  <thead>\n",
       "    <tr style=\"text-align: right;\">\n",
       "      <th></th>\n",
       "      <th>Population</th>\n",
       "      <th>Total</th>\n",
       "      <th>Violent</th>\n",
       "      <th>Property</th>\n",
       "      <th>Murder</th>\n",
       "      <th>Forcible_Rape</th>\n",
       "      <th>Robbery</th>\n",
       "      <th>Aggravated_assault</th>\n",
       "      <th>Burglary</th>\n",
       "      <th>Larceny_Theft</th>\n",
       "      <th>Vehicle_Theft</th>\n",
       "    </tr>\n",
       "    <tr>\n",
       "      <th>Year</th>\n",
       "      <th></th>\n",
       "      <th></th>\n",
       "      <th></th>\n",
       "      <th></th>\n",
       "      <th></th>\n",
       "      <th></th>\n",
       "      <th></th>\n",
       "      <th></th>\n",
       "      <th></th>\n",
       "      <th></th>\n",
       "      <th></th>\n",
       "    </tr>\n",
       "  </thead>\n",
       "  <tbody>\n",
       "    <tr>\n",
       "      <th>1960-01-01</th>\n",
       "      <td>179323175</td>\n",
       "      <td>3384200</td>\n",
       "      <td>288460</td>\n",
       "      <td>3095700</td>\n",
       "      <td>9110</td>\n",
       "      <td>17190</td>\n",
       "      <td>107840</td>\n",
       "      <td>154320</td>\n",
       "      <td>912100</td>\n",
       "      <td>1855400</td>\n",
       "      <td>328200</td>\n",
       "    </tr>\n",
       "    <tr>\n",
       "      <th>1961-01-01</th>\n",
       "      <td>182992000</td>\n",
       "      <td>3488000</td>\n",
       "      <td>289390</td>\n",
       "      <td>3198600</td>\n",
       "      <td>8740</td>\n",
       "      <td>17220</td>\n",
       "      <td>106670</td>\n",
       "      <td>156760</td>\n",
       "      <td>949600</td>\n",
       "      <td>1913000</td>\n",
       "      <td>336000</td>\n",
       "    </tr>\n",
       "    <tr>\n",
       "      <th>1962-01-01</th>\n",
       "      <td>185771000</td>\n",
       "      <td>3752200</td>\n",
       "      <td>301510</td>\n",
       "      <td>3450700</td>\n",
       "      <td>8530</td>\n",
       "      <td>17550</td>\n",
       "      <td>110860</td>\n",
       "      <td>164570</td>\n",
       "      <td>994300</td>\n",
       "      <td>2089600</td>\n",
       "      <td>366800</td>\n",
       "    </tr>\n",
       "    <tr>\n",
       "      <th>1963-01-01</th>\n",
       "      <td>188483000</td>\n",
       "      <td>4109500</td>\n",
       "      <td>316970</td>\n",
       "      <td>3792500</td>\n",
       "      <td>8640</td>\n",
       "      <td>17650</td>\n",
       "      <td>116470</td>\n",
       "      <td>174210</td>\n",
       "      <td>1086400</td>\n",
       "      <td>2297800</td>\n",
       "      <td>408300</td>\n",
       "    </tr>\n",
       "    <tr>\n",
       "      <th>1964-01-01</th>\n",
       "      <td>191141000</td>\n",
       "      <td>4564600</td>\n",
       "      <td>364220</td>\n",
       "      <td>4200400</td>\n",
       "      <td>9360</td>\n",
       "      <td>21420</td>\n",
       "      <td>130390</td>\n",
       "      <td>203050</td>\n",
       "      <td>1213200</td>\n",
       "      <td>2514400</td>\n",
       "      <td>472800</td>\n",
       "    </tr>\n",
       "  </tbody>\n",
       "</table>\n",
       "</div>"
      ],
      "text/plain": [
       "            Population    Total  Violent  Property  Murder  Forcible_Rape  \\\n",
       "Year                                                                        \n",
       "1960-01-01   179323175  3384200   288460   3095700    9110          17190   \n",
       "1961-01-01   182992000  3488000   289390   3198600    8740          17220   \n",
       "1962-01-01   185771000  3752200   301510   3450700    8530          17550   \n",
       "1963-01-01   188483000  4109500   316970   3792500    8640          17650   \n",
       "1964-01-01   191141000  4564600   364220   4200400    9360          21420   \n",
       "\n",
       "            Robbery  Aggravated_assault  Burglary  Larceny_Theft  \\\n",
       "Year                                                               \n",
       "1960-01-01   107840              154320    912100        1855400   \n",
       "1961-01-01   106670              156760    949600        1913000   \n",
       "1962-01-01   110860              164570    994300        2089600   \n",
       "1963-01-01   116470              174210   1086400        2297800   \n",
       "1964-01-01   130390              203050   1213200        2514400   \n",
       "\n",
       "            Vehicle_Theft  \n",
       "Year                       \n",
       "1960-01-01         328200  \n",
       "1961-01-01         336000  \n",
       "1962-01-01         366800  \n",
       "1963-01-01         408300  \n",
       "1964-01-01         472800  "
      ]
     },
     "execution_count": 124,
     "metadata": {},
     "output_type": "execute_result"
    }
   ],
   "source": [
    "crime.index = pd.to_datetime(crime.index, format='%Y')\n",
    "crime.head()"
   ]
  },
  {
   "cell_type": "markdown",
   "id": "f206d331",
   "metadata": {},
   "source": [
    "### Step 7. Delete the Total column"
   ]
  },
  {
   "cell_type": "code",
   "execution_count": 130,
   "id": "1375fbfa",
   "metadata": {},
   "outputs": [
    {
     "data": {
      "text/plain": [
       "Index(['Population', 'Violent', 'Property', 'Murder', 'Forcible_Rape',\n",
       "       'Robbery', 'Aggravated_assault', 'Burglary', 'Larceny_Theft',\n",
       "       'Vehicle_Theft'],\n",
       "      dtype='object')"
      ]
     },
     "execution_count": 130,
     "metadata": {},
     "output_type": "execute_result"
    }
   ],
   "source": [
    "crime.drop(columns='Total', inplace=True)\n",
    "crime.columns"
   ]
  },
  {
   "cell_type": "markdown",
   "id": "218ea4cc",
   "metadata": {},
   "source": [
    "### Step 8. Group the year by decades and sum the values\n",
    "\n",
    "#### Pay attention to the Population column number, summing this column is a mistake"
   ]
  },
  {
   "cell_type": "code",
   "execution_count": 140,
   "id": "614d78e5",
   "metadata": {
    "scrolled": true
   },
   "outputs": [
    {
     "data": {
      "text/html": [
       "<div>\n",
       "<style scoped>\n",
       "    .dataframe tbody tr th:only-of-type {\n",
       "        vertical-align: middle;\n",
       "    }\n",
       "\n",
       "    .dataframe tbody tr th {\n",
       "        vertical-align: top;\n",
       "    }\n",
       "\n",
       "    .dataframe thead th {\n",
       "        text-align: right;\n",
       "    }\n",
       "</style>\n",
       "<table border=\"1\" class=\"dataframe\">\n",
       "  <thead>\n",
       "    <tr style=\"text-align: right;\">\n",
       "      <th></th>\n",
       "      <th>Violent</th>\n",
       "      <th>Property</th>\n",
       "      <th>Murder</th>\n",
       "      <th>Forcible_Rape</th>\n",
       "      <th>Robbery</th>\n",
       "      <th>Aggravated_assault</th>\n",
       "      <th>Burglary</th>\n",
       "      <th>Larceny_Theft</th>\n",
       "      <th>Vehicle_Theft</th>\n",
       "      <th>Decde</th>\n",
       "      <th>Decade</th>\n",
       "      <th>Population</th>\n",
       "    </tr>\n",
       "    <tr>\n",
       "      <th>Decade</th>\n",
       "      <th></th>\n",
       "      <th></th>\n",
       "      <th></th>\n",
       "      <th></th>\n",
       "      <th></th>\n",
       "      <th></th>\n",
       "      <th></th>\n",
       "      <th></th>\n",
       "      <th></th>\n",
       "      <th></th>\n",
       "      <th></th>\n",
       "      <th></th>\n",
       "    </tr>\n",
       "  </thead>\n",
       "  <tbody>\n",
       "    <tr>\n",
       "      <th>1960</th>\n",
       "      <td>4134930</td>\n",
       "      <td>45160900</td>\n",
       "      <td>106180</td>\n",
       "      <td>236720</td>\n",
       "      <td>1633510</td>\n",
       "      <td>2158520</td>\n",
       "      <td>13321100</td>\n",
       "      <td>26547700</td>\n",
       "      <td>5292100</td>\n",
       "      <td>19600</td>\n",
       "      <td>19600</td>\n",
       "      <td>201385000</td>\n",
       "    </tr>\n",
       "    <tr>\n",
       "      <th>1970</th>\n",
       "      <td>9607930</td>\n",
       "      <td>91383800</td>\n",
       "      <td>192230</td>\n",
       "      <td>554570</td>\n",
       "      <td>4159020</td>\n",
       "      <td>4702120</td>\n",
       "      <td>28486000</td>\n",
       "      <td>53157800</td>\n",
       "      <td>9739900</td>\n",
       "      <td>19700</td>\n",
       "      <td>19700</td>\n",
       "      <td>220099000</td>\n",
       "    </tr>\n",
       "    <tr>\n",
       "      <th>1980</th>\n",
       "      <td>14074328</td>\n",
       "      <td>117048900</td>\n",
       "      <td>206439</td>\n",
       "      <td>865639</td>\n",
       "      <td>5383109</td>\n",
       "      <td>7619130</td>\n",
       "      <td>33073494</td>\n",
       "      <td>72040253</td>\n",
       "      <td>11935411</td>\n",
       "      <td>19800</td>\n",
       "      <td>19800</td>\n",
       "      <td>248239000</td>\n",
       "    </tr>\n",
       "    <tr>\n",
       "      <th>1990</th>\n",
       "      <td>17527048</td>\n",
       "      <td>119053499</td>\n",
       "      <td>211664</td>\n",
       "      <td>998827</td>\n",
       "      <td>5748930</td>\n",
       "      <td>10568963</td>\n",
       "      <td>26750015</td>\n",
       "      <td>77679366</td>\n",
       "      <td>14624418</td>\n",
       "      <td>19900</td>\n",
       "      <td>19900</td>\n",
       "      <td>272690813</td>\n",
       "    </tr>\n",
       "    <tr>\n",
       "      <th>2000</th>\n",
       "      <td>13968056</td>\n",
       "      <td>100944369</td>\n",
       "      <td>163068</td>\n",
       "      <td>922499</td>\n",
       "      <td>4230366</td>\n",
       "      <td>8652124</td>\n",
       "      <td>21565176</td>\n",
       "      <td>67970291</td>\n",
       "      <td>11412834</td>\n",
       "      <td>20000</td>\n",
       "      <td>20000</td>\n",
       "      <td>307006550</td>\n",
       "    </tr>\n",
       "    <tr>\n",
       "      <th>2010</th>\n",
       "      <td>6072017</td>\n",
       "      <td>44095950</td>\n",
       "      <td>72867</td>\n",
       "      <td>421059</td>\n",
       "      <td>1749809</td>\n",
       "      <td>3764142</td>\n",
       "      <td>10125170</td>\n",
       "      <td>30401698</td>\n",
       "      <td>3569080</td>\n",
       "      <td>10050</td>\n",
       "      <td>10050</td>\n",
       "      <td>318857056</td>\n",
       "    </tr>\n",
       "  </tbody>\n",
       "</table>\n",
       "</div>"
      ],
      "text/plain": [
       "         Violent   Property  Murder  Forcible_Rape  Robbery  \\\n",
       "Decade                                                        \n",
       "1960     4134930   45160900  106180         236720  1633510   \n",
       "1970     9607930   91383800  192230         554570  4159020   \n",
       "1980    14074328  117048900  206439         865639  5383109   \n",
       "1990    17527048  119053499  211664         998827  5748930   \n",
       "2000    13968056  100944369  163068         922499  4230366   \n",
       "2010     6072017   44095950   72867         421059  1749809   \n",
       "\n",
       "        Aggravated_assault  Burglary  Larceny_Theft  Vehicle_Theft  Decde  \\\n",
       "Decade                                                                      \n",
       "1960               2158520  13321100       26547700        5292100  19600   \n",
       "1970               4702120  28486000       53157800        9739900  19700   \n",
       "1980               7619130  33073494       72040253       11935411  19800   \n",
       "1990              10568963  26750015       77679366       14624418  19900   \n",
       "2000               8652124  21565176       67970291       11412834  20000   \n",
       "2010               3764142  10125170       30401698        3569080  10050   \n",
       "\n",
       "        Decade  Population  \n",
       "Decade                      \n",
       "1960     19600   201385000  \n",
       "1970     19700   220099000  \n",
       "1980     19800   248239000  \n",
       "1990     19900   272690813  \n",
       "2000     20000   307006550  \n",
       "2010     10050   318857056  "
      ]
     },
     "execution_count": 140,
     "metadata": {},
     "output_type": "execute_result"
    }
   ],
   "source": [
    "crime['Decade'] = (crime.index.year // 10) * 10\n",
    "crime.groupby('Decade').agg({**{suming_columns: 'sum' for suming_columns in crime.columns if suming_columns != 'Population'}, 'Population': 'last'})\n"
   ]
  },
  {
   "cell_type": "markdown",
   "id": "0558e87e",
   "metadata": {},
   "source": [
    "### Step 9. What is the most dangerous decade to live in the US?"
   ]
  },
  {
   "cell_type": "code",
   "execution_count": 157,
   "id": "12d8aa07",
   "metadata": {},
   "outputs": [
    {
     "data": {
      "text/plain": [
       "33"
      ]
     },
     "execution_count": 157,
     "metadata": {},
     "output_type": "execute_result"
    }
   ],
   "source": [
    "most_violent_crimes = ['Murder', 'Forcible_Rape', 'Aggravated_assault']\n",
    "crimes['Number_of_most_violent_crimes'] = crimes[most_violent_crimes].sum(axis=1)\n",
    "crimes.index[crimes['Number_of_most_violent_crimes'].idxmax()]"
   ]
  },
  {
   "cell_type": "markdown",
   "id": "0f788d9d",
   "metadata": {},
   "source": [
    "## Section 5: Merge"
   ]
  },
  {
   "cell_type": "markdown",
   "id": "be4a96db",
   "metadata": {},
   "source": [
    "### Step 1. Import the necessary libraries"
   ]
  },
  {
   "cell_type": "code",
   "execution_count": null,
   "id": "f5f41559",
   "metadata": {},
   "outputs": [],
   "source": [
    "import pandas as pd\n",
    "import numpy as np"
   ]
  },
  {
   "cell_type": "markdown",
   "id": "d3e9fe0a",
   "metadata": {},
   "source": [
    "### Step 2. Create the 3 DataFrames based on the following raw data"
   ]
  },
  {
   "cell_type": "code",
   "execution_count": 1,
   "id": "e821cbfa",
   "metadata": {},
   "outputs": [],
   "source": [
    "raw_data_1 = {\n",
    "        'subject_id': ['1', '2', '3', '4', '5'],\n",
    "        'first_name': ['Alex', 'Amy', 'Allen', 'Alice', 'Ayoung'], \n",
    "        'last_name': ['Anderson', 'Ackerman', 'Ali', 'Aoni', 'Atiches']}\n",
    "\n",
    "raw_data_2 = {\n",
    "        'subject_id': ['4', '5', '6', '7', '8'],\n",
    "        'first_name': ['Billy', 'Brian', 'Bran', 'Bryce', 'Betty'], \n",
    "        'last_name': ['Bonder', 'Black', 'Balwner', 'Brice', 'Btisan']}\n",
    "\n",
    "raw_data_3 = {\n",
    "        'subject_id': ['1', '2', '3', '4', '5', '7', '8', '9', '10', '11'],\n",
    "        'test_id': [51, 15, 15, 61, 16, 14, 15, 1, 61, 16]}"
   ]
  },
  {
   "cell_type": "markdown",
   "id": "18fe3342",
   "metadata": {},
   "source": [
    "### Step 3. Assign each to a variable called data1, data2, data3"
   ]
  },
  {
   "cell_type": "code",
   "execution_count": 174,
   "id": "90da0468",
   "metadata": {},
   "outputs": [
    {
     "name": "stdout",
     "output_type": "stream",
     "text": [
      "  subject_id first_name last_name\n",
      "0          1       Alex  Anderson\n",
      "1          2        Amy  Ackerman\n",
      "2          3      Allen       Ali\n",
      "3          4      Alice      Aoni\n",
      "4          5     Ayoung   Atiches\n",
      "  subject_id first_name last_name\n",
      "0          4      Billy    Bonder\n",
      "1          5      Brian     Black\n",
      "2          6       Bran   Balwner\n",
      "3          7      Bryce     Brice\n",
      "4          8      Betty    Btisan\n",
      "  subject_id  test_id\n",
      "0          1       51\n",
      "1          2       15\n",
      "2          3       15\n",
      "3          4       61\n",
      "4          5       16\n",
      "5          7       14\n",
      "6          8       15\n",
      "7          9        1\n",
      "8         10       61\n",
      "9         11       16\n"
     ]
    }
   ],
   "source": [
    "raw_data_1 = {\n",
    "        'subject_id': ['1', '2', '3', '4', '5'],\n",
    "        'first_name': ['Alex', 'Amy', 'Allen', 'Alice', 'Ayoung'], \n",
    "        'last_name': ['Anderson', 'Ackerman', 'Ali', 'Aoni', 'Atiches']}\n",
    "\n",
    "raw_data_2 = {\n",
    "        'subject_id': ['4', '5', '6', '7', '8'],\n",
    "        'first_name': ['Billy', 'Brian', 'Bran', 'Bryce', 'Betty'], \n",
    "        'last_name': ['Bonder', 'Black', 'Balwner', 'Brice', 'Btisan']}\n",
    "\n",
    "raw_data_3 = {\n",
    "        'subject_id': ['1', '2', '3', '4', '5', '7', '8', '9', '10', '11'],\n",
    "        'test_id': [51, 15, 15, 61, 16, 14, 15, 1, 61, 16]}\n",
    "\n",
    "data1 = pd.DataFrame(raw_data_1)\n",
    "data2 = pd.DataFrame(raw_data_2)\n",
    "data3 = pd.DataFrame(raw_data_3)\n",
    "\n",
    "print(data1)\n",
    "print(data2)\n",
    "print(data3)"
   ]
  },
  {
   "cell_type": "markdown",
   "id": "3b793c7d",
   "metadata": {},
   "source": [
    "### Step 4. Join the two dataframes along rows and assign all_data"
   ]
  },
  {
   "cell_type": "code",
   "execution_count": 194,
   "id": "41fdbc61",
   "metadata": {},
   "outputs": [
    {
     "name": "stdout",
     "output_type": "stream",
     "text": [
      "  subject_id first_name last_name\n",
      "0          1       Alex  Anderson\n",
      "1          2        Amy  Ackerman\n",
      "2          3      Allen       Ali\n",
      "3          4      Alice      Aoni\n",
      "4          5     Ayoung   Atiches\n",
      "5          4      Billy    Bonder\n",
      "6          5      Brian     Black\n",
      "7          6       Bran   Balwner\n",
      "8          7      Bryce     Brice\n",
      "9          8      Betty    Btisan\n"
     ]
    }
   ],
   "source": [
    "all_data = pd.concat([data1, data2], axis=0, ignore_index=True)\n",
    "print(all_data)"
   ]
  },
  {
   "cell_type": "markdown",
   "id": "fc8c6f86",
   "metadata": {},
   "source": [
    "### Step 5. Join the two dataframes along columns and assing to all_data_col"
   ]
  },
  {
   "cell_type": "code",
   "execution_count": 191,
   "id": "41459117",
   "metadata": {},
   "outputs": [
    {
     "name": "stdout",
     "output_type": "stream",
     "text": [
      "   0       1         2  3      4        5\n",
      "0  1    Alex  Anderson  4  Billy   Bonder\n",
      "1  2     Amy  Ackerman  5  Brian    Black\n",
      "2  3   Allen       Ali  6   Bran  Balwner\n",
      "3  4   Alice      Aoni  7  Bryce    Brice\n",
      "4  5  Ayoung   Atiches  8  Betty   Btisan\n"
     ]
    }
   ],
   "source": [
    "all_data_col = all_data = pd.concat([data1, data2], axis=1, ignore_index=True)\n",
    "print(all_data_col)"
   ]
  },
  {
   "cell_type": "markdown",
   "id": "9f09f1c3",
   "metadata": {},
   "source": [
    "### Step 6. Print data3"
   ]
  },
  {
   "cell_type": "code",
   "execution_count": 183,
   "id": "2cea8f6e",
   "metadata": {},
   "outputs": [
    {
     "name": "stdout",
     "output_type": "stream",
     "text": [
      "  subject_id  test_id\n",
      "0          1       51\n",
      "1          2       15\n",
      "2          3       15\n",
      "3          4       61\n",
      "4          5       16\n",
      "5          7       14\n",
      "6          8       15\n",
      "7          9        1\n",
      "8         10       61\n",
      "9         11       16\n"
     ]
    }
   ],
   "source": [
    "print(data3)"
   ]
  },
  {
   "cell_type": "markdown",
   "id": "ac4b35a7",
   "metadata": {},
   "source": [
    "### Step 7. Merge all_data and data3 along the subject_id value"
   ]
  },
  {
   "cell_type": "code",
   "execution_count": 202,
   "id": "21f2115e",
   "metadata": {},
   "outputs": [
    {
     "name": "stdout",
     "output_type": "stream",
     "text": [
      "  subject_id first_name last_name  test_id\n",
      "0          1       Alex  Anderson       51\n",
      "1          2        Amy  Ackerman       15\n",
      "2          3      Allen       Ali       15\n",
      "3          4      Alice      Aoni       61\n",
      "4          5     Ayoung   Atiches       16\n",
      "5          4      Billy    Bonder       61\n",
      "6          5      Brian     Black       16\n",
      "7          7      Bryce     Brice       14\n",
      "8          8      Betty    Btisan       15\n"
     ]
    }
   ],
   "source": [
    "all_data_merged = pd.merge(all_data, data3, on='subject_id')\n",
    "print(all_data_merged)"
   ]
  },
  {
   "cell_type": "markdown",
   "id": "12c4da3e",
   "metadata": {},
   "source": [
    "### Step 8. Merge only the data that has the same 'subject_id' on both data1 and data2"
   ]
  },
  {
   "cell_type": "code",
   "execution_count": 204,
   "id": "db6200fe",
   "metadata": {},
   "outputs": [
    {
     "name": "stdout",
     "output_type": "stream",
     "text": [
      "  subject_id first_name_x last_name_x first_name_y last_name_y\n",
      "0          4        Alice        Aoni        Billy      Bonder\n",
      "1          5       Ayoung     Atiches        Brian       Black\n",
      "  subject_id first_name last_name\n",
      "0          1       Alex  Anderson\n",
      "1          2        Amy  Ackerman\n",
      "2          3      Allen       Ali\n",
      "3          4      Alice      Aoni\n",
      "4          5     Ayoung   Atiches\n",
      "  subject_id first_name last_name\n",
      "0          4      Billy    Bonder\n",
      "1          5      Brian     Black\n",
      "2          6       Bran   Balwner\n",
      "3          7      Bryce     Brice\n",
      "4          8      Betty    Btisan\n"
     ]
    }
   ],
   "source": [
    "common_id = pd.merge(data1, data2, on='subject_id', how='inner')\n",
    "print(common_id)\n",
    "print(data1)\n",
    "print(data2)"
   ]
  },
  {
   "cell_type": "markdown",
   "id": "b3105684",
   "metadata": {},
   "source": [
    "### Step 9. Merge all values in data1 and data2, with matching records from both sides where available."
   ]
  },
  {
   "cell_type": "code",
   "execution_count": 206,
   "id": "a6bfa0e9",
   "metadata": {},
   "outputs": [
    {
     "name": "stdout",
     "output_type": "stream",
     "text": [
      "  subject_id first_name_x last_name_x first_name_y last_name_y\n",
      "0          1         Alex    Anderson          NaN         NaN\n",
      "1          2          Amy    Ackerman          NaN         NaN\n",
      "2          3        Allen         Ali          NaN         NaN\n",
      "3          4        Alice        Aoni        Billy      Bonder\n",
      "4          5       Ayoung     Atiches        Brian       Black\n",
      "5          6          NaN         NaN         Bran     Balwner\n",
      "6          7          NaN         NaN        Bryce       Brice\n",
      "7          8          NaN         NaN        Betty      Btisan\n"
     ]
    }
   ],
   "source": [
    "step9 = pd.merge(data1, data2, on='subject_id', how='outer')\n",
    "print(step9)"
   ]
  },
  {
   "cell_type": "markdown",
   "id": "f37cc51a",
   "metadata": {},
   "source": [
    "## Section 6: Stats"
   ]
  },
  {
   "cell_type": "markdown",
   "id": "7e1f46ce",
   "metadata": {},
   "source": [
    "### Introduction:\n",
    "\n",
    "The data have been modified to contain some missing values, identified by NaN.  \n",
    "Using pandas should make this exercise\n",
    "easier, in particular for the bonus question.\n",
    "\n",
    "You should be able to perform all of these operations without using\n",
    "a for loop or other looping construct.\n",
    "\n",
    "\n",
    "1. The data in 'wind.data' has the following format:"
   ]
  },
  {
   "cell_type": "code",
   "execution_count": 4,
   "id": "b8473328",
   "metadata": {},
   "outputs": [
    {
     "data": {
      "text/plain": [
       "'\\nYr Mo Dy   RPT   VAL   ROS   KIL   SHA   BIR   DUB   CLA   MUL   CLO   BEL   MAL\\n61  1  1 15.04 14.96 13.17  9.29   NaN  9.87 13.67 10.25 10.83 12.58 18.50 15.04\\n61  1  2 14.71   NaN 10.83  6.50 12.62  7.67 11.50 10.04  9.79  9.67 17.54 13.83\\n61  1  3 18.50 16.88 12.33 10.13 11.17  6.17 11.25   NaN  8.50  7.67 12.75 12.71\\n'"
      ]
     },
     "execution_count": 4,
     "metadata": {},
     "output_type": "execute_result"
    }
   ],
   "source": [
    "\"\"\"\n",
    "Yr Mo Dy   RPT   VAL   ROS   KIL   SHA   BIR   DUB   CLA   MUL   CLO   BEL   MAL\n",
    "61  1  1 15.04 14.96 13.17  9.29   NaN  9.87 13.67 10.25 10.83 12.58 18.50 15.04\n",
    "61  1  2 14.71   NaN 10.83  6.50 12.62  7.67 11.50 10.04  9.79  9.67 17.54 13.83\n",
    "61  1  3 18.50 16.88 12.33 10.13 11.17  6.17 11.25   NaN  8.50  7.67 12.75 12.71\n",
    "\"\"\""
   ]
  },
  {
   "cell_type": "markdown",
   "id": "c6498c2f",
   "metadata": {},
   "source": [
    "   The first three columns are year, month and day.  The\n",
    "   remaining 12 columns are average windspeeds in knots at 12\n",
    "   locations in Ireland on that day.   \n",
    "\n",
    "   More information about the dataset go [here](wind.desc)."
   ]
  },
  {
   "cell_type": "markdown",
   "id": "c8dfa894",
   "metadata": {},
   "source": [
    "### Step 1. Import the necessary libraries"
   ]
  },
  {
   "cell_type": "code",
   "execution_count": null,
   "id": "651c1fe9",
   "metadata": {},
   "outputs": [],
   "source": [
    "import pandas as pd\n",
    "import numpy as np"
   ]
  },
  {
   "cell_type": "markdown",
   "id": "75ea3454",
   "metadata": {},
   "source": [
    "### Step 2. Import the dataset from this [address](https://raw.githubusercontent.com/guipsamora/pandas_exercises/master/06_Stats/Wind_Stats/wind.data)"
   ]
  },
  {
   "cell_type": "markdown",
   "id": "30ef3fe0",
   "metadata": {},
   "source": [
    "### Step 3. Assign it to a variable called data and replace the first 3 columns by a proper datetime index."
   ]
  },
  {
   "cell_type": "code",
   "execution_count": 210,
   "id": "838f1f8c",
   "metadata": {},
   "outputs": [
    {
     "name": "stdout",
     "output_type": "stream",
     "text": [
      "   Yr  Mo  Dy    RPT    VAL    ROS    KIL    SHA   BIR    DUB    CLA    MUL  \\\n",
      "0  61   1   1  15.04  14.96  13.17   9.29    NaN  9.87  13.67  10.25  10.83   \n",
      "1  61   1   2  14.71    NaN  10.83   6.50  12.62  7.67  11.50  10.04   9.79   \n",
      "2  61   1   3  18.50  16.88  12.33  10.13  11.17  6.17  11.25    NaN   8.50   \n",
      "3  61   1   4  10.58   6.63  11.75   4.58   4.54  2.88   8.63   1.79   5.83   \n",
      "4  61   1   5  13.33  13.25  11.42   6.17  10.71  8.21  11.92   6.54  10.92   \n",
      "\n",
      "     CLO    BEL    MAL  \n",
      "0  12.58  18.50  15.04  \n",
      "1   9.67  17.54  13.83  \n",
      "2   7.67  12.75  12.71  \n",
      "3   5.88   5.46  10.88  \n",
      "4  10.34  12.92  11.83  \n"
     ]
    },
    {
     "name": "stderr",
     "output_type": "stream",
     "text": [
      "<>:2: SyntaxWarning: invalid escape sequence '\\s'\n",
      "<>:2: SyntaxWarning: invalid escape sequence '\\s'\n",
      "/var/folders/v8/ck2y8f6s107gt9r_zl6zqwbc0000gn/T/ipykernel_176/1531982097.py:2: SyntaxWarning: invalid escape sequence '\\s'\n",
      "  data = pd.read_csv(url, sep='\\s+')\n"
     ]
    }
   ],
   "source": [
    "url = 'https://raw.githubusercontent.com/guipsamora/pandas_exercises/master/06_Stats/Wind_Stats/wind.data'\n",
    "data = pd.read_csv(url, sep='\\s+')\n",
    "print(data.head())"
   ]
  },
  {
   "cell_type": "markdown",
   "id": "8ef2ebcb",
   "metadata": {},
   "source": [
    "### Step 4. Year 2061? Do we really have data from this year? Create a function to fix it and apply it."
   ]
  },
  {
   "cell_type": "code",
   "execution_count": 222,
   "id": "6626a513",
   "metadata": {},
   "outputs": [
    {
     "ename": "KeyError",
     "evalue": "'Yr'",
     "output_type": "error",
     "traceback": [
      "\u001b[31m---------------------------------------------------------------------------\u001b[39m",
      "\u001b[31mKeyError\u001b[39m                                  Traceback (most recent call last)",
      "\u001b[36mFile \u001b[39m\u001b[32m/Library/Frameworks/Python.framework/Versions/3.13/lib/python3.13/site-packages/pandas/core/indexes/base.py:3805\u001b[39m, in \u001b[36mIndex.get_loc\u001b[39m\u001b[34m(self, key)\u001b[39m\n\u001b[32m   3804\u001b[39m \u001b[38;5;28;01mtry\u001b[39;00m:\n\u001b[32m-> \u001b[39m\u001b[32m3805\u001b[39m     \u001b[38;5;28;01mreturn\u001b[39;00m \u001b[38;5;28;43mself\u001b[39;49m\u001b[43m.\u001b[49m\u001b[43m_engine\u001b[49m\u001b[43m.\u001b[49m\u001b[43mget_loc\u001b[49m\u001b[43m(\u001b[49m\u001b[43mcasted_key\u001b[49m\u001b[43m)\u001b[49m\n\u001b[32m   3806\u001b[39m \u001b[38;5;28;01mexcept\u001b[39;00m \u001b[38;5;167;01mKeyError\u001b[39;00m \u001b[38;5;28;01mas\u001b[39;00m err:\n",
      "\u001b[36mFile \u001b[39m\u001b[32mindex.pyx:167\u001b[39m, in \u001b[36mpandas._libs.index.IndexEngine.get_loc\u001b[39m\u001b[34m()\u001b[39m\n",
      "\u001b[36mFile \u001b[39m\u001b[32mindex.pyx:196\u001b[39m, in \u001b[36mpandas._libs.index.IndexEngine.get_loc\u001b[39m\u001b[34m()\u001b[39m\n",
      "\u001b[36mFile \u001b[39m\u001b[32mpandas/_libs/hashtable_class_helper.pxi:7081\u001b[39m, in \u001b[36mpandas._libs.hashtable.PyObjectHashTable.get_item\u001b[39m\u001b[34m()\u001b[39m\n",
      "\u001b[36mFile \u001b[39m\u001b[32mpandas/_libs/hashtable_class_helper.pxi:7089\u001b[39m, in \u001b[36mpandas._libs.hashtable.PyObjectHashTable.get_item\u001b[39m\u001b[34m()\u001b[39m\n",
      "\u001b[31mKeyError\u001b[39m: 'Yr'",
      "\nThe above exception was the direct cause of the following exception:\n",
      "\u001b[31mKeyError\u001b[39m                                  Traceback (most recent call last)",
      "\u001b[36mCell\u001b[39m\u001b[36m \u001b[39m\u001b[32mIn[222]\u001b[39m\u001b[32m, line 5\u001b[39m\n\u001b[32m      1\u001b[39m \u001b[38;5;28;01mdef\u001b[39;00m\u001b[38;5;250m \u001b[39m\u001b[34mfix_years\u001b[39m(x):\n\u001b[32m      2\u001b[39m     \u001b[38;5;28;01mreturn\u001b[39;00m x + \u001b[32m1900\u001b[39m \u001b[38;5;28;01mif\u001b[39;00m x < \u001b[32m100\u001b[39m \u001b[38;5;28;01melse\u001b[39;00m x\n\u001b[32m      4\u001b[39m data[\u001b[33m'\u001b[39m\u001b[33mDate\u001b[39m\u001b[33m'\u001b[39m] = pd.to_datetime({\n\u001b[32m----> \u001b[39m\u001b[32m5\u001b[39m     \u001b[33m'\u001b[39m\u001b[33mYear\u001b[39m\u001b[33m'\u001b[39m: \u001b[43mdata\u001b[49m\u001b[43m[\u001b[49m\u001b[33;43m'\u001b[39;49m\u001b[33;43mYr\u001b[39;49m\u001b[33;43m'\u001b[39;49m\u001b[43m]\u001b[49m.apply(fix_years), \n\u001b[32m      6\u001b[39m     \u001b[33m'\u001b[39m\u001b[33mMonth\u001b[39m\u001b[33m'\u001b[39m: data[\u001b[33m'\u001b[39m\u001b[33mMo\u001b[39m\u001b[33m'\u001b[39m], \n\u001b[32m      7\u001b[39m     \u001b[33m'\u001b[39m\u001b[33mDay\u001b[39m\u001b[33m'\u001b[39m: data[\u001b[33m'\u001b[39m\u001b[33mDy\u001b[39m\u001b[33m'\u001b[39m]\n\u001b[32m      8\u001b[39m })\n\u001b[32m      9\u001b[39m data.drop(columns=[\u001b[33m'\u001b[39m\u001b[33mYr\u001b[39m\u001b[33m'\u001b[39m, \u001b[33m'\u001b[39m\u001b[33mMo\u001b[39m\u001b[33m'\u001b[39m, \u001b[33m'\u001b[39m\u001b[33mDy\u001b[39m\u001b[33m'\u001b[39m], inplace=\u001b[38;5;28;01mTrue\u001b[39;00m)\n\u001b[32m     10\u001b[39m \u001b[38;5;66;03m# data.set_index('Date', inplace=True)\u001b[39;00m\n",
      "\u001b[36mFile \u001b[39m\u001b[32m/Library/Frameworks/Python.framework/Versions/3.13/lib/python3.13/site-packages/pandas/core/frame.py:4102\u001b[39m, in \u001b[36mDataFrame.__getitem__\u001b[39m\u001b[34m(self, key)\u001b[39m\n\u001b[32m   4100\u001b[39m \u001b[38;5;28;01mif\u001b[39;00m \u001b[38;5;28mself\u001b[39m.columns.nlevels > \u001b[32m1\u001b[39m:\n\u001b[32m   4101\u001b[39m     \u001b[38;5;28;01mreturn\u001b[39;00m \u001b[38;5;28mself\u001b[39m._getitem_multilevel(key)\n\u001b[32m-> \u001b[39m\u001b[32m4102\u001b[39m indexer = \u001b[38;5;28;43mself\u001b[39;49m\u001b[43m.\u001b[49m\u001b[43mcolumns\u001b[49m\u001b[43m.\u001b[49m\u001b[43mget_loc\u001b[49m\u001b[43m(\u001b[49m\u001b[43mkey\u001b[49m\u001b[43m)\u001b[49m\n\u001b[32m   4103\u001b[39m \u001b[38;5;28;01mif\u001b[39;00m is_integer(indexer):\n\u001b[32m   4104\u001b[39m     indexer = [indexer]\n",
      "\u001b[36mFile \u001b[39m\u001b[32m/Library/Frameworks/Python.framework/Versions/3.13/lib/python3.13/site-packages/pandas/core/indexes/base.py:3812\u001b[39m, in \u001b[36mIndex.get_loc\u001b[39m\u001b[34m(self, key)\u001b[39m\n\u001b[32m   3807\u001b[39m     \u001b[38;5;28;01mif\u001b[39;00m \u001b[38;5;28misinstance\u001b[39m(casted_key, \u001b[38;5;28mslice\u001b[39m) \u001b[38;5;129;01mor\u001b[39;00m (\n\u001b[32m   3808\u001b[39m         \u001b[38;5;28misinstance\u001b[39m(casted_key, abc.Iterable)\n\u001b[32m   3809\u001b[39m         \u001b[38;5;129;01mand\u001b[39;00m \u001b[38;5;28many\u001b[39m(\u001b[38;5;28misinstance\u001b[39m(x, \u001b[38;5;28mslice\u001b[39m) \u001b[38;5;28;01mfor\u001b[39;00m x \u001b[38;5;129;01min\u001b[39;00m casted_key)\n\u001b[32m   3810\u001b[39m     ):\n\u001b[32m   3811\u001b[39m         \u001b[38;5;28;01mraise\u001b[39;00m InvalidIndexError(key)\n\u001b[32m-> \u001b[39m\u001b[32m3812\u001b[39m     \u001b[38;5;28;01mraise\u001b[39;00m \u001b[38;5;167;01mKeyError\u001b[39;00m(key) \u001b[38;5;28;01mfrom\u001b[39;00m\u001b[38;5;250m \u001b[39m\u001b[34;01merr\u001b[39;00m\n\u001b[32m   3813\u001b[39m \u001b[38;5;28;01mexcept\u001b[39;00m \u001b[38;5;167;01mTypeError\u001b[39;00m:\n\u001b[32m   3814\u001b[39m     \u001b[38;5;66;03m# If we have a listlike key, _check_indexing_error will raise\u001b[39;00m\n\u001b[32m   3815\u001b[39m     \u001b[38;5;66;03m#  InvalidIndexError. Otherwise we fall through and re-raise\u001b[39;00m\n\u001b[32m   3816\u001b[39m     \u001b[38;5;66;03m#  the TypeError.\u001b[39;00m\n\u001b[32m   3817\u001b[39m     \u001b[38;5;28mself\u001b[39m._check_indexing_error(key)\n",
      "\u001b[31mKeyError\u001b[39m: 'Yr'"
     ]
    }
   ],
   "source": [
    "def fix_years(x):\n",
    "    return x + 1900 if x < 100 else x\n",
    "\n",
    "data['Date'] = pd.to_datetime({\n",
    "    'Year': data['Yr'].apply(fix_years), \n",
    "    'Month': data['Mo'], \n",
    "    'Day': data['Dy']\n",
    "})\n",
    "data.drop(columns=['Yr', 'Mo', 'Dy'], inplace=True)\n",
    "print(data.head())"
   ]
  },
  {
   "cell_type": "markdown",
   "id": "e3c19cc5",
   "metadata": {},
   "source": [
    "### Step 5. Set the right dates as the index. Pay attention at the data type, it should be datetime64[ns]."
   ]
  },
  {
   "cell_type": "code",
   "execution_count": null,
   "id": "b169ca16",
   "metadata": {},
   "outputs": [],
   "source": [
    "data.set_index('Date', inplace=True)"
   ]
  },
  {
   "cell_type": "markdown",
   "id": "906915e6",
   "metadata": {},
   "source": [
    "### Step 6. Compute how many values are missing for each location over the entire record.  \n",
    "#### They should be ignored in all calculations below. "
   ]
  },
  {
   "cell_type": "code",
   "execution_count": 224,
   "id": "14aee622",
   "metadata": {},
   "outputs": [
    {
     "name": "stdout",
     "output_type": "stream",
     "text": [
      "RPT    6\n",
      "VAL    3\n",
      "ROS    2\n",
      "KIL    5\n",
      "SHA    2\n",
      "BIR    0\n",
      "DUB    3\n",
      "CLA    2\n",
      "MUL    3\n",
      "CLO    1\n",
      "BEL    0\n",
      "MAL    4\n",
      "dtype: int64\n"
     ]
    }
   ],
   "source": [
    "missing_values = data.isna().sum()\n",
    "print(missing_values)"
   ]
  },
  {
   "cell_type": "markdown",
   "id": "6aa712c4",
   "metadata": {},
   "source": [
    "### Step 7. Compute how many non-missing values there are in total."
   ]
  },
  {
   "cell_type": "code",
   "execution_count": 226,
   "id": "fbcbeb24",
   "metadata": {
    "scrolled": true
   },
   "outputs": [
    {
     "name": "stdout",
     "output_type": "stream",
     "text": [
      "78857\n"
     ]
    }
   ],
   "source": [
    "print(data.notna().sum().sum())"
   ]
  },
  {
   "cell_type": "markdown",
   "id": "483b349d",
   "metadata": {},
   "source": [
    "### Step 8. Calculate the mean windspeeds of the windspeeds over all the locations and all the times.\n",
    "#### A single number for the entire dataset."
   ]
  },
  {
   "cell_type": "code",
   "execution_count": 228,
   "id": "a2a230e0",
   "metadata": {},
   "outputs": [
    {
     "name": "stdout",
     "output_type": "stream",
     "text": [
      "10.227982360836938\n"
     ]
    }
   ],
   "source": [
    "print(data.mean().mean())"
   ]
  },
  {
   "cell_type": "markdown",
   "id": "8c9b33d4",
   "metadata": {},
   "source": [
    "### Step 9. Create a DataFrame called loc_stats and calculate the min, max and mean windspeeds and standard deviations of the windspeeds at each location over all the days \n",
    "\n",
    "#### A different set of numbers for each location."
   ]
  },
  {
   "cell_type": "code",
   "execution_count": 234,
   "id": "51d75d2b",
   "metadata": {},
   "outputs": [
    {
     "name": "stdout",
     "output_type": "stream",
     "text": [
      "            RPT        VAL        ROS        KIL        SHA        BIR  \\\n",
      "min    0.670000   0.210000   1.500000   0.000000   0.130000   0.000000   \n",
      "max   35.800000  33.370000  33.840000  28.460000  37.540000  26.160000   \n",
      "mean  12.362987  10.644314  11.660526   6.306468  10.455834   7.092254   \n",
      "std    5.618413   5.267356   5.008450   3.605811   4.936125   3.968683   \n",
      "\n",
      "            DUB        CLA        MUL        CLO        BEL        MAL  \n",
      "min    0.000000   0.000000   0.000000   0.040000   0.130000   0.670000  \n",
      "max   30.370000  31.080000  25.880000  28.210000  42.380000  42.540000  \n",
      "mean   9.797343   8.495053   8.493590   8.707332  13.121007  15.599079  \n",
      "std    4.977555   4.499449   4.166872   4.503954   5.835037   6.699794  \n"
     ]
    }
   ],
   "source": [
    "loc_stats = data.describe().loc[['min', 'max', 'mean', 'std']]\n",
    "print(loc_stats)"
   ]
  },
  {
   "cell_type": "markdown",
   "id": "91e00153",
   "metadata": {},
   "source": [
    "### Step 10. Create a DataFrame called day_stats and calculate the min, max and mean windspeed and standard deviations of the windspeeds across all the locations at each day.\n",
    "\n",
    "#### A different set of numbers for each day."
   ]
  },
  {
   "cell_type": "code",
   "execution_count": 235,
   "id": "bdf6c30f",
   "metadata": {},
   "outputs": [
    {
     "name": "stdout",
     "output_type": "stream",
     "text": [
      "             min    max       mean       std\n",
      "Date                                        \n",
      "1961-01-01  9.29  18.50  13.018182  2.808875\n",
      "1961-01-02  6.50  17.54  11.336364  3.188994\n",
      "1961-01-03  6.17  18.50  11.641818  3.681912\n",
      "1961-01-04  1.79  11.75   6.619167  3.198126\n",
      "1961-01-05  6.17  13.33  10.630000  2.445356\n",
      "...          ...    ...        ...       ...\n",
      "1978-12-27  8.08  40.08  16.708333  7.868076\n",
      "1978-12-28  5.00  41.46  15.150000  9.687857\n",
      "1978-12-29  8.71  29.58  14.890000  5.756836\n",
      "1978-12-30  9.13  28.79  15.367500  5.540437\n",
      "1978-12-31  9.59  27.29  15.402500  5.702483\n",
      "\n",
      "[6574 rows x 4 columns]\n"
     ]
    }
   ],
   "source": [
    "day_stats = pd.DataFrame({\n",
    "    'min': data.min(axis=1),\n",
    "    'max': data.max(axis=1),\n",
    "    'mean': data.mean(axis=1),\n",
    "    'std': data.std(axis=1)\n",
    "})\n",
    "print(day_stats)"
   ]
  },
  {
   "cell_type": "markdown",
   "id": "7c432fea",
   "metadata": {},
   "source": [
    "### Step 11. Find the average windspeed in January for each location.  \n",
    "#### Treat January 1961 and January 1962 both as January."
   ]
  },
  {
   "cell_type": "code",
   "execution_count": 237,
   "id": "846c08c1",
   "metadata": {},
   "outputs": [
    {
     "name": "stdout",
     "output_type": "stream",
     "text": [
      "RPT    14.847325\n",
      "VAL    12.914560\n",
      "ROS    13.299624\n",
      "KIL     7.199498\n",
      "SHA    11.667734\n",
      "BIR     8.054839\n",
      "DUB    11.819355\n",
      "CLA     9.512047\n",
      "MUL     9.543208\n",
      "CLO    10.053566\n",
      "BEL    14.550520\n",
      "MAL    18.028763\n",
      "dtype: float64\n"
     ]
    }
   ],
   "source": [
    "data.index = pd.to_datetime(data.index)\n",
    "january = data[data.index.month == 1]\n",
    "print(january.mean())"
   ]
  },
  {
   "cell_type": "markdown",
   "id": "d1c85939",
   "metadata": {},
   "source": [
    "### Step 12. Downsample the record to a yearly frequency for each location."
   ]
  },
  {
   "cell_type": "code",
   "execution_count": 240,
   "id": "9d68bbdb",
   "metadata": {},
   "outputs": [
    {
     "name": "stdout",
     "output_type": "stream",
     "text": [
      "                  RPT        VAL        ROS       KIL        SHA       BIR  \\\n",
      "Date                                                                         \n",
      "1961-01-01  12.299583  10.351796  11.362369  6.958227  10.881763  7.729726   \n",
      "1962-01-01  12.246923  10.110438  11.732712  6.960440  10.657918  7.393068   \n",
      "1963-01-01  12.813452  10.836986  12.541151  7.330055  11.724110  8.434712   \n",
      "1964-01-01  12.363661  10.920164  12.104372  6.787787  11.454481  7.570874   \n",
      "1965-01-01  12.451370  11.075534  11.848767  6.858466  11.024795  7.478110   \n",
      "1966-01-01  13.461973  11.557205  12.020630  7.345726  11.805041  7.793671   \n",
      "1967-01-01  12.737151  10.990986  11.739397  7.143425  11.630740  7.368164   \n",
      "1968-01-01  11.835628  10.468197  11.409754  6.477678  10.760765  6.067322   \n",
      "1969-01-01  11.166356   9.723699  10.902000  5.767973   9.873918  6.189973   \n",
      "1970-01-01  12.600329  10.726932  11.730247  6.217178  10.567370  7.609452   \n",
      "1971-01-01  11.273123   9.095178  11.088329  5.241507   9.440329  6.097151   \n",
      "1972-01-01  12.463962  10.561311  12.058333  5.929699   9.430410  6.358825   \n",
      "1973-01-01  11.828466  10.680493  10.680493  5.547863   9.640877  6.548740   \n",
      "1974-01-01  13.643096  11.811781  12.336356  6.427041  11.110986  6.809781   \n",
      "1975-01-01  12.008575  10.293836  11.564712  5.269096   9.190082  5.668521   \n",
      "1976-01-01  11.737842  10.203115  10.761230  5.109426   8.846339  6.311038   \n",
      "1977-01-01  13.099616  11.144493  12.627836  6.073945  10.003836  8.586438   \n",
      "1978-01-01  12.504356  11.044274  11.380000  6.082356  10.167233  7.650658   \n",
      "\n",
      "                  DUB        CLA       MUL        CLO        BEL        MAL  \n",
      "Date                                                                         \n",
      "1961-01-01   9.733923   8.858788  8.647652   9.835577  13.502795  13.680773  \n",
      "1962-01-01  11.020712   8.793753  8.316822   9.676247  12.930685  14.323956  \n",
      "1963-01-01  11.075699  10.336548  8.903589  10.224438  13.638877  14.999014  \n",
      "1964-01-01  10.259153   9.467350  7.789016  10.207951  13.740546  14.910301  \n",
      "1965-01-01  10.618712   8.879918  7.907425   9.918082  12.964247  15.591644  \n",
      "1966-01-01  10.579808   8.835096  8.514438   9.768959  14.265836  16.307260  \n",
      "1967-01-01  10.652027   9.325616  8.645014   9.547425  14.774548  17.135945  \n",
      "1968-01-01   8.859180   8.255519  7.224945   7.832978  12.808634  15.017486  \n",
      "1969-01-01   8.564493   7.711397  7.924521   7.754384  12.621233  15.762904  \n",
      "1970-01-01   9.609890   8.334630  9.297616   8.289808  13.183644  16.456027  \n",
      "1971-01-01   8.385890   6.757315  7.915370   7.229753  12.208932  15.025233  \n",
      "1972-01-01   9.704508   7.680792  8.357295   7.515273  12.727377  15.028716  \n",
      "1973-01-01   8.482110   7.614274  8.245534   7.812411  12.169699  15.441096  \n",
      "1974-01-01  10.084603   9.896986  9.331753   8.736356  13.252959  16.947671  \n",
      "1975-01-01   8.562603   7.843836  8.797945   7.382822  12.631671  15.307863  \n",
      "1976-01-01   9.149126   7.146202  8.883716   7.883087  12.332377  15.471448  \n",
      "1977-01-01  11.523205   8.378384  9.098192   8.821616  13.459068  16.590849  \n",
      "1978-01-01   9.489342   8.800466  9.089753   8.301699  12.967397  16.771370  \n"
     ]
    }
   ],
   "source": [
    "print(data.resample('YS').mean())"
   ]
  },
  {
   "cell_type": "markdown",
   "id": "5e051d90",
   "metadata": {},
   "source": [
    "### Step 13. Downsample the record to a monthly frequency for each location."
   ]
  },
  {
   "cell_type": "code",
   "execution_count": 241,
   "id": "0e63f4d5",
   "metadata": {},
   "outputs": [
    {
     "name": "stdout",
     "output_type": "stream",
     "text": [
      "                  RPT        VAL        ROS       KIL        SHA        BIR  \\\n",
      "Date                                                                          \n",
      "1961-01-01  14.841333  11.988333  13.431613  7.736774  11.072759   8.588065   \n",
      "1961-02-01  16.269286  14.975357  14.441481  9.230741  13.852143  10.937500   \n",
      "1961-03-01  10.890000  11.296452  10.752903  7.284000  10.509355   8.866774   \n",
      "1961-04-01  10.722667   9.427667   9.998000  5.830667   8.435000   6.495000   \n",
      "1961-05-01   9.860968   8.850000  10.818065  5.905333   9.490323   6.574839   \n",
      "...               ...        ...        ...       ...        ...        ...   \n",
      "1978-08-01   9.645161   8.259355   9.032258  4.502903   7.368065   5.935161   \n",
      "1978-09-01  10.913667  10.895000  10.635000  5.725000  10.372000   9.278333   \n",
      "1978-10-01   9.897742   8.670968   9.295806  4.721290   8.525161   6.774194   \n",
      "1978-11-01  16.151667  14.802667  13.508000  7.317333  11.475000   8.743000   \n",
      "1978-12-01  16.175484  13.748065  15.635161  7.094839  11.398710   9.241613   \n",
      "\n",
      "                  DUB        CLA        MUL        CLO        BEL        MAL  \n",
      "Date                                                                          \n",
      "1961-01-01  11.184839   9.245333   9.085806  10.107419  13.880968  14.703226  \n",
      "1961-02-01  11.890714  11.846071  11.821429  12.714286  18.583214  15.411786  \n",
      "1961-03-01   9.644194   9.829677  10.294138  11.251935  16.410968  15.720000  \n",
      "1961-04-01   6.925333   7.094667   7.342333   7.237000  11.147333  10.278333  \n",
      "1961-05-01   7.604000   8.177097   8.039355   8.499355  11.900323  12.011613  \n",
      "...               ...        ...        ...        ...        ...        ...  \n",
      "1978-08-01   5.650323   5.417742   7.241290   5.536774  10.466774  12.054194  \n",
      "1978-09-01  10.790333   9.583000  10.069333   8.939000  15.680333  19.391333  \n",
      "1978-10-01   8.115484   7.337742   8.297742   8.243871  13.776774  17.150000  \n",
      "1978-11-01  11.492333   9.657333  10.701333  10.676000  17.404667  20.723000  \n",
      "1978-12-01  12.077419  10.194839  10.616774  11.028710  13.859677  21.371613  \n",
      "\n",
      "[216 rows x 12 columns]\n"
     ]
    }
   ],
   "source": [
    "print(data.resample('MS').mean())"
   ]
  },
  {
   "cell_type": "markdown",
   "id": "b63246a8",
   "metadata": {},
   "source": [
    "### Step 14. Downsample the record to a weekly frequency for each location."
   ]
  },
  {
   "cell_type": "code",
   "execution_count": 243,
   "id": "7bcf916b",
   "metadata": {},
   "outputs": [
    {
     "name": "stdout",
     "output_type": "stream",
     "text": [
      "                  RPT        VAL        ROS        KIL        SHA        BIR  \\\n",
      "Date                                                                           \n",
      "1961-01-01  15.040000  14.960000  13.170000   9.290000        NaN   9.870000   \n",
      "1961-01-08  13.541429  11.486667  10.487143   6.417143   9.474286   6.435714   \n",
      "1961-01-15  12.468571   8.967143  11.958571   4.630000   7.351429   5.072857   \n",
      "1961-01-22  13.204286   9.862857  12.982857   6.328571   8.966667   7.417143   \n",
      "1961-01-29  19.880000  16.141429  18.225714  12.720000  17.432857  14.828571   \n",
      "...               ...        ...        ...        ...        ...        ...   \n",
      "1978-12-03  14.934286  11.232857  13.941429   5.565714  10.215714   8.618571   \n",
      "1978-12-10  20.740000  19.190000  17.034286   9.777143  15.287143  12.774286   \n",
      "1978-12-17  16.758571  14.692857  14.987143   6.917143  11.397143   7.272857   \n",
      "1978-12-24  11.155714   8.008571  13.172857   4.004286   7.825714   6.290000   \n",
      "1978-12-31  14.951429  11.801429  16.035714   6.507143   9.660000   8.620000   \n",
      "\n",
      "                  DUB        CLA        MUL        CLO        BEL        MAL  \n",
      "Date                                                                          \n",
      "1961-01-01  13.670000  10.250000  10.830000  12.580000  18.500000  15.040000  \n",
      "1961-01-08  11.061429   6.616667   8.434286   8.497143  12.481429  13.238571  \n",
      "1961-01-15   7.535714   6.820000   5.712857   7.571429  11.125714  11.024286  \n",
      "1961-01-22   9.257143   7.875714   7.145714   8.124286   9.821429  11.434286  \n",
      "1961-01-29  15.528571  15.160000  14.480000  15.640000  20.930000  22.530000  \n",
      "...               ...        ...        ...        ...        ...        ...  \n",
      "1978-12-03   9.642857   7.685714   9.011429   9.547143  11.835714  18.728571  \n",
      "1978-12-10  14.437143  12.488571  13.870000  14.082857  18.517143  23.061429  \n",
      "1978-12-17  10.208571   7.967143   9.168571   8.565714  11.102857  15.562857  \n",
      "1978-12-24   7.798571   8.667143   7.151429   8.072857  11.845714  18.977143  \n",
      "1978-12-31  13.708571  10.477143  10.868571  11.471429  12.947143  26.844286  \n",
      "\n",
      "[940 rows x 12 columns]\n"
     ]
    }
   ],
   "source": [
    "weekly_frequency = (data.resample('W').mean())"
   ]
  },
  {
   "cell_type": "markdown",
   "id": "13417df1",
   "metadata": {},
   "source": [
    "### Step 15. Calculate the min, max and mean windspeeds and standard deviations of the windspeeds across all locations for each week (assume that the first week starts on January 2 1961) for the first 52 weeks."
   ]
  },
  {
   "cell_type": "code",
   "execution_count": 253,
   "id": "2af6b19a",
   "metadata": {},
   "outputs": [
    {
     "data": {
      "text/html": [
       "<div>\n",
       "<style scoped>\n",
       "    .dataframe tbody tr th:only-of-type {\n",
       "        vertical-align: middle;\n",
       "    }\n",
       "\n",
       "    .dataframe tbody tr th {\n",
       "        vertical-align: top;\n",
       "    }\n",
       "\n",
       "    .dataframe thead th {\n",
       "        text-align: right;\n",
       "    }\n",
       "</style>\n",
       "<table border=\"1\" class=\"dataframe\">\n",
       "  <thead>\n",
       "    <tr style=\"text-align: right;\">\n",
       "      <th></th>\n",
       "      <th>Date</th>\n",
       "      <th>1961-01-08</th>\n",
       "      <th>1961-01-15</th>\n",
       "      <th>1961-01-22</th>\n",
       "      <th>1961-01-29</th>\n",
       "      <th>1961-02-05</th>\n",
       "      <th>1961-02-12</th>\n",
       "      <th>1961-02-19</th>\n",
       "      <th>1961-02-26</th>\n",
       "      <th>1961-03-05</th>\n",
       "      <th>1961-03-12</th>\n",
       "      <th>...</th>\n",
       "      <th>1978-10-29</th>\n",
       "      <th>1978-11-05</th>\n",
       "      <th>1978-11-12</th>\n",
       "      <th>1978-11-19</th>\n",
       "      <th>1978-11-26</th>\n",
       "      <th>1978-12-03</th>\n",
       "      <th>1978-12-10</th>\n",
       "      <th>1978-12-17</th>\n",
       "      <th>1978-12-24</th>\n",
       "      <th>1978-12-31</th>\n",
       "    </tr>\n",
       "  </thead>\n",
       "  <tbody>\n",
       "    <tr>\n",
       "      <th rowspan=\"4\" valign=\"top\">RPT</th>\n",
       "      <th>min</th>\n",
       "      <td>10.580000</td>\n",
       "      <td>9.040000</td>\n",
       "      <td>4.920000</td>\n",
       "      <td>13.620000</td>\n",
       "      <td>10.580000</td>\n",
       "      <td>16.000000</td>\n",
       "      <td>6.040000</td>\n",
       "      <td>7.790000</td>\n",
       "      <td>10.960000</td>\n",
       "      <td>4.880000</td>\n",
       "      <td>...</td>\n",
       "      <td>2.040000</td>\n",
       "      <td>8.580000</td>\n",
       "      <td>7.380000</td>\n",
       "      <td>13.880000</td>\n",
       "      <td>9.540000</td>\n",
       "      <td>9.080000</td>\n",
       "      <td>9.920000</td>\n",
       "      <td>9.870000</td>\n",
       "      <td>6.210000</td>\n",
       "      <td>7.210000</td>\n",
       "    </tr>\n",
       "    <tr>\n",
       "      <th>max</th>\n",
       "      <td>18.500000</td>\n",
       "      <td>19.750000</td>\n",
       "      <td>19.830000</td>\n",
       "      <td>25.040000</td>\n",
       "      <td>24.210000</td>\n",
       "      <td>24.540000</td>\n",
       "      <td>22.500000</td>\n",
       "      <td>25.800000</td>\n",
       "      <td>13.330000</td>\n",
       "      <td>14.790000</td>\n",
       "      <td>...</td>\n",
       "      <td>11.540000</td>\n",
       "      <td>18.750000</td>\n",
       "      <td>25.410000</td>\n",
       "      <td>30.210000</td>\n",
       "      <td>23.160000</td>\n",
       "      <td>21.290000</td>\n",
       "      <td>29.330000</td>\n",
       "      <td>23.130000</td>\n",
       "      <td>16.620000</td>\n",
       "      <td>20.330000</td>\n",
       "    </tr>\n",
       "    <tr>\n",
       "      <th>mean</th>\n",
       "      <td>13.541429</td>\n",
       "      <td>12.468571</td>\n",
       "      <td>13.204286</td>\n",
       "      <td>19.880000</td>\n",
       "      <td>16.827143</td>\n",
       "      <td>19.684286</td>\n",
       "      <td>15.130000</td>\n",
       "      <td>15.221429</td>\n",
       "      <td>12.101429</td>\n",
       "      <td>9.376667</td>\n",
       "      <td>...</td>\n",
       "      <td>7.504286</td>\n",
       "      <td>13.060000</td>\n",
       "      <td>14.857143</td>\n",
       "      <td>20.590000</td>\n",
       "      <td>16.498571</td>\n",
       "      <td>14.934286</td>\n",
       "      <td>20.740000</td>\n",
       "      <td>16.758571</td>\n",
       "      <td>11.155714</td>\n",
       "      <td>14.951429</td>\n",
       "    </tr>\n",
       "    <tr>\n",
       "      <th>std</th>\n",
       "      <td>2.631321</td>\n",
       "      <td>3.555392</td>\n",
       "      <td>5.337402</td>\n",
       "      <td>4.619061</td>\n",
       "      <td>5.251408</td>\n",
       "      <td>3.587677</td>\n",
       "      <td>5.064609</td>\n",
       "      <td>7.020716</td>\n",
       "      <td>0.997721</td>\n",
       "      <td>3.732263</td>\n",
       "      <td>...</td>\n",
       "      <td>3.156500</td>\n",
       "      <td>3.787180</td>\n",
       "      <td>6.126537</td>\n",
       "      <td>5.487249</td>\n",
       "      <td>4.050216</td>\n",
       "      <td>4.931754</td>\n",
       "      <td>7.215012</td>\n",
       "      <td>4.499431</td>\n",
       "      <td>3.522759</td>\n",
       "      <td>4.350400</td>\n",
       "    </tr>\n",
       "    <tr>\n",
       "      <th rowspan=\"4\" valign=\"top\">VAL</th>\n",
       "      <th>min</th>\n",
       "      <td>6.630000</td>\n",
       "      <td>3.540000</td>\n",
       "      <td>3.420000</td>\n",
       "      <td>9.960000</td>\n",
       "      <td>9.460000</td>\n",
       "      <td>11.540000</td>\n",
       "      <td>11.630000</td>\n",
       "      <td>7.080000</td>\n",
       "      <td>8.830000</td>\n",
       "      <td>8.080000</td>\n",
       "      <td>...</td>\n",
       "      <td>1.210000</td>\n",
       "      <td>4.290000</td>\n",
       "      <td>8.120000</td>\n",
       "      <td>11.670000</td>\n",
       "      <td>8.330000</td>\n",
       "      <td>4.540000</td>\n",
       "      <td>12.540000</td>\n",
       "      <td>3.210000</td>\n",
       "      <td>3.630000</td>\n",
       "      <td>5.460000</td>\n",
       "    </tr>\n",
       "    <tr>\n",
       "      <th>max</th>\n",
       "      <td>16.880000</td>\n",
       "      <td>12.080000</td>\n",
       "      <td>14.370000</td>\n",
       "      <td>23.910000</td>\n",
       "      <td>24.210000</td>\n",
       "      <td>21.420000</td>\n",
       "      <td>20.170000</td>\n",
       "      <td>21.500000</td>\n",
       "      <td>17.000000</td>\n",
       "      <td>16.960000</td>\n",
       "      <td>...</td>\n",
       "      <td>13.460000</td>\n",
       "      <td>19.040000</td>\n",
       "      <td>22.580000</td>\n",
       "      <td>27.630000</td>\n",
       "      <td>17.710000</td>\n",
       "      <td>21.340000</td>\n",
       "      <td>24.790000</td>\n",
       "      <td>24.040000</td>\n",
       "      <td>13.290000</td>\n",
       "      <td>17.410000</td>\n",
       "    </tr>\n",
       "    <tr>\n",
       "      <th>mean</th>\n",
       "      <td>11.486667</td>\n",
       "      <td>8.967143</td>\n",
       "      <td>9.862857</td>\n",
       "      <td>16.141429</td>\n",
       "      <td>15.460000</td>\n",
       "      <td>16.417143</td>\n",
       "      <td>15.091429</td>\n",
       "      <td>13.625714</td>\n",
       "      <td>12.951429</td>\n",
       "      <td>11.578571</td>\n",
       "      <td>...</td>\n",
       "      <td>7.702857</td>\n",
       "      <td>13.465714</td>\n",
       "      <td>15.237143</td>\n",
       "      <td>18.998571</td>\n",
       "      <td>13.971429</td>\n",
       "      <td>11.232857</td>\n",
       "      <td>19.190000</td>\n",
       "      <td>14.692857</td>\n",
       "      <td>8.008571</td>\n",
       "      <td>11.801429</td>\n",
       "    </tr>\n",
       "    <tr>\n",
       "      <th>std</th>\n",
       "      <td>3.949525</td>\n",
       "      <td>3.148945</td>\n",
       "      <td>3.837785</td>\n",
       "      <td>5.170224</td>\n",
       "      <td>5.187395</td>\n",
       "      <td>3.608373</td>\n",
       "      <td>3.575012</td>\n",
       "      <td>5.147348</td>\n",
       "      <td>2.851955</td>\n",
       "      <td>3.230167</td>\n",
       "      <td>...</td>\n",
       "      <td>4.152938</td>\n",
       "      <td>4.994834</td>\n",
       "      <td>5.002149</td>\n",
       "      <td>5.686904</td>\n",
       "      <td>3.574854</td>\n",
       "      <td>5.978968</td>\n",
       "      <td>4.953060</td>\n",
       "      <td>7.578665</td>\n",
       "      <td>3.882900</td>\n",
       "      <td>4.705392</td>\n",
       "    </tr>\n",
       "    <tr>\n",
       "      <th rowspan=\"4\" valign=\"top\">ROS</th>\n",
       "      <th>min</th>\n",
       "      <td>7.620000</td>\n",
       "      <td>7.080000</td>\n",
       "      <td>7.290000</td>\n",
       "      <td>12.670000</td>\n",
       "      <td>9.040000</td>\n",
       "      <td>13.670000</td>\n",
       "      <td>6.130000</td>\n",
       "      <td>6.080000</td>\n",
       "      <td>8.170000</td>\n",
       "      <td>7.540000</td>\n",
       "      <td>...</td>\n",
       "      <td>5.000000</td>\n",
       "      <td>9.920000</td>\n",
       "      <td>7.290000</td>\n",
       "      <td>8.790000</td>\n",
       "      <td>7.920000</td>\n",
       "      <td>8.210000</td>\n",
       "      <td>7.210000</td>\n",
       "      <td>8.040000</td>\n",
       "      <td>8.500000</td>\n",
       "      <td>7.830000</td>\n",
       "    </tr>\n",
       "    <tr>\n",
       "      <th>max</th>\n",
       "      <td>12.330000</td>\n",
       "      <td>19.500000</td>\n",
       "      <td>20.790000</td>\n",
       "      <td>25.840000</td>\n",
       "      <td>19.700000</td>\n",
       "      <td>21.340000</td>\n",
       "      <td>19.410000</td>\n",
       "      <td>22.420000</td>\n",
       "      <td>13.670000</td>\n",
       "      <td>16.380000</td>\n",
       "      <td>...</td>\n",
       "      <td>12.210000</td>\n",
       "      <td>16.580000</td>\n",
       "      <td>20.880000</td>\n",
       "      <td>25.460000</td>\n",
       "      <td>18.250000</td>\n",
       "      <td>24.040000</td>\n",
       "      <td>25.370000</td>\n",
       "      <td>18.050000</td>\n",
       "      <td>22.210000</td>\n",
       "      <td>27.290000</td>\n",
       "    </tr>\n",
       "    <tr>\n",
       "      <th>mean</th>\n",
       "      <td>10.487143</td>\n",
       "      <td>11.958571</td>\n",
       "      <td>12.982857</td>\n",
       "      <td>18.225714</td>\n",
       "      <td>12.618571</td>\n",
       "      <td>17.304286</td>\n",
       "      <td>13.797143</td>\n",
       "      <td>14.334286</td>\n",
       "      <td>11.063333</td>\n",
       "      <td>10.845714</td>\n",
       "      <td>...</td>\n",
       "      <td>8.102857</td>\n",
       "      <td>12.137143</td>\n",
       "      <td>12.007143</td>\n",
       "      <td>17.272857</td>\n",
       "      <td>13.544286</td>\n",
       "      <td>13.941429</td>\n",
       "      <td>17.034286</td>\n",
       "      <td>14.987143</td>\n",
       "      <td>13.172857</td>\n",
       "      <td>16.035714</td>\n",
       "    </tr>\n",
       "    <tr>\n",
       "      <th>std</th>\n",
       "      <td>1.604761</td>\n",
       "      <td>5.034959</td>\n",
       "      <td>5.086229</td>\n",
       "      <td>4.665843</td>\n",
       "      <td>3.975166</td>\n",
       "      <td>3.290303</td>\n",
       "      <td>4.196621</td>\n",
       "      <td>5.578470</td>\n",
       "      <td>1.796871</td>\n",
       "      <td>3.592909</td>\n",
       "      <td>...</td>\n",
       "      <td>2.907678</td>\n",
       "      <td>2.339699</td>\n",
       "      <td>4.877317</td>\n",
       "      <td>5.255520</td>\n",
       "      <td>3.765850</td>\n",
       "      <td>5.704736</td>\n",
       "      <td>6.640750</td>\n",
       "      <td>3.637337</td>\n",
       "      <td>4.375903</td>\n",
       "      <td>6.655777</td>\n",
       "    </tr>\n",
       "    <tr>\n",
       "      <th rowspan=\"4\" valign=\"top\">KIL</th>\n",
       "      <th>min</th>\n",
       "      <td>4.580000</td>\n",
       "      <td>0.670000</td>\n",
       "      <td>1.040000</td>\n",
       "      <td>6.040000</td>\n",
       "      <td>5.090000</td>\n",
       "      <td>8.380000</td>\n",
       "      <td>4.210000</td>\n",
       "      <td>2.210000</td>\n",
       "      <td>5.880000</td>\n",
       "      <td>3.130000</td>\n",
       "      <td>...</td>\n",
       "      <td>0.330000</td>\n",
       "      <td>3.670000</td>\n",
       "      <td>2.460000</td>\n",
       "      <td>4.960000</td>\n",
       "      <td>1.830000</td>\n",
       "      <td>0.960000</td>\n",
       "      <td>1.710000</td>\n",
       "      <td>2.210000</td>\n",
       "      <td>1.000000</td>\n",
       "      <td>2.370000</td>\n",
       "    </tr>\n",
       "    <tr>\n",
       "      <th>max</th>\n",
       "      <td>10.130000</td>\n",
       "      <td>10.540000</td>\n",
       "      <td>18.540000</td>\n",
       "      <td>17.540000</td>\n",
       "      <td>11.960000</td>\n",
       "      <td>15.370000</td>\n",
       "      <td>15.340000</td>\n",
       "      <td>15.210000</td>\n",
       "      <td>10.040000</td>\n",
       "      <td>10.250000</td>\n",
       "      <td>...</td>\n",
       "      <td>5.460000</td>\n",
       "      <td>9.960000</td>\n",
       "      <td>17.210000</td>\n",
       "      <td>16.960000</td>\n",
       "      <td>9.830000</td>\n",
       "      <td>12.790000</td>\n",
       "      <td>18.160000</td>\n",
       "      <td>11.630000</td>\n",
       "      <td>9.500000</td>\n",
       "      <td>9.590000</td>\n",
       "    </tr>\n",
       "    <tr>\n",
       "      <th>mean</th>\n",
       "      <td>6.417143</td>\n",
       "      <td>4.630000</td>\n",
       "      <td>6.328571</td>\n",
       "      <td>12.720000</td>\n",
       "      <td>8.247143</td>\n",
       "      <td>10.774286</td>\n",
       "      <td>10.083333</td>\n",
       "      <td>8.524286</td>\n",
       "      <td>7.834286</td>\n",
       "      <td>7.137143</td>\n",
       "      <td>...</td>\n",
       "      <td>3.204286</td>\n",
       "      <td>6.682857</td>\n",
       "      <td>7.684286</td>\n",
       "      <td>10.417143</td>\n",
       "      <td>6.361429</td>\n",
       "      <td>5.565714</td>\n",
       "      <td>9.777143</td>\n",
       "      <td>6.917143</td>\n",
       "      <td>4.004286</td>\n",
       "      <td>6.507143</td>\n",
       "    </tr>\n",
       "    <tr>\n",
       "      <th>std</th>\n",
       "      <td>1.810743</td>\n",
       "      <td>3.549559</td>\n",
       "      <td>6.245541</td>\n",
       "      <td>4.301325</td>\n",
       "      <td>2.709106</td>\n",
       "      <td>2.262056</td>\n",
       "      <td>4.311569</td>\n",
       "      <td>4.482075</td>\n",
       "      <td>1.652572</td>\n",
       "      <td>2.609928</td>\n",
       "      <td>...</td>\n",
       "      <td>1.897084</td>\n",
       "      <td>2.451610</td>\n",
       "      <td>5.256500</td>\n",
       "      <td>4.559370</td>\n",
       "      <td>2.577534</td>\n",
       "      <td>4.729457</td>\n",
       "      <td>6.515066</td>\n",
       "      <td>2.953680</td>\n",
       "      <td>2.776838</td>\n",
       "      <td>3.104323</td>\n",
       "    </tr>\n",
       "    <tr>\n",
       "      <th rowspan=\"4\" valign=\"top\">SHA</th>\n",
       "      <th>min</th>\n",
       "      <td>4.540000</td>\n",
       "      <td>2.290000</td>\n",
       "      <td>3.670000</td>\n",
       "      <td>10.000000</td>\n",
       "      <td>9.870000</td>\n",
       "      <td>8.120000</td>\n",
       "      <td>9.870000</td>\n",
       "      <td>5.960000</td>\n",
       "      <td>8.250000</td>\n",
       "      <td>5.410000</td>\n",
       "      <td>...</td>\n",
       "      <td>1.670000</td>\n",
       "      <td>4.080000</td>\n",
       "      <td>7.000000</td>\n",
       "      <td>7.870000</td>\n",
       "      <td>6.920000</td>\n",
       "      <td>4.540000</td>\n",
       "      <td>6.500000</td>\n",
       "      <td>3.040000</td>\n",
       "      <td>3.500000</td>\n",
       "      <td>4.790000</td>\n",
       "    </tr>\n",
       "    <tr>\n",
       "      <th>max</th>\n",
       "      <td>12.620000</td>\n",
       "      <td>10.370000</td>\n",
       "      <td>13.960000</td>\n",
       "      <td>24.080000</td>\n",
       "      <td>17.370000</td>\n",
       "      <td>25.330000</td>\n",
       "      <td>16.130000</td>\n",
       "      <td>23.090000</td>\n",
       "      <td>16.130000</td>\n",
       "      <td>14.920000</td>\n",
       "      <td>...</td>\n",
       "      <td>13.960000</td>\n",
       "      <td>14.120000</td>\n",
       "      <td>20.300000</td>\n",
       "      <td>20.830000</td>\n",
       "      <td>13.920000</td>\n",
       "      <td>18.210000</td>\n",
       "      <td>24.460000</td>\n",
       "      <td>18.120000</td>\n",
       "      <td>14.290000</td>\n",
       "      <td>13.210000</td>\n",
       "    </tr>\n",
       "    <tr>\n",
       "      <th>mean</th>\n",
       "      <td>9.474286</td>\n",
       "      <td>7.351429</td>\n",
       "      <td>8.966667</td>\n",
       "      <td>17.432857</td>\n",
       "      <td>13.361429</td>\n",
       "      <td>14.718571</td>\n",
       "      <td>13.410000</td>\n",
       "      <td>13.655714</td>\n",
       "      <td>12.101429</td>\n",
       "      <td>10.940000</td>\n",
       "      <td>...</td>\n",
       "      <td>7.464286</td>\n",
       "      <td>9.891429</td>\n",
       "      <td>12.460000</td>\n",
       "      <td>14.220000</td>\n",
       "      <td>10.438571</td>\n",
       "      <td>10.215714</td>\n",
       "      <td>15.287143</td>\n",
       "      <td>11.397143</td>\n",
       "      <td>7.825714</td>\n",
       "      <td>9.660000</td>\n",
       "    </tr>\n",
       "    <tr>\n",
       "      <th>std</th>\n",
       "      <td>3.251660</td>\n",
       "      <td>3.471726</td>\n",
       "      <td>3.612875</td>\n",
       "      <td>4.858116</td>\n",
       "      <td>2.334619</td>\n",
       "      <td>5.571108</td>\n",
       "      <td>2.321716</td>\n",
       "      <td>6.480712</td>\n",
       "      <td>2.957129</td>\n",
       "      <td>3.110857</td>\n",
       "      <td>...</td>\n",
       "      <td>3.934272</td>\n",
       "      <td>3.121855</td>\n",
       "      <td>4.826275</td>\n",
       "      <td>5.207306</td>\n",
       "      <td>3.083134</td>\n",
       "      <td>5.264959</td>\n",
       "      <td>6.657927</td>\n",
       "      <td>6.073620</td>\n",
       "      <td>3.420555</td>\n",
       "      <td>3.198646</td>\n",
       "    </tr>\n",
       "    <tr>\n",
       "      <th rowspan=\"4\" valign=\"top\">BIR</th>\n",
       "      <th>min</th>\n",
       "      <td>2.880000</td>\n",
       "      <td>0.960000</td>\n",
       "      <td>3.170000</td>\n",
       "      <td>9.420000</td>\n",
       "      <td>5.830000</td>\n",
       "      <td>8.080000</td>\n",
       "      <td>6.920000</td>\n",
       "      <td>4.330000</td>\n",
       "      <td>6.000000</td>\n",
       "      <td>4.080000</td>\n",
       "      <td>...</td>\n",
       "      <td>1.920000</td>\n",
       "      <td>2.710000</td>\n",
       "      <td>6.670000</td>\n",
       "      <td>5.370000</td>\n",
       "      <td>3.290000</td>\n",
       "      <td>1.000000</td>\n",
       "      <td>5.960000</td>\n",
       "      <td>0.540000</td>\n",
       "      <td>0.420000</td>\n",
       "      <td>4.290000</td>\n",
       "    </tr>\n",
       "    <tr>\n",
       "      <th>max</th>\n",
       "      <td>8.330000</td>\n",
       "      <td>9.460000</td>\n",
       "      <td>13.370000</td>\n",
       "      <td>19.700000</td>\n",
       "      <td>12.040000</td>\n",
       "      <td>17.620000</td>\n",
       "      <td>15.120000</td>\n",
       "      <td>16.880000</td>\n",
       "      <td>12.290000</td>\n",
       "      <td>13.670000</td>\n",
       "      <td>...</td>\n",
       "      <td>10.540000</td>\n",
       "      <td>11.750000</td>\n",
       "      <td>16.290000</td>\n",
       "      <td>16.000000</td>\n",
       "      <td>11.500000</td>\n",
       "      <td>19.290000</td>\n",
       "      <td>19.580000</td>\n",
       "      <td>13.370000</td>\n",
       "      <td>13.080000</td>\n",
       "      <td>11.670000</td>\n",
       "    </tr>\n",
       "    <tr>\n",
       "      <th>mean</th>\n",
       "      <td>6.435714</td>\n",
       "      <td>5.072857</td>\n",
       "      <td>7.417143</td>\n",
       "      <td>14.828571</td>\n",
       "      <td>9.107143</td>\n",
       "      <td>12.522857</td>\n",
       "      <td>11.868571</td>\n",
       "      <td>10.114286</td>\n",
       "      <td>9.238571</td>\n",
       "      <td>9.488571</td>\n",
       "      <td>...</td>\n",
       "      <td>5.905714</td>\n",
       "      <td>8.314286</td>\n",
       "      <td>9.352857</td>\n",
       "      <td>11.208571</td>\n",
       "      <td>7.404286</td>\n",
       "      <td>8.618571</td>\n",
       "      <td>12.774286</td>\n",
       "      <td>7.272857</td>\n",
       "      <td>6.290000</td>\n",
       "      <td>8.620000</td>\n",
       "    </tr>\n",
       "    <tr>\n",
       "      <th>std</th>\n",
       "      <td>2.059546</td>\n",
       "      <td>3.251039</td>\n",
       "      <td>3.453432</td>\n",
       "      <td>3.749415</td>\n",
       "      <td>2.397066</td>\n",
       "      <td>3.048976</td>\n",
       "      <td>3.024078</td>\n",
       "      <td>5.029874</td>\n",
       "      <td>2.022247</td>\n",
       "      <td>3.440419</td>\n",
       "      <td>...</td>\n",
       "      <td>2.915612</td>\n",
       "      <td>2.934251</td>\n",
       "      <td>3.326253</td>\n",
       "      <td>3.776363</td>\n",
       "      <td>3.059629</td>\n",
       "      <td>6.370660</td>\n",
       "      <td>5.451201</td>\n",
       "      <td>5.075404</td>\n",
       "      <td>3.696512</td>\n",
       "      <td>2.948661</td>\n",
       "    </tr>\n",
       "    <tr>\n",
       "      <th rowspan=\"4\" valign=\"top\">DUB</th>\n",
       "      <th>min</th>\n",
       "      <td>8.630000</td>\n",
       "      <td>2.500000</td>\n",
       "      <td>3.170000</td>\n",
       "      <td>9.250000</td>\n",
       "      <td>8.500000</td>\n",
       "      <td>11.080000</td>\n",
       "      <td>3.420000</td>\n",
       "      <td>3.750000</td>\n",
       "      <td>5.500000</td>\n",
       "      <td>1.710000</td>\n",
       "      <td>...</td>\n",
       "      <td>1.830000</td>\n",
       "      <td>4.630000</td>\n",
       "      <td>4.120000</td>\n",
       "      <td>11.080000</td>\n",
       "      <td>7.170000</td>\n",
       "      <td>1.960000</td>\n",
       "      <td>8.380000</td>\n",
       "      <td>2.460000</td>\n",
       "      <td>2.420000</td>\n",
       "      <td>1.960000</td>\n",
       "    </tr>\n",
       "    <tr>\n",
       "      <th>max</th>\n",
       "      <td>14.290000</td>\n",
       "      <td>15.540000</td>\n",
       "      <td>17.830000</td>\n",
       "      <td>22.000000</td>\n",
       "      <td>14.880000</td>\n",
       "      <td>19.170000</td>\n",
       "      <td>16.080000</td>\n",
       "      <td>21.170000</td>\n",
       "      <td>14.750000</td>\n",
       "      <td>17.120000</td>\n",
       "      <td>...</td>\n",
       "      <td>17.670000</td>\n",
       "      <td>14.580000</td>\n",
       "      <td>19.290000</td>\n",
       "      <td>20.120000</td>\n",
       "      <td>16.710000</td>\n",
       "      <td>21.540000</td>\n",
       "      <td>24.540000</td>\n",
       "      <td>14.830000</td>\n",
       "      <td>16.500000</td>\n",
       "      <td>19.250000</td>\n",
       "    </tr>\n",
       "    <tr>\n",
       "      <th>mean</th>\n",
       "      <td>11.061429</td>\n",
       "      <td>7.535714</td>\n",
       "      <td>9.257143</td>\n",
       "      <td>15.528571</td>\n",
       "      <td>12.204286</td>\n",
       "      <td>14.934286</td>\n",
       "      <td>9.542857</td>\n",
       "      <td>11.150000</td>\n",
       "      <td>10.232857</td>\n",
       "      <td>6.881429</td>\n",
       "      <td>...</td>\n",
       "      <td>8.727143</td>\n",
       "      <td>9.775714</td>\n",
       "      <td>10.224286</td>\n",
       "      <td>16.081429</td>\n",
       "      <td>12.797143</td>\n",
       "      <td>9.642857</td>\n",
       "      <td>14.437143</td>\n",
       "      <td>10.208571</td>\n",
       "      <td>7.798571</td>\n",
       "      <td>13.708571</td>\n",
       "    </tr>\n",
       "    <tr>\n",
       "      <th>std</th>\n",
       "      <td>1.872222</td>\n",
       "      <td>4.709309</td>\n",
       "      <td>5.166300</td>\n",
       "      <td>4.508449</td>\n",
       "      <td>2.423454</td>\n",
       "      <td>2.974059</td>\n",
       "      <td>4.958631</td>\n",
       "      <td>6.037916</td>\n",
       "      <td>3.338177</td>\n",
       "      <td>5.537269</td>\n",
       "      <td>...</td>\n",
       "      <td>6.532926</td>\n",
       "      <td>3.302700</td>\n",
       "      <td>5.513335</td>\n",
       "      <td>3.276372</td>\n",
       "      <td>3.810808</td>\n",
       "      <td>7.688348</td>\n",
       "      <td>5.787535</td>\n",
       "      <td>4.050150</td>\n",
       "      <td>5.595526</td>\n",
       "      <td>6.371937</td>\n",
       "    </tr>\n",
       "    <tr>\n",
       "      <th rowspan=\"4\" valign=\"top\">CLA</th>\n",
       "      <th>min</th>\n",
       "      <td>1.790000</td>\n",
       "      <td>0.580000</td>\n",
       "      <td>2.790000</td>\n",
       "      <td>8.710000</td>\n",
       "      <td>3.630000</td>\n",
       "      <td>9.710000</td>\n",
       "      <td>7.410000</td>\n",
       "      <td>4.670000</td>\n",
       "      <td>5.660000</td>\n",
       "      <td>5.290000</td>\n",
       "      <td>...</td>\n",
       "      <td>2.330000</td>\n",
       "      <td>1.040000</td>\n",
       "      <td>5.880000</td>\n",
       "      <td>7.210000</td>\n",
       "      <td>3.080000</td>\n",
       "      <td>2.040000</td>\n",
       "      <td>6.170000</td>\n",
       "      <td>1.460000</td>\n",
       "      <td>2.500000</td>\n",
       "      <td>0.750000</td>\n",
       "    </tr>\n",
       "    <tr>\n",
       "      <th>max</th>\n",
       "      <td>10.040000</td>\n",
       "      <td>11.500000</td>\n",
       "      <td>11.380000</td>\n",
       "      <td>20.250000</td>\n",
       "      <td>15.540000</td>\n",
       "      <td>18.790000</td>\n",
       "      <td>14.290000</td>\n",
       "      <td>17.250000</td>\n",
       "      <td>14.460000</td>\n",
       "      <td>15.670000</td>\n",
       "      <td>...</td>\n",
       "      <td>11.870000</td>\n",
       "      <td>13.920000</td>\n",
       "      <td>15.120000</td>\n",
       "      <td>18.120000</td>\n",
       "      <td>12.170000</td>\n",
       "      <td>17.210000</td>\n",
       "      <td>19.040000</td>\n",
       "      <td>13.880000</td>\n",
       "      <td>17.160000</td>\n",
       "      <td>16.250000</td>\n",
       "    </tr>\n",
       "    <tr>\n",
       "      <th>mean</th>\n",
       "      <td>6.616667</td>\n",
       "      <td>6.820000</td>\n",
       "      <td>7.875714</td>\n",
       "      <td>15.160000</td>\n",
       "      <td>8.548571</td>\n",
       "      <td>14.850000</td>\n",
       "      <td>12.128571</td>\n",
       "      <td>10.875714</td>\n",
       "      <td>11.130000</td>\n",
       "      <td>9.637143</td>\n",
       "      <td>...</td>\n",
       "      <td>6.652857</td>\n",
       "      <td>9.638571</td>\n",
       "      <td>10.554286</td>\n",
       "      <td>12.915714</td>\n",
       "      <td>7.571429</td>\n",
       "      <td>7.685714</td>\n",
       "      <td>12.488571</td>\n",
       "      <td>7.967143</td>\n",
       "      <td>8.667143</td>\n",
       "      <td>10.477143</td>\n",
       "    </tr>\n",
       "    <tr>\n",
       "      <th>std</th>\n",
       "      <td>3.098404</td>\n",
       "      <td>3.936894</td>\n",
       "      <td>3.164990</td>\n",
       "      <td>4.436222</td>\n",
       "      <td>4.081158</td>\n",
       "      <td>3.022753</td>\n",
       "      <td>2.283444</td>\n",
       "      <td>4.869668</td>\n",
       "      <td>2.877395</td>\n",
       "      <td>3.760557</td>\n",
       "      <td>...</td>\n",
       "      <td>3.263172</td>\n",
       "      <td>4.325234</td>\n",
       "      <td>3.550694</td>\n",
       "      <td>3.680285</td>\n",
       "      <td>3.679119</td>\n",
       "      <td>6.087082</td>\n",
       "      <td>5.153725</td>\n",
       "      <td>4.724368</td>\n",
       "      <td>4.450961</td>\n",
       "      <td>5.913106</td>\n",
       "    </tr>\n",
       "    <tr>\n",
       "      <th rowspan=\"4\" valign=\"top\">MUL</th>\n",
       "      <th>min</th>\n",
       "      <td>5.830000</td>\n",
       "      <td>0.500000</td>\n",
       "      <td>1.920000</td>\n",
       "      <td>7.120000</td>\n",
       "      <td>6.340000</td>\n",
       "      <td>10.370000</td>\n",
       "      <td>8.170000</td>\n",
       "      <td>4.500000</td>\n",
       "      <td>6.250000</td>\n",
       "      <td>5.210000</td>\n",
       "      <td>...</td>\n",
       "      <td>2.080000</td>\n",
       "      <td>3.670000</td>\n",
       "      <td>7.170000</td>\n",
       "      <td>7.290000</td>\n",
       "      <td>3.460000</td>\n",
       "      <td>1.290000</td>\n",
       "      <td>6.630000</td>\n",
       "      <td>1.290000</td>\n",
       "      <td>2.130000</td>\n",
       "      <td>3.040000</td>\n",
       "    </tr>\n",
       "    <tr>\n",
       "      <th>max</th>\n",
       "      <td>10.920000</td>\n",
       "      <td>10.370000</td>\n",
       "      <td>14.670000</td>\n",
       "      <td>21.460000</td>\n",
       "      <td>13.370000</td>\n",
       "      <td>18.960000</td>\n",
       "      <td>14.880000</td>\n",
       "      <td>18.460000</td>\n",
       "      <td>13.960000</td>\n",
       "      <td>16.290000</td>\n",
       "      <td>...</td>\n",
       "      <td>14.420000</td>\n",
       "      <td>13.250000</td>\n",
       "      <td>18.460000</td>\n",
       "      <td>18.290000</td>\n",
       "      <td>15.040000</td>\n",
       "      <td>16.710000</td>\n",
       "      <td>21.000000</td>\n",
       "      <td>15.540000</td>\n",
       "      <td>12.710000</td>\n",
       "      <td>15.250000</td>\n",
       "    </tr>\n",
       "    <tr>\n",
       "      <th>mean</th>\n",
       "      <td>8.434286</td>\n",
       "      <td>5.712857</td>\n",
       "      <td>7.145714</td>\n",
       "      <td>14.480000</td>\n",
       "      <td>9.821429</td>\n",
       "      <td>14.064286</td>\n",
       "      <td>12.375714</td>\n",
       "      <td>10.392857</td>\n",
       "      <td>10.383333</td>\n",
       "      <td>9.885714</td>\n",
       "      <td>...</td>\n",
       "      <td>7.605714</td>\n",
       "      <td>10.185714</td>\n",
       "      <td>11.168571</td>\n",
       "      <td>13.297143</td>\n",
       "      <td>9.998571</td>\n",
       "      <td>9.011429</td>\n",
       "      <td>13.870000</td>\n",
       "      <td>9.168571</td>\n",
       "      <td>7.151429</td>\n",
       "      <td>10.868571</td>\n",
       "    </tr>\n",
       "    <tr>\n",
       "      <th>std</th>\n",
       "      <td>1.722255</td>\n",
       "      <td>3.500975</td>\n",
       "      <td>4.169112</td>\n",
       "      <td>4.902057</td>\n",
       "      <td>2.802490</td>\n",
       "      <td>2.914760</td>\n",
       "      <td>2.560591</td>\n",
       "      <td>4.705163</td>\n",
       "      <td>2.610124</td>\n",
       "      <td>3.657690</td>\n",
       "      <td>...</td>\n",
       "      <td>4.564252</td>\n",
       "      <td>3.142631</td>\n",
       "      <td>4.152170</td>\n",
       "      <td>3.415790</td>\n",
       "      <td>4.183553</td>\n",
       "      <td>5.798696</td>\n",
       "      <td>5.332188</td>\n",
       "      <td>4.927634</td>\n",
       "      <td>3.753818</td>\n",
       "      <td>4.809485</td>\n",
       "    </tr>\n",
       "    <tr>\n",
       "      <th rowspan=\"4\" valign=\"top\">CLO</th>\n",
       "      <th>min</th>\n",
       "      <td>5.880000</td>\n",
       "      <td>2.670000</td>\n",
       "      <td>2.710000</td>\n",
       "      <td>11.040000</td>\n",
       "      <td>5.500000</td>\n",
       "      <td>12.250000</td>\n",
       "      <td>9.210000</td>\n",
       "      <td>7.000000</td>\n",
       "      <td>9.790000</td>\n",
       "      <td>5.090000</td>\n",
       "      <td>...</td>\n",
       "      <td>4.880000</td>\n",
       "      <td>2.750000</td>\n",
       "      <td>9.130000</td>\n",
       "      <td>6.920000</td>\n",
       "      <td>3.370000</td>\n",
       "      <td>3.290000</td>\n",
       "      <td>6.750000</td>\n",
       "      <td>2.670000</td>\n",
       "      <td>4.710000</td>\n",
       "      <td>3.080000</td>\n",
       "    </tr>\n",
       "    <tr>\n",
       "      <th>max</th>\n",
       "      <td>10.460000</td>\n",
       "      <td>14.580000</td>\n",
       "      <td>16.710000</td>\n",
       "      <td>19.950000</td>\n",
       "      <td>13.130000</td>\n",
       "      <td>17.790000</td>\n",
       "      <td>16.580000</td>\n",
       "      <td>20.040000</td>\n",
       "      <td>14.090000</td>\n",
       "      <td>15.790000</td>\n",
       "      <td>...</td>\n",
       "      <td>11.870000</td>\n",
       "      <td>13.500000</td>\n",
       "      <td>16.250000</td>\n",
       "      <td>18.080000</td>\n",
       "      <td>14.290000</td>\n",
       "      <td>17.830000</td>\n",
       "      <td>21.500000</td>\n",
       "      <td>16.290000</td>\n",
       "      <td>12.000000</td>\n",
       "      <td>18.050000</td>\n",
       "    </tr>\n",
       "    <tr>\n",
       "      <th>mean</th>\n",
       "      <td>8.497143</td>\n",
       "      <td>7.571429</td>\n",
       "      <td>8.124286</td>\n",
       "      <td>15.640000</td>\n",
       "      <td>9.460000</td>\n",
       "      <td>14.440000</td>\n",
       "      <td>13.542857</td>\n",
       "      <td>12.730000</td>\n",
       "      <td>12.370000</td>\n",
       "      <td>10.458571</td>\n",
       "      <td>...</td>\n",
       "      <td>8.120000</td>\n",
       "      <td>10.422857</td>\n",
       "      <td>12.232857</td>\n",
       "      <td>13.242857</td>\n",
       "      <td>8.915714</td>\n",
       "      <td>9.547143</td>\n",
       "      <td>14.082857</td>\n",
       "      <td>8.565714</td>\n",
       "      <td>8.072857</td>\n",
       "      <td>11.471429</td>\n",
       "    </tr>\n",
       "    <tr>\n",
       "      <th>std</th>\n",
       "      <td>1.704941</td>\n",
       "      <td>4.084293</td>\n",
       "      <td>4.783952</td>\n",
       "      <td>3.713368</td>\n",
       "      <td>2.839501</td>\n",
       "      <td>1.746749</td>\n",
       "      <td>2.531361</td>\n",
       "      <td>4.920064</td>\n",
       "      <td>1.593685</td>\n",
       "      <td>3.655113</td>\n",
       "      <td>...</td>\n",
       "      <td>2.796712</td>\n",
       "      <td>3.583940</td>\n",
       "      <td>3.009566</td>\n",
       "      <td>3.369286</td>\n",
       "      <td>4.108965</td>\n",
       "      <td>6.284973</td>\n",
       "      <td>5.516405</td>\n",
       "      <td>5.487801</td>\n",
       "      <td>3.023131</td>\n",
       "      <td>5.533397</td>\n",
       "    </tr>\n",
       "    <tr>\n",
       "      <th rowspan=\"4\" valign=\"top\">BEL</th>\n",
       "      <th>min</th>\n",
       "      <td>5.460000</td>\n",
       "      <td>5.250000</td>\n",
       "      <td>6.500000</td>\n",
       "      <td>14.040000</td>\n",
       "      <td>9.170000</td>\n",
       "      <td>15.210000</td>\n",
       "      <td>14.090000</td>\n",
       "      <td>9.590000</td>\n",
       "      <td>11.580000</td>\n",
       "      <td>10.210000</td>\n",
       "      <td>...</td>\n",
       "      <td>7.540000</td>\n",
       "      <td>8.710000</td>\n",
       "      <td>15.160000</td>\n",
       "      <td>16.000000</td>\n",
       "      <td>7.540000</td>\n",
       "      <td>4.920000</td>\n",
       "      <td>9.540000</td>\n",
       "      <td>5.000000</td>\n",
       "      <td>3.210000</td>\n",
       "      <td>1.210000</td>\n",
       "    </tr>\n",
       "    <tr>\n",
       "      <th>max</th>\n",
       "      <td>17.540000</td>\n",
       "      <td>20.710000</td>\n",
       "      <td>15.920000</td>\n",
       "      <td>27.710000</td>\n",
       "      <td>19.330000</td>\n",
       "      <td>26.380000</td>\n",
       "      <td>29.630000</td>\n",
       "      <td>23.210000</td>\n",
       "      <td>23.450000</td>\n",
       "      <td>22.710000</td>\n",
       "      <td>...</td>\n",
       "      <td>18.380000</td>\n",
       "      <td>23.130000</td>\n",
       "      <td>24.170000</td>\n",
       "      <td>23.790000</td>\n",
       "      <td>21.090000</td>\n",
       "      <td>21.420000</td>\n",
       "      <td>26.080000</td>\n",
       "      <td>21.500000</td>\n",
       "      <td>19.790000</td>\n",
       "      <td>21.790000</td>\n",
       "    </tr>\n",
       "    <tr>\n",
       "      <th>mean</th>\n",
       "      <td>12.481429</td>\n",
       "      <td>11.125714</td>\n",
       "      <td>9.821429</td>\n",
       "      <td>20.930000</td>\n",
       "      <td>14.012857</td>\n",
       "      <td>21.832857</td>\n",
       "      <td>21.167143</td>\n",
       "      <td>16.304286</td>\n",
       "      <td>17.842857</td>\n",
       "      <td>16.701429</td>\n",
       "      <td>...</td>\n",
       "      <td>14.487143</td>\n",
       "      <td>18.451429</td>\n",
       "      <td>19.307143</td>\n",
       "      <td>20.357143</td>\n",
       "      <td>15.207143</td>\n",
       "      <td>11.835714</td>\n",
       "      <td>18.517143</td>\n",
       "      <td>11.102857</td>\n",
       "      <td>11.845714</td>\n",
       "      <td>12.947143</td>\n",
       "    </tr>\n",
       "    <tr>\n",
       "      <th>std</th>\n",
       "      <td>4.349139</td>\n",
       "      <td>5.552215</td>\n",
       "      <td>3.626584</td>\n",
       "      <td>5.210726</td>\n",
       "      <td>4.210858</td>\n",
       "      <td>4.063753</td>\n",
       "      <td>5.910938</td>\n",
       "      <td>5.091162</td>\n",
       "      <td>4.332331</td>\n",
       "      <td>4.358759</td>\n",
       "      <td>...</td>\n",
       "      <td>3.684484</td>\n",
       "      <td>4.908793</td>\n",
       "      <td>3.206518</td>\n",
       "      <td>3.155385</td>\n",
       "      <td>5.597612</td>\n",
       "      <td>5.950112</td>\n",
       "      <td>5.600389</td>\n",
       "      <td>6.631925</td>\n",
       "      <td>5.750301</td>\n",
       "      <td>7.523148</td>\n",
       "    </tr>\n",
       "    <tr>\n",
       "      <th rowspan=\"4\" valign=\"top\">MAL</th>\n",
       "      <th>min</th>\n",
       "      <td>10.880000</td>\n",
       "      <td>5.170000</td>\n",
       "      <td>6.790000</td>\n",
       "      <td>17.500000</td>\n",
       "      <td>7.170000</td>\n",
       "      <td>17.040000</td>\n",
       "      <td>10.960000</td>\n",
       "      <td>6.670000</td>\n",
       "      <td>8.830000</td>\n",
       "      <td>5.540000</td>\n",
       "      <td>...</td>\n",
       "      <td>12.620000</td>\n",
       "      <td>10.670000</td>\n",
       "      <td>15.630000</td>\n",
       "      <td>17.880000</td>\n",
       "      <td>11.080000</td>\n",
       "      <td>11.500000</td>\n",
       "      <td>15.340000</td>\n",
       "      <td>6.920000</td>\n",
       "      <td>10.290000</td>\n",
       "      <td>11.960000</td>\n",
       "    </tr>\n",
       "    <tr>\n",
       "      <th>max</th>\n",
       "      <td>16.460000</td>\n",
       "      <td>16.920000</td>\n",
       "      <td>17.960000</td>\n",
       "      <td>27.630000</td>\n",
       "      <td>19.250000</td>\n",
       "      <td>21.840000</td>\n",
       "      <td>22.580000</td>\n",
       "      <td>23.870000</td>\n",
       "      <td>17.540000</td>\n",
       "      <td>22.540000</td>\n",
       "      <td>...</td>\n",
       "      <td>22.370000</td>\n",
       "      <td>25.000000</td>\n",
       "      <td>29.040000</td>\n",
       "      <td>27.420000</td>\n",
       "      <td>26.670000</td>\n",
       "      <td>25.750000</td>\n",
       "      <td>34.590000</td>\n",
       "      <td>22.830000</td>\n",
       "      <td>31.710000</td>\n",
       "      <td>41.460000</td>\n",
       "    </tr>\n",
       "    <tr>\n",
       "      <th>mean</th>\n",
       "      <td>13.238571</td>\n",
       "      <td>11.024286</td>\n",
       "      <td>11.434286</td>\n",
       "      <td>22.530000</td>\n",
       "      <td>11.935714</td>\n",
       "      <td>19.155714</td>\n",
       "      <td>16.584286</td>\n",
       "      <td>14.322857</td>\n",
       "      <td>13.951667</td>\n",
       "      <td>14.420000</td>\n",
       "      <td>...</td>\n",
       "      <td>16.915714</td>\n",
       "      <td>18.721429</td>\n",
       "      <td>22.522857</td>\n",
       "      <td>23.905714</td>\n",
       "      <td>19.491429</td>\n",
       "      <td>18.728571</td>\n",
       "      <td>23.061429</td>\n",
       "      <td>15.562857</td>\n",
       "      <td>18.977143</td>\n",
       "      <td>26.844286</td>\n",
       "    </tr>\n",
       "    <tr>\n",
       "      <th>std</th>\n",
       "      <td>1.773062</td>\n",
       "      <td>4.692355</td>\n",
       "      <td>4.237239</td>\n",
       "      <td>3.874721</td>\n",
       "      <td>4.336104</td>\n",
       "      <td>1.828705</td>\n",
       "      <td>4.685377</td>\n",
       "      <td>6.182283</td>\n",
       "      <td>3.021387</td>\n",
       "      <td>5.769890</td>\n",
       "      <td>...</td>\n",
       "      <td>3.593883</td>\n",
       "      <td>4.229277</td>\n",
       "      <td>5.297445</td>\n",
       "      <td>3.406175</td>\n",
       "      <td>6.677229</td>\n",
       "      <td>6.393188</td>\n",
       "      <td>8.093976</td>\n",
       "      <td>6.005594</td>\n",
       "      <td>7.194108</td>\n",
       "      <td>11.621233</td>\n",
       "    </tr>\n",
       "  </tbody>\n",
       "</table>\n",
       "<p>48 rows × 939 columns</p>\n",
       "</div>"
      ],
      "text/plain": [
       "Date      1961-01-08  1961-01-15  1961-01-22  1961-01-29  1961-02-05  \\\n",
       "RPT min    10.580000    9.040000    4.920000   13.620000   10.580000   \n",
       "    max    18.500000   19.750000   19.830000   25.040000   24.210000   \n",
       "    mean   13.541429   12.468571   13.204286   19.880000   16.827143   \n",
       "    std     2.631321    3.555392    5.337402    4.619061    5.251408   \n",
       "VAL min     6.630000    3.540000    3.420000    9.960000    9.460000   \n",
       "    max    16.880000   12.080000   14.370000   23.910000   24.210000   \n",
       "    mean   11.486667    8.967143    9.862857   16.141429   15.460000   \n",
       "    std     3.949525    3.148945    3.837785    5.170224    5.187395   \n",
       "ROS min     7.620000    7.080000    7.290000   12.670000    9.040000   \n",
       "    max    12.330000   19.500000   20.790000   25.840000   19.700000   \n",
       "    mean   10.487143   11.958571   12.982857   18.225714   12.618571   \n",
       "    std     1.604761    5.034959    5.086229    4.665843    3.975166   \n",
       "KIL min     4.580000    0.670000    1.040000    6.040000    5.090000   \n",
       "    max    10.130000   10.540000   18.540000   17.540000   11.960000   \n",
       "    mean    6.417143    4.630000    6.328571   12.720000    8.247143   \n",
       "    std     1.810743    3.549559    6.245541    4.301325    2.709106   \n",
       "SHA min     4.540000    2.290000    3.670000   10.000000    9.870000   \n",
       "    max    12.620000   10.370000   13.960000   24.080000   17.370000   \n",
       "    mean    9.474286    7.351429    8.966667   17.432857   13.361429   \n",
       "    std     3.251660    3.471726    3.612875    4.858116    2.334619   \n",
       "BIR min     2.880000    0.960000    3.170000    9.420000    5.830000   \n",
       "    max     8.330000    9.460000   13.370000   19.700000   12.040000   \n",
       "    mean    6.435714    5.072857    7.417143   14.828571    9.107143   \n",
       "    std     2.059546    3.251039    3.453432    3.749415    2.397066   \n",
       "DUB min     8.630000    2.500000    3.170000    9.250000    8.500000   \n",
       "    max    14.290000   15.540000   17.830000   22.000000   14.880000   \n",
       "    mean   11.061429    7.535714    9.257143   15.528571   12.204286   \n",
       "    std     1.872222    4.709309    5.166300    4.508449    2.423454   \n",
       "CLA min     1.790000    0.580000    2.790000    8.710000    3.630000   \n",
       "    max    10.040000   11.500000   11.380000   20.250000   15.540000   \n",
       "    mean    6.616667    6.820000    7.875714   15.160000    8.548571   \n",
       "    std     3.098404    3.936894    3.164990    4.436222    4.081158   \n",
       "MUL min     5.830000    0.500000    1.920000    7.120000    6.340000   \n",
       "    max    10.920000   10.370000   14.670000   21.460000   13.370000   \n",
       "    mean    8.434286    5.712857    7.145714   14.480000    9.821429   \n",
       "    std     1.722255    3.500975    4.169112    4.902057    2.802490   \n",
       "CLO min     5.880000    2.670000    2.710000   11.040000    5.500000   \n",
       "    max    10.460000   14.580000   16.710000   19.950000   13.130000   \n",
       "    mean    8.497143    7.571429    8.124286   15.640000    9.460000   \n",
       "    std     1.704941    4.084293    4.783952    3.713368    2.839501   \n",
       "BEL min     5.460000    5.250000    6.500000   14.040000    9.170000   \n",
       "    max    17.540000   20.710000   15.920000   27.710000   19.330000   \n",
       "    mean   12.481429   11.125714    9.821429   20.930000   14.012857   \n",
       "    std     4.349139    5.552215    3.626584    5.210726    4.210858   \n",
       "MAL min    10.880000    5.170000    6.790000   17.500000    7.170000   \n",
       "    max    16.460000   16.920000   17.960000   27.630000   19.250000   \n",
       "    mean   13.238571   11.024286   11.434286   22.530000   11.935714   \n",
       "    std     1.773062    4.692355    4.237239    3.874721    4.336104   \n",
       "\n",
       "Date      1961-02-12  1961-02-19  1961-02-26  1961-03-05  1961-03-12  ...  \\\n",
       "RPT min    16.000000    6.040000    7.790000   10.960000    4.880000  ...   \n",
       "    max    24.540000   22.500000   25.800000   13.330000   14.790000  ...   \n",
       "    mean   19.684286   15.130000   15.221429   12.101429    9.376667  ...   \n",
       "    std     3.587677    5.064609    7.020716    0.997721    3.732263  ...   \n",
       "VAL min    11.540000   11.630000    7.080000    8.830000    8.080000  ...   \n",
       "    max    21.420000   20.170000   21.500000   17.000000   16.960000  ...   \n",
       "    mean   16.417143   15.091429   13.625714   12.951429   11.578571  ...   \n",
       "    std     3.608373    3.575012    5.147348    2.851955    3.230167  ...   \n",
       "ROS min    13.670000    6.130000    6.080000    8.170000    7.540000  ...   \n",
       "    max    21.340000   19.410000   22.420000   13.670000   16.380000  ...   \n",
       "    mean   17.304286   13.797143   14.334286   11.063333   10.845714  ...   \n",
       "    std     3.290303    4.196621    5.578470    1.796871    3.592909  ...   \n",
       "KIL min     8.380000    4.210000    2.210000    5.880000    3.130000  ...   \n",
       "    max    15.370000   15.340000   15.210000   10.040000   10.250000  ...   \n",
       "    mean   10.774286   10.083333    8.524286    7.834286    7.137143  ...   \n",
       "    std     2.262056    4.311569    4.482075    1.652572    2.609928  ...   \n",
       "SHA min     8.120000    9.870000    5.960000    8.250000    5.410000  ...   \n",
       "    max    25.330000   16.130000   23.090000   16.130000   14.920000  ...   \n",
       "    mean   14.718571   13.410000   13.655714   12.101429   10.940000  ...   \n",
       "    std     5.571108    2.321716    6.480712    2.957129    3.110857  ...   \n",
       "BIR min     8.080000    6.920000    4.330000    6.000000    4.080000  ...   \n",
       "    max    17.620000   15.120000   16.880000   12.290000   13.670000  ...   \n",
       "    mean   12.522857   11.868571   10.114286    9.238571    9.488571  ...   \n",
       "    std     3.048976    3.024078    5.029874    2.022247    3.440419  ...   \n",
       "DUB min    11.080000    3.420000    3.750000    5.500000    1.710000  ...   \n",
       "    max    19.170000   16.080000   21.170000   14.750000   17.120000  ...   \n",
       "    mean   14.934286    9.542857   11.150000   10.232857    6.881429  ...   \n",
       "    std     2.974059    4.958631    6.037916    3.338177    5.537269  ...   \n",
       "CLA min     9.710000    7.410000    4.670000    5.660000    5.290000  ...   \n",
       "    max    18.790000   14.290000   17.250000   14.460000   15.670000  ...   \n",
       "    mean   14.850000   12.128571   10.875714   11.130000    9.637143  ...   \n",
       "    std     3.022753    2.283444    4.869668    2.877395    3.760557  ...   \n",
       "MUL min    10.370000    8.170000    4.500000    6.250000    5.210000  ...   \n",
       "    max    18.960000   14.880000   18.460000   13.960000   16.290000  ...   \n",
       "    mean   14.064286   12.375714   10.392857   10.383333    9.885714  ...   \n",
       "    std     2.914760    2.560591    4.705163    2.610124    3.657690  ...   \n",
       "CLO min    12.250000    9.210000    7.000000    9.790000    5.090000  ...   \n",
       "    max    17.790000   16.580000   20.040000   14.090000   15.790000  ...   \n",
       "    mean   14.440000   13.542857   12.730000   12.370000   10.458571  ...   \n",
       "    std     1.746749    2.531361    4.920064    1.593685    3.655113  ...   \n",
       "BEL min    15.210000   14.090000    9.590000   11.580000   10.210000  ...   \n",
       "    max    26.380000   29.630000   23.210000   23.450000   22.710000  ...   \n",
       "    mean   21.832857   21.167143   16.304286   17.842857   16.701429  ...   \n",
       "    std     4.063753    5.910938    5.091162    4.332331    4.358759  ...   \n",
       "MAL min    17.040000   10.960000    6.670000    8.830000    5.540000  ...   \n",
       "    max    21.840000   22.580000   23.870000   17.540000   22.540000  ...   \n",
       "    mean   19.155714   16.584286   14.322857   13.951667   14.420000  ...   \n",
       "    std     1.828705    4.685377    6.182283    3.021387    5.769890  ...   \n",
       "\n",
       "Date      1978-10-29  1978-11-05  1978-11-12  1978-11-19  1978-11-26  \\\n",
       "RPT min     2.040000    8.580000    7.380000   13.880000    9.540000   \n",
       "    max    11.540000   18.750000   25.410000   30.210000   23.160000   \n",
       "    mean    7.504286   13.060000   14.857143   20.590000   16.498571   \n",
       "    std     3.156500    3.787180    6.126537    5.487249    4.050216   \n",
       "VAL min     1.210000    4.290000    8.120000   11.670000    8.330000   \n",
       "    max    13.460000   19.040000   22.580000   27.630000   17.710000   \n",
       "    mean    7.702857   13.465714   15.237143   18.998571   13.971429   \n",
       "    std     4.152938    4.994834    5.002149    5.686904    3.574854   \n",
       "ROS min     5.000000    9.920000    7.290000    8.790000    7.920000   \n",
       "    max    12.210000   16.580000   20.880000   25.460000   18.250000   \n",
       "    mean    8.102857   12.137143   12.007143   17.272857   13.544286   \n",
       "    std     2.907678    2.339699    4.877317    5.255520    3.765850   \n",
       "KIL min     0.330000    3.670000    2.460000    4.960000    1.830000   \n",
       "    max     5.460000    9.960000   17.210000   16.960000    9.830000   \n",
       "    mean    3.204286    6.682857    7.684286   10.417143    6.361429   \n",
       "    std     1.897084    2.451610    5.256500    4.559370    2.577534   \n",
       "SHA min     1.670000    4.080000    7.000000    7.870000    6.920000   \n",
       "    max    13.960000   14.120000   20.300000   20.830000   13.920000   \n",
       "    mean    7.464286    9.891429   12.460000   14.220000   10.438571   \n",
       "    std     3.934272    3.121855    4.826275    5.207306    3.083134   \n",
       "BIR min     1.920000    2.710000    6.670000    5.370000    3.290000   \n",
       "    max    10.540000   11.750000   16.290000   16.000000   11.500000   \n",
       "    mean    5.905714    8.314286    9.352857   11.208571    7.404286   \n",
       "    std     2.915612    2.934251    3.326253    3.776363    3.059629   \n",
       "DUB min     1.830000    4.630000    4.120000   11.080000    7.170000   \n",
       "    max    17.670000   14.580000   19.290000   20.120000   16.710000   \n",
       "    mean    8.727143    9.775714   10.224286   16.081429   12.797143   \n",
       "    std     6.532926    3.302700    5.513335    3.276372    3.810808   \n",
       "CLA min     2.330000    1.040000    5.880000    7.210000    3.080000   \n",
       "    max    11.870000   13.920000   15.120000   18.120000   12.170000   \n",
       "    mean    6.652857    9.638571   10.554286   12.915714    7.571429   \n",
       "    std     3.263172    4.325234    3.550694    3.680285    3.679119   \n",
       "MUL min     2.080000    3.670000    7.170000    7.290000    3.460000   \n",
       "    max    14.420000   13.250000   18.460000   18.290000   15.040000   \n",
       "    mean    7.605714   10.185714   11.168571   13.297143    9.998571   \n",
       "    std     4.564252    3.142631    4.152170    3.415790    4.183553   \n",
       "CLO min     4.880000    2.750000    9.130000    6.920000    3.370000   \n",
       "    max    11.870000   13.500000   16.250000   18.080000   14.290000   \n",
       "    mean    8.120000   10.422857   12.232857   13.242857    8.915714   \n",
       "    std     2.796712    3.583940    3.009566    3.369286    4.108965   \n",
       "BEL min     7.540000    8.710000   15.160000   16.000000    7.540000   \n",
       "    max    18.380000   23.130000   24.170000   23.790000   21.090000   \n",
       "    mean   14.487143   18.451429   19.307143   20.357143   15.207143   \n",
       "    std     3.684484    4.908793    3.206518    3.155385    5.597612   \n",
       "MAL min    12.620000   10.670000   15.630000   17.880000   11.080000   \n",
       "    max    22.370000   25.000000   29.040000   27.420000   26.670000   \n",
       "    mean   16.915714   18.721429   22.522857   23.905714   19.491429   \n",
       "    std     3.593883    4.229277    5.297445    3.406175    6.677229   \n",
       "\n",
       "Date      1978-12-03  1978-12-10  1978-12-17  1978-12-24  1978-12-31  \n",
       "RPT min     9.080000    9.920000    9.870000    6.210000    7.210000  \n",
       "    max    21.290000   29.330000   23.130000   16.620000   20.330000  \n",
       "    mean   14.934286   20.740000   16.758571   11.155714   14.951429  \n",
       "    std     4.931754    7.215012    4.499431    3.522759    4.350400  \n",
       "VAL min     4.540000   12.540000    3.210000    3.630000    5.460000  \n",
       "    max    21.340000   24.790000   24.040000   13.290000   17.410000  \n",
       "    mean   11.232857   19.190000   14.692857    8.008571   11.801429  \n",
       "    std     5.978968    4.953060    7.578665    3.882900    4.705392  \n",
       "ROS min     8.210000    7.210000    8.040000    8.500000    7.830000  \n",
       "    max    24.040000   25.370000   18.050000   22.210000   27.290000  \n",
       "    mean   13.941429   17.034286   14.987143   13.172857   16.035714  \n",
       "    std     5.704736    6.640750    3.637337    4.375903    6.655777  \n",
       "KIL min     0.960000    1.710000    2.210000    1.000000    2.370000  \n",
       "    max    12.790000   18.160000   11.630000    9.500000    9.590000  \n",
       "    mean    5.565714    9.777143    6.917143    4.004286    6.507143  \n",
       "    std     4.729457    6.515066    2.953680    2.776838    3.104323  \n",
       "SHA min     4.540000    6.500000    3.040000    3.500000    4.790000  \n",
       "    max    18.210000   24.460000   18.120000   14.290000   13.210000  \n",
       "    mean   10.215714   15.287143   11.397143    7.825714    9.660000  \n",
       "    std     5.264959    6.657927    6.073620    3.420555    3.198646  \n",
       "BIR min     1.000000    5.960000    0.540000    0.420000    4.290000  \n",
       "    max    19.290000   19.580000   13.370000   13.080000   11.670000  \n",
       "    mean    8.618571   12.774286    7.272857    6.290000    8.620000  \n",
       "    std     6.370660    5.451201    5.075404    3.696512    2.948661  \n",
       "DUB min     1.960000    8.380000    2.460000    2.420000    1.960000  \n",
       "    max    21.540000   24.540000   14.830000   16.500000   19.250000  \n",
       "    mean    9.642857   14.437143   10.208571    7.798571   13.708571  \n",
       "    std     7.688348    5.787535    4.050150    5.595526    6.371937  \n",
       "CLA min     2.040000    6.170000    1.460000    2.500000    0.750000  \n",
       "    max    17.210000   19.040000   13.880000   17.160000   16.250000  \n",
       "    mean    7.685714   12.488571    7.967143    8.667143   10.477143  \n",
       "    std     6.087082    5.153725    4.724368    4.450961    5.913106  \n",
       "MUL min     1.290000    6.630000    1.290000    2.130000    3.040000  \n",
       "    max    16.710000   21.000000   15.540000   12.710000   15.250000  \n",
       "    mean    9.011429   13.870000    9.168571    7.151429   10.868571  \n",
       "    std     5.798696    5.332188    4.927634    3.753818    4.809485  \n",
       "CLO min     3.290000    6.750000    2.670000    4.710000    3.080000  \n",
       "    max    17.830000   21.500000   16.290000   12.000000   18.050000  \n",
       "    mean    9.547143   14.082857    8.565714    8.072857   11.471429  \n",
       "    std     6.284973    5.516405    5.487801    3.023131    5.533397  \n",
       "BEL min     4.920000    9.540000    5.000000    3.210000    1.210000  \n",
       "    max    21.420000   26.080000   21.500000   19.790000   21.790000  \n",
       "    mean   11.835714   18.517143   11.102857   11.845714   12.947143  \n",
       "    std     5.950112    5.600389    6.631925    5.750301    7.523148  \n",
       "MAL min    11.500000   15.340000    6.920000   10.290000   11.960000  \n",
       "    max    25.750000   34.590000   22.830000   31.710000   41.460000  \n",
       "    mean   18.728571   23.061429   15.562857   18.977143   26.844286  \n",
       "    std     6.393188    8.093976    6.005594    7.194108   11.621233  \n",
       "\n",
       "[48 rows x 939 columns]"
      ]
     },
     "execution_count": 253,
     "metadata": {},
     "output_type": "execute_result"
    }
   ],
   "source": [
    "data = data[data.index >= '1961-01-02']\n",
    "data.resample('W').agg(['min', 'max', 'mean', 'std']).T"
   ]
  },
  {
   "cell_type": "markdown",
   "id": "2964d3ae",
   "metadata": {},
   "source": [
    "## Section 7: Visualization"
   ]
  },
  {
   "cell_type": "markdown",
   "id": "b31f3d2a",
   "metadata": {},
   "source": [
    "### Introduction:\n",
    "\n",
    "This exercise is based on the titanic Disaster dataset avaiable at [Kaggle](https://www.kaggle.com/c/titanic).  \n",
    "To know more about the variables check [here](https://www.kaggle.com/c/titanic/data)\n",
    "\n",
    "\n",
    "### Step 1. Import the necessary libraries"
   ]
  },
  {
   "cell_type": "code",
   "execution_count": null,
   "id": "af7f3be3",
   "metadata": {},
   "outputs": [],
   "source": [
    "import matplotlib.pyplot as plt\n",
    "import pandas as pd\n",
    "import numpy as np\n",
    "from mpl_toolkits.mplot3d import Axes3D"
   ]
  },
  {
   "cell_type": "markdown",
   "id": "27516d9f",
   "metadata": {},
   "source": [
    "### Step 2. Import the dataset from this [address](https://raw.githubusercontent.com/guipsamora/pandas_exercises/master/07_Visualization/Titanic_Desaster/train.csv)"
   ]
  },
  {
   "cell_type": "markdown",
   "id": "cbffa305",
   "metadata": {},
   "source": [
    "### Step 3. Assign it to a variable titanic "
   ]
  },
  {
   "cell_type": "code",
   "execution_count": 254,
   "id": "8ee77fc2",
   "metadata": {},
   "outputs": [
    {
     "name": "stdout",
     "output_type": "stream",
     "text": [
      "   PassengerId  Survived  Pclass  \\\n",
      "0            1         0       3   \n",
      "1            2         1       1   \n",
      "2            3         1       3   \n",
      "3            4         1       1   \n",
      "4            5         0       3   \n",
      "\n",
      "                                                Name     Sex   Age  SibSp  \\\n",
      "0                            Braund, Mr. Owen Harris    male  22.0      1   \n",
      "1  Cumings, Mrs. John Bradley (Florence Briggs Th...  female  38.0      1   \n",
      "2                             Heikkinen, Miss. Laina  female  26.0      0   \n",
      "3       Futrelle, Mrs. Jacques Heath (Lily May Peel)  female  35.0      1   \n",
      "4                           Allen, Mr. William Henry    male  35.0      0   \n",
      "\n",
      "   Parch            Ticket     Fare Cabin Embarked  \n",
      "0      0         A/5 21171   7.2500   NaN        S  \n",
      "1      0          PC 17599  71.2833   C85        C  \n",
      "2      0  STON/O2. 3101282   7.9250   NaN        S  \n",
      "3      0            113803  53.1000  C123        S  \n",
      "4      0            373450   8.0500   NaN        S  \n"
     ]
    }
   ],
   "source": [
    "url = 'https://raw.githubusercontent.com/guipsamora/pandas_exercises/master/07_Visualization/Titanic_Desaster/train.csv'\n",
    "titanic = pd.read_csv(url)\n",
    "print(titanic.head())"
   ]
  },
  {
   "cell_type": "markdown",
   "id": "cde83321",
   "metadata": {},
   "source": [
    "### Step 4. Set PassengerId as the index "
   ]
  },
  {
   "cell_type": "code",
   "execution_count": 258,
   "id": "2688e8b8",
   "metadata": {},
   "outputs": [
    {
     "name": "stdout",
     "output_type": "stream",
     "text": [
      "             Survived  Pclass  \\\n",
      "PassengerId                     \n",
      "1                   0       3   \n",
      "2                   1       1   \n",
      "3                   1       3   \n",
      "4                   1       1   \n",
      "5                   0       3   \n",
      "\n",
      "                                                          Name     Sex   Age  \\\n",
      "PassengerId                                                                    \n",
      "1                                      Braund, Mr. Owen Harris    male  22.0   \n",
      "2            Cumings, Mrs. John Bradley (Florence Briggs Th...  female  38.0   \n",
      "3                                       Heikkinen, Miss. Laina  female  26.0   \n",
      "4                 Futrelle, Mrs. Jacques Heath (Lily May Peel)  female  35.0   \n",
      "5                                     Allen, Mr. William Henry    male  35.0   \n",
      "\n",
      "             SibSp  Parch            Ticket     Fare Cabin Embarked  \n",
      "PassengerId                                                          \n",
      "1                1      0         A/5 21171   7.2500   NaN        S  \n",
      "2                1      0          PC 17599  71.2833   C85        C  \n",
      "3                0      0  STON/O2. 3101282   7.9250   NaN        S  \n",
      "4                1      0            113803  53.1000  C123        S  \n",
      "5                0      0            373450   8.0500   NaN        S  \n"
     ]
    }
   ],
   "source": [
    "titanic.set_index('PassengerId', inplace=True)\n",
    "print(titanic.head())"
   ]
  },
  {
   "cell_type": "markdown",
   "id": "8521c676",
   "metadata": {},
   "source": [
    "### Step 5. Create a pie chart presenting the male/female proportion"
   ]
  },
  {
   "cell_type": "code",
   "execution_count": 266,
   "id": "8e733319",
   "metadata": {},
   "outputs": [
    {
     "data": {
      "image/png": "[encoded data removed]",
      "text/plain": [
       "<Figure size 500x500 with 1 Axes>"
      ]
     },
     "metadata": {},
     "output_type": "display_data"
    }
   ],
   "source": [
    "import matplotlib.pyplot as plt\n",
    "sex_counts = titanic['Sex'].value_counts()\n",
    "plt.figure(figsize=(5, 5))\n",
    "plt.pie(sex_counts, labels=sex_counts.index, autopct='%1.1f%%', startangle=90, colors=['blue', 'pink'])\n",
    "plt.title('Titanic male/female proportion')\n",
    "plt.axis('equal')\n",
    "plt.show()"
   ]
  },
  {
   "cell_type": "markdown",
   "id": "649e4637",
   "metadata": {},
   "source": [
    "### Step 6. Create a scatterplot with the Fare payed and the Age, differ the plot color by gender"
   ]
  },
  {
   "cell_type": "code",
   "execution_count": 273,
   "id": "92164732",
   "metadata": {},
   "outputs": [
    {
     "data": {
      "image/png": "[encoded data removed]",
      "text/plain": [
       "<Figure size 1000x600 with 1 Axes>"
      ]
     },
     "metadata": {},
     "output_type": "display_data"
    }
   ],
   "source": [
    "plt.figure(figsize=[10, 6])\n",
    "\n",
    "plt.scatter(titanic[titanic['Sex'] == 'male']['Fare'],\n",
    "            titanic[titanic['Sex'] == 'male']['Age'],\n",
    "            c='blue', label='Male', alpha=0.6)\n",
    "\n",
    "plt.scatter(titanic[titanic['Sex'] == 'female']['Fare'],\n",
    "            titanic[titanic['Sex'] == 'female']['Age'],\n",
    "            c='red', label='Female', alpha=0.6)\n",
    "\n",
    "plt.xlabel('Age')\n",
    "plt.ylabel('Fare')\n",
    "plt.title('Fare and Age')\n",
    "plt.legend()\n",
    "plt.grid(True)\n",
    "plt.show()"
   ]
  },
  {
   "cell_type": "markdown",
   "id": "1adedc10",
   "metadata": {},
   "source": [
    "### Step 7. How many people survived?"
   ]
  },
  {
   "cell_type": "code",
   "execution_count": 275,
   "id": "4abad8fb",
   "metadata": {},
   "outputs": [
    {
     "data": {
      "text/plain": [
       "np.int64(342)"
      ]
     },
     "execution_count": 275,
     "metadata": {},
     "output_type": "execute_result"
    }
   ],
   "source": [
    "titanic['Survived'].sum()"
   ]
  },
  {
   "cell_type": "markdown",
   "id": "87dac705",
   "metadata": {},
   "source": [
    "### Step 8. Create a histogram with the Fare payed"
   ]
  },
  {
   "cell_type": "code",
   "execution_count": 277,
   "id": "bc52c481",
   "metadata": {},
   "outputs": [
    {
     "data": {
      "image/png": "[encoded data removed]",
      "text/plain": [
       "<Figure size 1000x600 with 1 Axes>"
      ]
     },
     "metadata": {},
     "output_type": "display_data"
    }
   ],
   "source": [
    "plt.figure(figsize=[10,6])\n",
    "plt.hist(titanic['Fare'], bins=30, color='blue', edgecolor='red')\n",
    "plt.title('Fare payed')\n",
    "plt.xlabel('Fare')\n",
    "plt.ylabel('Number of passengers')\n",
    "plt.grid(True)\n",
    "plt.show()"
   ]
  },
  {
   "cell_type": "markdown",
   "id": "d8dbfcaf",
   "metadata": {},
   "source": [
    "### BONUS: Create your own question and answer it."
   ]
  },
  {
   "cell_type": "code",
   "execution_count": 294,
   "id": "e13ab414",
   "metadata": {},
   "outputs": [
    {
     "name": "stdout",
     "output_type": "stream",
     "text": [
      "Female survival rate: 74.20%\n",
      "Male survival rate: 18.89%\n",
      "Pclass\n",
      "1    62.962963\n",
      "2    47.282609\n",
      "3    24.236253\n",
      "Name: Survived, dtype: float64\n"
     ]
    },
    {
     "data": {
      "image/png": "[encoded data removed]",
      "text/plain": [
       "<Figure size 600x400 with 1 Axes>"
      ]
     },
     "metadata": {},
     "output_type": "display_data"
    }
   ],
   "source": [
    "# What is the survival rate?\n",
    "survival_rate = titanic.groupby('Sex')['Survived'].mean() * 100\n",
    "for gender, rate in survival_rate.items():\n",
    "    print(f\"{gender.capitalize()} survival rate: {rate:.2f}%\")\n",
    "\n",
    "# which class had the best survival rate?\n",
    "the_best_class_to_travel = titanic.groupby('Pclass')['Survived'].mean() * 100\n",
    "print(the_best_class_to_travel)\n",
    "\n",
    "# Do sex and class correlate? (did not really solve this one)\n",
    "survival_rate = titanic.groupby(['Pclass', 'Sex'])['Survived'].mean().reset_index()\n",
    "survival_rate['Gender_num'] = survival_rate['Sex'].map({'male': 0, 'female': 1})\n",
    "\n",
    "fig = plt.figure(figsize=[8, 6])\n",
    "ax = fig.add_subplot(111, projection='3d')\n",
    "ax.scatter(\n",
    "    survival_rate['Pclass'],\n",
    "    survival_rate['Gender_num'],\n",
    "    survival_rate['Survived'] * 100,\n",
    "    c=survival_rate['Survived'] * 100,\n",
    "    cmap='coolwarm',\n",
    "    s=50\n",
    ")\n",
    "\n",
    "ax.set_xlabel('Passenger class')\n",
    "ax.set_ylabel('Passenger gender (0 = male, 1 = female)')\n",
    "ax.set_zlabel('Survival rate (%)')\n",
    "ax.set_yticks([0, 1])\n",
    "ax.set_yticklabels(['Male', 'Female'])\n",
    "ax.set_title('Titanic survival rate by class and gender')\n",
    "plt.show()\n",
    "\n",
    "\n"
   ]
  },
  {
   "cell_type": "markdown",
   "id": "448734a8",
   "metadata": {
    "collapsed": true,
    "jupyter": {
     "outputs_hidden": true
    }
   },
   "source": [
    "## Section 8: Creating Series and DataFrames"
   ]
  },
  {
   "cell_type": "markdown",
   "id": "738a181a",
   "metadata": {},
   "source": [
    "### Introduction:\n",
    "\n",
    "This time you will create the data.\n",
    "\n",
    "\n",
    "\n",
    "### Step 1. Import the necessary libraries"
   ]
  },
  {
   "cell_type": "code",
   "execution_count": null,
   "id": "2c1b5c9c",
   "metadata": {},
   "outputs": [],
   "source": [
    "import pandas as pd\n",
    "import numpy as np"
   ]
  },
  {
   "cell_type": "markdown",
   "id": "5bdbd7f3",
   "metadata": {},
   "source": [
    "### Step 2. Create a data dictionary that looks like the DataFrame below"
   ]
  },
  {
   "cell_type": "code",
   "execution_count": 298,
   "id": "00bc7623",
   "metadata": {},
   "outputs": [
    {
     "name": "stdout",
     "output_type": "stream",
     "text": [
      "{'evoliution': ['Ivysaur', 'Charmeleon', 'Wartotle', 'Metapod'], 'hp': [45, 39, 44, 45], 'name': ['Bulbasaur', 'Charmander', 'Squitle', 'Caterpie'], 'pokedex': ['yes', 'no', 'yes', 'no'], 'type': ['grass', 'fire', 'water', 'bug']}\n"
     ]
    }
   ],
   "source": [
    "data8 = {\n",
    "    'evoliution': ['Ivysaur', 'Charmeleon', 'Wartotle', 'Metapod'],\n",
    "    'hp': [45, 39, 44, 45],\n",
    "    'name': ['Bulbasaur', 'Charmander', 'Squitle', 'Caterpie'],\n",
    "    'pokedex': ['yes', 'no', 'yes', 'no'],\n",
    "    'type': ['grass', 'fire', 'water', 'bug']\n",
    "}\n",
    "print(data8)"
   ]
  },
  {
   "cell_type": "markdown",
   "id": "5f4768bc",
   "metadata": {},
   "source": [
    "### Step 3. Assign it to a variable called pokemon"
   ]
  },
  {
   "cell_type": "code",
   "execution_count": 299,
   "id": "20222f8f",
   "metadata": {},
   "outputs": [
    {
     "name": "stdout",
     "output_type": "stream",
     "text": [
      "   evoliution  hp        name pokedex   type\n",
      "0     Ivysaur  45   Bulbasaur     yes  grass\n",
      "1  Charmeleon  39  Charmander      no   fire\n",
      "2    Wartotle  44     Squitle     yes  water\n",
      "3     Metapod  45    Caterpie      no    bug\n"
     ]
    }
   ],
   "source": [
    "pokemon = pd.DataFrame(data8)\n",
    "print(pokemon.head())"
   ]
  },
  {
   "cell_type": "markdown",
   "id": "c9257b6d",
   "metadata": {},
   "source": [
    "### Step 4. Ops...it seems the DataFrame columns are in alphabetical order. Place  the order of the columns as name, type, hp, evolution, pokedex"
   ]
  },
  {
   "cell_type": "code",
   "execution_count": 302,
   "id": "5a6b37f9",
   "metadata": {},
   "outputs": [
    {
     "data": {
      "text/html": [
       "<div>\n",
       "<style scoped>\n",
       "    .dataframe tbody tr th:only-of-type {\n",
       "        vertical-align: middle;\n",
       "    }\n",
       "\n",
       "    .dataframe tbody tr th {\n",
       "        vertical-align: top;\n",
       "    }\n",
       "\n",
       "    .dataframe thead th {\n",
       "        text-align: right;\n",
       "    }\n",
       "</style>\n",
       "<table border=\"1\" class=\"dataframe\">\n",
       "  <thead>\n",
       "    <tr style=\"text-align: right;\">\n",
       "      <th></th>\n",
       "      <th>name</th>\n",
       "      <th>type</th>\n",
       "      <th>hp</th>\n",
       "      <th>evoliution</th>\n",
       "      <th>pokedex</th>\n",
       "    </tr>\n",
       "  </thead>\n",
       "  <tbody>\n",
       "    <tr>\n",
       "      <th>0</th>\n",
       "      <td>Bulbasaur</td>\n",
       "      <td>grass</td>\n",
       "      <td>45</td>\n",
       "      <td>Ivysaur</td>\n",
       "      <td>yes</td>\n",
       "    </tr>\n",
       "    <tr>\n",
       "      <th>1</th>\n",
       "      <td>Charmander</td>\n",
       "      <td>fire</td>\n",
       "      <td>39</td>\n",
       "      <td>Charmeleon</td>\n",
       "      <td>no</td>\n",
       "    </tr>\n",
       "    <tr>\n",
       "      <th>2</th>\n",
       "      <td>Squitle</td>\n",
       "      <td>water</td>\n",
       "      <td>44</td>\n",
       "      <td>Wartotle</td>\n",
       "      <td>yes</td>\n",
       "    </tr>\n",
       "    <tr>\n",
       "      <th>3</th>\n",
       "      <td>Caterpie</td>\n",
       "      <td>bug</td>\n",
       "      <td>45</td>\n",
       "      <td>Metapod</td>\n",
       "      <td>no</td>\n",
       "    </tr>\n",
       "  </tbody>\n",
       "</table>\n",
       "</div>"
      ],
      "text/plain": [
       "         name   type  hp  evoliution pokedex\n",
       "0   Bulbasaur  grass  45     Ivysaur     yes\n",
       "1  Charmander   fire  39  Charmeleon      no\n",
       "2     Squitle  water  44    Wartotle     yes\n",
       "3    Caterpie    bug  45     Metapod      no"
      ]
     },
     "execution_count": 302,
     "metadata": {},
     "output_type": "execute_result"
    }
   ],
   "source": [
    "pokemon = pokemon[['name', 'type', 'hp', 'evoliution', 'pokedex']]\n",
    "pokemon.head()"
   ]
  },
  {
   "cell_type": "markdown",
   "id": "9f2b0341",
   "metadata": {},
   "source": [
    "### Step 5. Add another column called place, and insert what you have in mind."
   ]
  },
  {
   "cell_type": "code",
   "execution_count": 305,
   "id": "90c19f79",
   "metadata": {},
   "outputs": [
    {
     "name": "stdout",
     "output_type": "stream",
     "text": [
      "         name   type  hp  evoliution pokedex      place\n",
      "0   Bulbasaur  grass  45     Ivysaur     yes     forest\n",
      "1  Charmander   fire  39  Charmeleon      no    volcano\n",
      "2     Squitle  water  44    Wartotle     yes        sea\n",
      "3    Caterpie    bug  45     Metapod      no  forest(?)\n"
     ]
    }
   ],
   "source": [
    "places = ['forest', 'volcano', 'sea', 'forest(?)']\n",
    "pokemon.loc[:,'place'] = places\n",
    "print(pokemon.head())"
   ]
  },
  {
   "cell_type": "markdown",
   "id": "0f594dc0",
   "metadata": {},
   "source": [
    "### Step 6. Present the type of each column"
   ]
  },
  {
   "cell_type": "code",
   "execution_count": 309,
   "id": "dfd80172",
   "metadata": {},
   "outputs": [
    {
     "name": "stdout",
     "output_type": "stream",
     "text": [
      "<class 'pandas.core.frame.DataFrame'>\n",
      "RangeIndex: 4 entries, 0 to 3\n",
      "Data columns (total 6 columns):\n",
      " #   Column      Non-Null Count  Dtype \n",
      "---  ------      --------------  ----- \n",
      " 0   name        4 non-null      object\n",
      " 1   type        4 non-null      object\n",
      " 2   hp          4 non-null      int64 \n",
      " 3   evoliution  4 non-null      object\n",
      " 4   pokedex     4 non-null      object\n",
      " 5   place       4 non-null      object\n",
      "dtypes: int64(1), object(5)\n",
      "memory usage: 324.0+ bytes\n"
     ]
    }
   ],
   "source": [
    "pokemon.info()"
   ]
  },
  {
   "cell_type": "markdown",
   "id": "58e6b8fa",
   "metadata": {},
   "source": [
    "### BONUS: Create your own question and answer it."
   ]
  },
  {
   "cell_type": "code",
   "execution_count": 313,
   "id": "6a97fc28",
   "metadata": {},
   "outputs": [
    {
     "name": "stdout",
     "output_type": "stream",
     "text": [
      "         name   type  hp  evoliution pokedex      place\n",
      "0   Bulbasaur  grass  45     Ivysaur     yes     forest\n",
      "3    Caterpie    bug  45     Metapod      no  forest(?)\n",
      "2     Squitle  water  44    Wartotle     yes        sea\n",
      "1  Charmander   fire  39  Charmeleon      no    volcano\n"
     ]
    }
   ],
   "source": [
    "#sort name by hp\n",
    "pokemon.sort_values(by='hp', ascending=False, inplace=True)\n",
    "print(pokemon.head())"
   ]
  },
  {
   "cell_type": "markdown",
   "id": "010c5b0f",
   "metadata": {
    "collapsed": true,
    "jupyter": {
     "outputs_hidden": true
    }
   },
   "source": [
    "## Section: 9 Time Series"
   ]
  },
  {
   "cell_type": "markdown",
   "id": "e3a0ed0d",
   "metadata": {},
   "source": [
    "### Introduction:\n",
    "\n",
    "We are going to use Apple's stock price.\n",
    "\n",
    "\n",
    "### Step 1. Import the necessary libraries"
   ]
  },
  {
   "cell_type": "code",
   "execution_count": 351,
   "id": "d02fb709",
   "metadata": {},
   "outputs": [],
   "source": [
    "import pandas as pd\n",
    "import numpy as np\n",
    "import datetime \n",
    "import matplotlib.pyplot as plt"
   ]
  },
  {
   "cell_type": "markdown",
   "id": "52d58d8c",
   "metadata": {},
   "source": [
    "### Step 2. Import the dataset from this [address](https://raw.githubusercontent.com/guipsamora/pandas_exercises/master/09_Time_Series/Apple_Stock/appl_1980_2014.csv)"
   ]
  },
  {
   "cell_type": "code",
   "execution_count": 358,
   "id": "50dd5dc5",
   "metadata": {},
   "outputs": [],
   "source": [
    "url9 = 'https://raw.githubusercontent.com/guipsamora/pandas_exercises/master/09_Time_Series/Apple_Stock/appl_1980_2014.csv'\n",
    "data9 = pd.read_csv(url9)"
   ]
  },
  {
   "cell_type": "markdown",
   "id": "e4ac4bef",
   "metadata": {},
   "source": [
    "### Step 3. Assign it to a variable apple"
   ]
  },
  {
   "cell_type": "code",
   "execution_count": 359,
   "id": "9e1f55b9",
   "metadata": {},
   "outputs": [],
   "source": [
    "apple = data9"
   ]
  },
  {
   "cell_type": "markdown",
   "id": "6f1765e1",
   "metadata": {},
   "source": [
    "### Step 4.  Check out the type of the columns"
   ]
  },
  {
   "cell_type": "code",
   "execution_count": 360,
   "id": "fa9c07c8",
   "metadata": {},
   "outputs": [
    {
     "name": "stdout",
     "output_type": "stream",
     "text": [
      "<class 'pandas.core.frame.DataFrame'>\n",
      "RangeIndex: 8465 entries, 0 to 8464\n",
      "Data columns (total 7 columns):\n",
      " #   Column     Non-Null Count  Dtype  \n",
      "---  ------     --------------  -----  \n",
      " 0   Date       8465 non-null   object \n",
      " 1   Open       8465 non-null   float64\n",
      " 2   High       8465 non-null   float64\n",
      " 3   Low        8465 non-null   float64\n",
      " 4   Close      8465 non-null   float64\n",
      " 5   Volume     8465 non-null   int64  \n",
      " 6   Adj Close  8465 non-null   float64\n",
      "dtypes: float64(5), int64(1), object(1)\n",
      "memory usage: 463.1+ KB\n"
     ]
    }
   ],
   "source": [
    "apple.info()"
   ]
  },
  {
   "cell_type": "markdown",
   "id": "dd76957d",
   "metadata": {},
   "source": [
    "### Step 5. Transform the Date column as a datetime type"
   ]
  },
  {
   "cell_type": "code",
   "execution_count": 361,
   "id": "2a5f2d68",
   "metadata": {},
   "outputs": [
    {
     "name": "stdout",
     "output_type": "stream",
     "text": [
      "<class 'pandas.core.series.Series'>\n",
      "RangeIndex: 8465 entries, 0 to 8464\n",
      "Series name: Date\n",
      "Non-Null Count  Dtype         \n",
      "--------------  -----         \n",
      "8465 non-null   datetime64[ns]\n",
      "dtypes: datetime64[ns](1)\n",
      "memory usage: 66.3 KB\n",
      "None\n"
     ]
    }
   ],
   "source": [
    "apple['Date'] = pd.to_datetime(apple['Date'])\n",
    "print(apple['Date'].info())"
   ]
  },
  {
   "cell_type": "markdown",
   "id": "d637aead",
   "metadata": {},
   "source": [
    "### Step 6.  Set the date as the index"
   ]
  },
  {
   "cell_type": "code",
   "execution_count": 362,
   "id": "235b98a5",
   "metadata": {},
   "outputs": [
    {
     "data": {
      "text/html": [
       "<div>\n",
       "<style scoped>\n",
       "    .dataframe tbody tr th:only-of-type {\n",
       "        vertical-align: middle;\n",
       "    }\n",
       "\n",
       "    .dataframe tbody tr th {\n",
       "        vertical-align: top;\n",
       "    }\n",
       "\n",
       "    .dataframe thead th {\n",
       "        text-align: right;\n",
       "    }\n",
       "</style>\n",
       "<table border=\"1\" class=\"dataframe\">\n",
       "  <thead>\n",
       "    <tr style=\"text-align: right;\">\n",
       "      <th></th>\n",
       "      <th>Open</th>\n",
       "      <th>High</th>\n",
       "      <th>Low</th>\n",
       "      <th>Close</th>\n",
       "      <th>Volume</th>\n",
       "      <th>Adj Close</th>\n",
       "    </tr>\n",
       "    <tr>\n",
       "      <th>Date</th>\n",
       "      <th></th>\n",
       "      <th></th>\n",
       "      <th></th>\n",
       "      <th></th>\n",
       "      <th></th>\n",
       "      <th></th>\n",
       "    </tr>\n",
       "  </thead>\n",
       "  <tbody>\n",
       "    <tr>\n",
       "      <th>2014-07-08</th>\n",
       "      <td>96.27</td>\n",
       "      <td>96.80</td>\n",
       "      <td>93.92</td>\n",
       "      <td>95.35</td>\n",
       "      <td>65130000</td>\n",
       "      <td>95.35</td>\n",
       "    </tr>\n",
       "    <tr>\n",
       "      <th>2014-07-07</th>\n",
       "      <td>94.14</td>\n",
       "      <td>95.99</td>\n",
       "      <td>94.10</td>\n",
       "      <td>95.97</td>\n",
       "      <td>56305400</td>\n",
       "      <td>95.97</td>\n",
       "    </tr>\n",
       "    <tr>\n",
       "      <th>2014-07-03</th>\n",
       "      <td>93.67</td>\n",
       "      <td>94.10</td>\n",
       "      <td>93.20</td>\n",
       "      <td>94.03</td>\n",
       "      <td>22891800</td>\n",
       "      <td>94.03</td>\n",
       "    </tr>\n",
       "    <tr>\n",
       "      <th>2014-07-02</th>\n",
       "      <td>93.87</td>\n",
       "      <td>94.06</td>\n",
       "      <td>93.09</td>\n",
       "      <td>93.48</td>\n",
       "      <td>28420900</td>\n",
       "      <td>93.48</td>\n",
       "    </tr>\n",
       "    <tr>\n",
       "      <th>2014-07-01</th>\n",
       "      <td>93.52</td>\n",
       "      <td>94.07</td>\n",
       "      <td>93.13</td>\n",
       "      <td>93.52</td>\n",
       "      <td>38170200</td>\n",
       "      <td>93.52</td>\n",
       "    </tr>\n",
       "  </tbody>\n",
       "</table>\n",
       "</div>"
      ],
      "text/plain": [
       "             Open   High    Low  Close    Volume  Adj Close\n",
       "Date                                                       \n",
       "2014-07-08  96.27  96.80  93.92  95.35  65130000      95.35\n",
       "2014-07-07  94.14  95.99  94.10  95.97  56305400      95.97\n",
       "2014-07-03  93.67  94.10  93.20  94.03  22891800      94.03\n",
       "2014-07-02  93.87  94.06  93.09  93.48  28420900      93.48\n",
       "2014-07-01  93.52  94.07  93.13  93.52  38170200      93.52"
      ]
     },
     "execution_count": 362,
     "metadata": {},
     "output_type": "execute_result"
    }
   ],
   "source": [
    "apple.set_index('Date', inplace=True)\n",
    "apple.head()"
   ]
  },
  {
   "cell_type": "markdown",
   "id": "e92d4a7b",
   "metadata": {},
   "source": [
    "### Step 7.  Is there any duplicate dates?"
   ]
  },
  {
   "cell_type": "code",
   "execution_count": 368,
   "id": "a94454ad",
   "metadata": {},
   "outputs": [
    {
     "data": {
      "text/plain": [
       "DatetimeIndex([], dtype='datetime64[ns]', name='Date', freq=None)"
      ]
     },
     "execution_count": 368,
     "metadata": {},
     "output_type": "execute_result"
    }
   ],
   "source": [
    "apple.index[apple.index.duplicated()]"
   ]
  },
  {
   "cell_type": "markdown",
   "id": "0066ff8e",
   "metadata": {},
   "source": [
    "### Step 8.  Ops...it seems the index is from the most recent date. Make the first entry the oldest date."
   ]
  },
  {
   "cell_type": "code",
   "execution_count": 370,
   "id": "6ed4a7da",
   "metadata": {},
   "outputs": [
    {
     "data": {
      "text/html": [
       "<div>\n",
       "<style scoped>\n",
       "    .dataframe tbody tr th:only-of-type {\n",
       "        vertical-align: middle;\n",
       "    }\n",
       "\n",
       "    .dataframe tbody tr th {\n",
       "        vertical-align: top;\n",
       "    }\n",
       "\n",
       "    .dataframe thead th {\n",
       "        text-align: right;\n",
       "    }\n",
       "</style>\n",
       "<table border=\"1\" class=\"dataframe\">\n",
       "  <thead>\n",
       "    <tr style=\"text-align: right;\">\n",
       "      <th></th>\n",
       "      <th>Open</th>\n",
       "      <th>High</th>\n",
       "      <th>Low</th>\n",
       "      <th>Close</th>\n",
       "      <th>Volume</th>\n",
       "      <th>Adj Close</th>\n",
       "    </tr>\n",
       "    <tr>\n",
       "      <th>Date</th>\n",
       "      <th></th>\n",
       "      <th></th>\n",
       "      <th></th>\n",
       "      <th></th>\n",
       "      <th></th>\n",
       "      <th></th>\n",
       "    </tr>\n",
       "  </thead>\n",
       "  <tbody>\n",
       "    <tr>\n",
       "      <th>1980-12-12</th>\n",
       "      <td>28.75</td>\n",
       "      <td>28.87</td>\n",
       "      <td>28.75</td>\n",
       "      <td>28.75</td>\n",
       "      <td>117258400</td>\n",
       "      <td>0.45</td>\n",
       "    </tr>\n",
       "    <tr>\n",
       "      <th>1980-12-15</th>\n",
       "      <td>27.38</td>\n",
       "      <td>27.38</td>\n",
       "      <td>27.25</td>\n",
       "      <td>27.25</td>\n",
       "      <td>43971200</td>\n",
       "      <td>0.42</td>\n",
       "    </tr>\n",
       "    <tr>\n",
       "      <th>1980-12-16</th>\n",
       "      <td>25.37</td>\n",
       "      <td>25.37</td>\n",
       "      <td>25.25</td>\n",
       "      <td>25.25</td>\n",
       "      <td>26432000</td>\n",
       "      <td>0.39</td>\n",
       "    </tr>\n",
       "    <tr>\n",
       "      <th>1980-12-17</th>\n",
       "      <td>25.87</td>\n",
       "      <td>26.00</td>\n",
       "      <td>25.87</td>\n",
       "      <td>25.87</td>\n",
       "      <td>21610400</td>\n",
       "      <td>0.40</td>\n",
       "    </tr>\n",
       "    <tr>\n",
       "      <th>1980-12-18</th>\n",
       "      <td>26.63</td>\n",
       "      <td>26.75</td>\n",
       "      <td>26.63</td>\n",
       "      <td>26.63</td>\n",
       "      <td>18362400</td>\n",
       "      <td>0.41</td>\n",
       "    </tr>\n",
       "  </tbody>\n",
       "</table>\n",
       "</div>"
      ],
      "text/plain": [
       "             Open   High    Low  Close     Volume  Adj Close\n",
       "Date                                                        \n",
       "1980-12-12  28.75  28.87  28.75  28.75  117258400       0.45\n",
       "1980-12-15  27.38  27.38  27.25  27.25   43971200       0.42\n",
       "1980-12-16  25.37  25.37  25.25  25.25   26432000       0.39\n",
       "1980-12-17  25.87  26.00  25.87  25.87   21610400       0.40\n",
       "1980-12-18  26.63  26.75  26.63  26.63   18362400       0.41"
      ]
     },
     "execution_count": 370,
     "metadata": {},
     "output_type": "execute_result"
    }
   ],
   "source": [
    "apple.sort_index(inplace=True)\n",
    "apple.head()"
   ]
  },
  {
   "cell_type": "markdown",
   "id": "a13a11f8",
   "metadata": {},
   "source": [
    "### Step 9. Get the last business day of each month"
   ]
  },
  {
   "cell_type": "code",
   "execution_count": 372,
   "id": "8e9ed699",
   "metadata": {},
   "outputs": [
    {
     "data": {
      "text/html": [
       "<div>\n",
       "<style scoped>\n",
       "    .dataframe tbody tr th:only-of-type {\n",
       "        vertical-align: middle;\n",
       "    }\n",
       "\n",
       "    .dataframe tbody tr th {\n",
       "        vertical-align: top;\n",
       "    }\n",
       "\n",
       "    .dataframe thead th {\n",
       "        text-align: right;\n",
       "    }\n",
       "</style>\n",
       "<table border=\"1\" class=\"dataframe\">\n",
       "  <thead>\n",
       "    <tr style=\"text-align: right;\">\n",
       "      <th></th>\n",
       "      <th>Open</th>\n",
       "      <th>High</th>\n",
       "      <th>Low</th>\n",
       "      <th>Close</th>\n",
       "      <th>Volume</th>\n",
       "      <th>Adj Close</th>\n",
       "    </tr>\n",
       "    <tr>\n",
       "      <th>Date</th>\n",
       "      <th></th>\n",
       "      <th></th>\n",
       "      <th></th>\n",
       "      <th></th>\n",
       "      <th></th>\n",
       "      <th></th>\n",
       "    </tr>\n",
       "  </thead>\n",
       "  <tbody>\n",
       "    <tr>\n",
       "      <th>1980-12-31</th>\n",
       "      <td>34.25</td>\n",
       "      <td>34.25</td>\n",
       "      <td>34.13</td>\n",
       "      <td>34.13</td>\n",
       "      <td>8937600</td>\n",
       "      <td>0.53</td>\n",
       "    </tr>\n",
       "    <tr>\n",
       "      <th>1981-01-30</th>\n",
       "      <td>28.50</td>\n",
       "      <td>28.50</td>\n",
       "      <td>28.25</td>\n",
       "      <td>28.25</td>\n",
       "      <td>11547200</td>\n",
       "      <td>0.44</td>\n",
       "    </tr>\n",
       "    <tr>\n",
       "      <th>1981-02-27</th>\n",
       "      <td>26.50</td>\n",
       "      <td>26.75</td>\n",
       "      <td>26.50</td>\n",
       "      <td>26.50</td>\n",
       "      <td>3690400</td>\n",
       "      <td>0.41</td>\n",
       "    </tr>\n",
       "    <tr>\n",
       "      <th>1981-03-31</th>\n",
       "      <td>24.75</td>\n",
       "      <td>24.75</td>\n",
       "      <td>24.50</td>\n",
       "      <td>24.50</td>\n",
       "      <td>3998400</td>\n",
       "      <td>0.38</td>\n",
       "    </tr>\n",
       "    <tr>\n",
       "      <th>1981-04-30</th>\n",
       "      <td>28.38</td>\n",
       "      <td>28.62</td>\n",
       "      <td>28.38</td>\n",
       "      <td>28.38</td>\n",
       "      <td>3152800</td>\n",
       "      <td>0.44</td>\n",
       "    </tr>\n",
       "    <tr>\n",
       "      <th>...</th>\n",
       "      <td>...</td>\n",
       "      <td>...</td>\n",
       "      <td>...</td>\n",
       "      <td>...</td>\n",
       "      <td>...</td>\n",
       "      <td>...</td>\n",
       "    </tr>\n",
       "    <tr>\n",
       "      <th>2014-03-31</th>\n",
       "      <td>539.23</td>\n",
       "      <td>540.81</td>\n",
       "      <td>535.93</td>\n",
       "      <td>536.74</td>\n",
       "      <td>42167300</td>\n",
       "      <td>76.25</td>\n",
       "    </tr>\n",
       "    <tr>\n",
       "      <th>2014-04-30</th>\n",
       "      <td>592.64</td>\n",
       "      <td>599.43</td>\n",
       "      <td>589.80</td>\n",
       "      <td>590.09</td>\n",
       "      <td>114160200</td>\n",
       "      <td>83.83</td>\n",
       "    </tr>\n",
       "    <tr>\n",
       "      <th>2014-05-30</th>\n",
       "      <td>637.98</td>\n",
       "      <td>644.17</td>\n",
       "      <td>628.90</td>\n",
       "      <td>633.00</td>\n",
       "      <td>141005200</td>\n",
       "      <td>90.43</td>\n",
       "    </tr>\n",
       "    <tr>\n",
       "      <th>2014-06-30</th>\n",
       "      <td>92.10</td>\n",
       "      <td>93.73</td>\n",
       "      <td>92.09</td>\n",
       "      <td>92.93</td>\n",
       "      <td>49482300</td>\n",
       "      <td>92.93</td>\n",
       "    </tr>\n",
       "    <tr>\n",
       "      <th>2014-07-31</th>\n",
       "      <td>96.27</td>\n",
       "      <td>96.80</td>\n",
       "      <td>93.92</td>\n",
       "      <td>95.35</td>\n",
       "      <td>65130000</td>\n",
       "      <td>95.35</td>\n",
       "    </tr>\n",
       "  </tbody>\n",
       "</table>\n",
       "<p>404 rows × 6 columns</p>\n",
       "</div>"
      ],
      "text/plain": [
       "              Open    High     Low   Close     Volume  Adj Close\n",
       "Date                                                            \n",
       "1980-12-31   34.25   34.25   34.13   34.13    8937600       0.53\n",
       "1981-01-30   28.50   28.50   28.25   28.25   11547200       0.44\n",
       "1981-02-27   26.50   26.75   26.50   26.50    3690400       0.41\n",
       "1981-03-31   24.75   24.75   24.50   24.50    3998400       0.38\n",
       "1981-04-30   28.38   28.62   28.38   28.38    3152800       0.44\n",
       "...            ...     ...     ...     ...        ...        ...\n",
       "2014-03-31  539.23  540.81  535.93  536.74   42167300      76.25\n",
       "2014-04-30  592.64  599.43  589.80  590.09  114160200      83.83\n",
       "2014-05-30  637.98  644.17  628.90  633.00  141005200      90.43\n",
       "2014-06-30   92.10   93.73   92.09   92.93   49482300      92.93\n",
       "2014-07-31   96.27   96.80   93.92   95.35   65130000      95.35\n",
       "\n",
       "[404 rows x 6 columns]"
      ]
     },
     "execution_count": 372,
     "metadata": {},
     "output_type": "execute_result"
    }
   ],
   "source": [
    "apple.resample('BME').last()"
   ]
  },
  {
   "cell_type": "markdown",
   "id": "e2451020",
   "metadata": {},
   "source": [
    "### Step 10.  What is the difference in days between the first day and the oldest"
   ]
  },
  {
   "cell_type": "code",
   "execution_count": 373,
   "id": "026edead",
   "metadata": {},
   "outputs": [
    {
     "data": {
      "text/plain": [
       "Timedelta('12261 days 00:00:00')"
      ]
     },
     "execution_count": 373,
     "metadata": {},
     "output_type": "execute_result"
    }
   ],
   "source": [
    "apple.index.max() - apple.index.min()"
   ]
  },
  {
   "cell_type": "markdown",
   "id": "8cd014a7",
   "metadata": {},
   "source": [
    "### Step 11.  How many months in the data we have?"
   ]
  },
  {
   "cell_type": "code",
   "execution_count": 380,
   "id": "6bca3e15",
   "metadata": {},
   "outputs": [
    {
     "name": "stdout",
     "output_type": "stream",
     "text": [
      "total months: 8465, unique months: 404\n"
     ]
    }
   ],
   "source": [
    "total_months = len(apple.index.to_period('M')) #all months\n",
    "unique_months = apple.index.to_period('M').nunique() #unique months\n",
    "print(f'total months: {total_months}, unique months: {unique_months}')"
   ]
  },
  {
   "cell_type": "markdown",
   "id": "cfeb4420",
   "metadata": {},
   "source": [
    "### Step 12. Plot the 'Adj Close' value. Set the size of the figure to 13.5 x 9 inches"
   ]
  },
  {
   "cell_type": "code",
   "execution_count": 388,
   "id": "da000518",
   "metadata": {},
   "outputs": [
    {
     "data": {
      "image/png": "[encoded data removed]",
      "text/plain": [
       "<Figure size 1350x900 with 1 Axes>"
      ]
     },
     "metadata": {},
     "output_type": "display_data"
    }
   ],
   "source": [
    "plt.figure(figsize=(13.5, 9))\n",
    "\n",
    "apple['Adj Close'].plot()\n",
    "plt.title('Stock price at closing')\n",
    "plt.xlabel('Date')\n",
    "plt.ylabel('Adj Close')\n",
    "plt.show()"
   ]
  },
  {
   "cell_type": "markdown",
   "id": "cfb95842",
   "metadata": {},
   "source": [
    "## Section 10: Deleting"
   ]
  },
  {
   "cell_type": "markdown",
   "id": "62720a79",
   "metadata": {},
   "source": [
    "### Introduction:\n",
    "\n",
    "This exercise is a adaptation from the UCI Wine dataset.\n",
    "The only pupose is to practice deleting data with pandas.\n",
    "\n",
    "### Step 1. Import the necessary libraries"
   ]
  },
  {
   "cell_type": "code",
   "execution_count": null,
   "id": "31518cc9",
   "metadata": {},
   "outputs": [],
   "source": [
    "import pandas as pd\n",
    "import numpy as np"
   ]
  },
  {
   "cell_type": "markdown",
   "id": "564bb9ac",
   "metadata": {},
   "source": [
    "### Step 2. Import the dataset from this [address](https://archive.ics.uci.edu/ml/machine-learning-databases/wine/wine.data). "
   ]
  },
  {
   "cell_type": "markdown",
   "id": "1f1f95a2",
   "metadata": {},
   "source": [
    "### Step 3. Assign it to a variable called wine"
   ]
  },
  {
   "cell_type": "code",
   "execution_count": 389,
   "id": "4e130c72",
   "metadata": {},
   "outputs": [],
   "source": [
    "url10 = 'https://archive.ics.uci.edu/ml/machine-learning-databases/wine/wine.data'\n",
    "wine = pd.read_csv(url10)"
   ]
  },
  {
   "cell_type": "markdown",
   "id": "0c41d696",
   "metadata": {},
   "source": [
    "### Step 4. Delete the first, fourth, seventh, nineth, eleventh, thirteenth and fourteenth columns"
   ]
  },
  {
   "cell_type": "code",
   "execution_count": 394,
   "id": "da66b0f2",
   "metadata": {},
   "outputs": [
    {
     "data": {
      "text/plain": [
       "Index(['14.23', '1.71', '15.6', '127', '3.06', '2.29', '1.04'], dtype='object')"
      ]
     },
     "execution_count": 394,
     "metadata": {},
     "output_type": "execute_result"
    }
   ],
   "source": [
    "drop_cols = [0, 3, 6, 8, 10, 12, 13]\n",
    "wine.drop(wine.columns[drop_cols], axis=1, inplace=True)\n",
    "wine.columns"
   ]
  },
  {
   "cell_type": "markdown",
   "id": "c5a0fe9a",
   "metadata": {},
   "source": [
    "### Step 5. Assign the columns as below:\n",
    "\n",
    "The attributes are (donated by Riccardo Leardi, riclea '@' anchem.unige.it):  \n",
    "1) alcohol  \n",
    "2) malic_acid  \n",
    "3) alcalinity_of_ash  \n",
    "4) magnesium  \n",
    "5) flavanoids  \n",
    "6) proanthocyanins  \n",
    "7) hue "
   ]
  },
  {
   "cell_type": "code",
   "execution_count": 395,
   "id": "ce18c3cd",
   "metadata": {},
   "outputs": [
    {
     "data": {
      "text/plain": [
       "Index(['alcohol', 'malic_acid', 'alcalinity_of_ash', 'magnesium', 'flavanoids',\n",
       "       'proanthocyanins', 'hue'],\n",
       "      dtype='object')"
      ]
     },
     "execution_count": 395,
     "metadata": {},
     "output_type": "execute_result"
    }
   ],
   "source": [
    "wine.columns = ['alcohol', 'malic_acid', 'alcalinity_of_ash', 'magnesium', 'flavanoids', 'proanthocyanins', 'hue']\n",
    "wine.columns"
   ]
  },
  {
   "cell_type": "markdown",
   "id": "94b22358",
   "metadata": {},
   "source": [
    "### Step 6. Set the values of the first 3 rows from alcohol as NaN"
   ]
  },
  {
   "cell_type": "code",
   "execution_count": 399,
   "id": "6dacd432",
   "metadata": {},
   "outputs": [
    {
     "data": {
      "text/plain": [
       "0   NaN\n",
       "1   NaN\n",
       "2   NaN\n",
       "Name: alcohol, dtype: float64"
      ]
     },
     "execution_count": 399,
     "metadata": {},
     "output_type": "execute_result"
    }
   ],
   "source": [
    "wine.loc[0:2, 'alcohol'] = np.nan\n",
    "wine.loc[0:2, 'alcohol']"
   ]
  },
  {
   "cell_type": "markdown",
   "id": "2449e0ac",
   "metadata": {},
   "source": [
    "### Step 7. Now set the value of the rows 3 and 4 of magnesium as NaN"
   ]
  },
  {
   "cell_type": "code",
   "execution_count": 401,
   "id": "8e659f67",
   "metadata": {},
   "outputs": [
    {
     "data": {
      "text/plain": [
       "0    100.0\n",
       "1    101.0\n",
       "2      NaN\n",
       "3      NaN\n",
       "4    112.0\n",
       "5     96.0\n",
       "Name: magnesium, dtype: float64"
      ]
     },
     "execution_count": 401,
     "metadata": {},
     "output_type": "execute_result"
    }
   ],
   "source": [
    "wine.loc[2:3, 'magnesium'] = np.nan\n",
    "wine.loc[:5, 'magnesium']"
   ]
  },
  {
   "cell_type": "markdown",
   "id": "135f1b41",
   "metadata": {},
   "source": [
    "### Step 8. Fill the value of NaN with the number 10 in alcohol and 100 in magnesium"
   ]
  },
  {
   "cell_type": "code",
   "execution_count": 406,
   "id": "bdb57870",
   "metadata": {},
   "outputs": [
    {
     "data": {
      "text/html": [
       "<div>\n",
       "<style scoped>\n",
       "    .dataframe tbody tr th:only-of-type {\n",
       "        vertical-align: middle;\n",
       "    }\n",
       "\n",
       "    .dataframe tbody tr th {\n",
       "        vertical-align: top;\n",
       "    }\n",
       "\n",
       "    .dataframe thead th {\n",
       "        text-align: right;\n",
       "    }\n",
       "</style>\n",
       "<table border=\"1\" class=\"dataframe\">\n",
       "  <thead>\n",
       "    <tr style=\"text-align: right;\">\n",
       "      <th></th>\n",
       "      <th>alcohol</th>\n",
       "      <th>malic_acid</th>\n",
       "      <th>alcalinity_of_ash</th>\n",
       "      <th>magnesium</th>\n",
       "      <th>flavanoids</th>\n",
       "      <th>proanthocyanins</th>\n",
       "      <th>hue</th>\n",
       "    </tr>\n",
       "  </thead>\n",
       "  <tbody>\n",
       "    <tr>\n",
       "      <th>0</th>\n",
       "      <td>10.00</td>\n",
       "      <td>1.78</td>\n",
       "      <td>11.2</td>\n",
       "      <td>100.0</td>\n",
       "      <td>2.76</td>\n",
       "      <td>1.28</td>\n",
       "      <td>1.05</td>\n",
       "    </tr>\n",
       "    <tr>\n",
       "      <th>1</th>\n",
       "      <td>10.00</td>\n",
       "      <td>2.36</td>\n",
       "      <td>18.6</td>\n",
       "      <td>101.0</td>\n",
       "      <td>3.24</td>\n",
       "      <td>2.81</td>\n",
       "      <td>1.03</td>\n",
       "    </tr>\n",
       "    <tr>\n",
       "      <th>2</th>\n",
       "      <td>10.00</td>\n",
       "      <td>1.95</td>\n",
       "      <td>16.8</td>\n",
       "      <td>100.0</td>\n",
       "      <td>3.49</td>\n",
       "      <td>2.18</td>\n",
       "      <td>0.86</td>\n",
       "    </tr>\n",
       "    <tr>\n",
       "      <th>3</th>\n",
       "      <td>13.24</td>\n",
       "      <td>2.59</td>\n",
       "      <td>21.0</td>\n",
       "      <td>100.0</td>\n",
       "      <td>2.69</td>\n",
       "      <td>1.82</td>\n",
       "      <td>1.04</td>\n",
       "    </tr>\n",
       "    <tr>\n",
       "      <th>4</th>\n",
       "      <td>14.20</td>\n",
       "      <td>1.76</td>\n",
       "      <td>15.2</td>\n",
       "      <td>112.0</td>\n",
       "      <td>3.39</td>\n",
       "      <td>1.97</td>\n",
       "      <td>1.05</td>\n",
       "    </tr>\n",
       "    <tr>\n",
       "      <th>5</th>\n",
       "      <td>14.39</td>\n",
       "      <td>1.87</td>\n",
       "      <td>14.6</td>\n",
       "      <td>96.0</td>\n",
       "      <td>2.52</td>\n",
       "      <td>1.98</td>\n",
       "      <td>1.02</td>\n",
       "    </tr>\n",
       "    <tr>\n",
       "      <th>6</th>\n",
       "      <td>14.06</td>\n",
       "      <td>2.15</td>\n",
       "      <td>17.6</td>\n",
       "      <td>121.0</td>\n",
       "      <td>2.51</td>\n",
       "      <td>1.25</td>\n",
       "      <td>1.06</td>\n",
       "    </tr>\n",
       "    <tr>\n",
       "      <th>7</th>\n",
       "      <td>14.83</td>\n",
       "      <td>1.64</td>\n",
       "      <td>14.0</td>\n",
       "      <td>97.0</td>\n",
       "      <td>2.98</td>\n",
       "      <td>1.98</td>\n",
       "      <td>1.08</td>\n",
       "    </tr>\n",
       "    <tr>\n",
       "      <th>8</th>\n",
       "      <td>13.86</td>\n",
       "      <td>1.35</td>\n",
       "      <td>16.0</td>\n",
       "      <td>98.0</td>\n",
       "      <td>3.15</td>\n",
       "      <td>1.85</td>\n",
       "      <td>1.01</td>\n",
       "    </tr>\n",
       "    <tr>\n",
       "      <th>9</th>\n",
       "      <td>14.10</td>\n",
       "      <td>2.16</td>\n",
       "      <td>18.0</td>\n",
       "      <td>105.0</td>\n",
       "      <td>3.32</td>\n",
       "      <td>2.38</td>\n",
       "      <td>1.25</td>\n",
       "    </tr>\n",
       "  </tbody>\n",
       "</table>\n",
       "</div>"
      ],
      "text/plain": [
       "   alcohol  malic_acid  alcalinity_of_ash  magnesium  flavanoids  \\\n",
       "0    10.00        1.78               11.2      100.0        2.76   \n",
       "1    10.00        2.36               18.6      101.0        3.24   \n",
       "2    10.00        1.95               16.8      100.0        3.49   \n",
       "3    13.24        2.59               21.0      100.0        2.69   \n",
       "4    14.20        1.76               15.2      112.0        3.39   \n",
       "5    14.39        1.87               14.6       96.0        2.52   \n",
       "6    14.06        2.15               17.6      121.0        2.51   \n",
       "7    14.83        1.64               14.0       97.0        2.98   \n",
       "8    13.86        1.35               16.0       98.0        3.15   \n",
       "9    14.10        2.16               18.0      105.0        3.32   \n",
       "\n",
       "   proanthocyanins   hue  \n",
       "0             1.28  1.05  \n",
       "1             2.81  1.03  \n",
       "2             2.18  0.86  \n",
       "3             1.82  1.04  \n",
       "4             1.97  1.05  \n",
       "5             1.98  1.02  \n",
       "6             1.25  1.06  \n",
       "7             1.98  1.08  \n",
       "8             1.85  1.01  \n",
       "9             2.38  1.25  "
      ]
     },
     "execution_count": 406,
     "metadata": {},
     "output_type": "execute_result"
    }
   ],
   "source": [
    "wine.fillna({'alcohol':10}, inplace=True)\n",
    "wine.fillna({'magnesium':100}, inplace=True)\n",
    "wine.head(10)"
   ]
  },
  {
   "cell_type": "markdown",
   "id": "5b07a6f4",
   "metadata": {},
   "source": [
    "### Step 9. Count the number of missing values"
   ]
  },
  {
   "cell_type": "code",
   "execution_count": 408,
   "id": "b8f9f565",
   "metadata": {},
   "outputs": [
    {
     "data": {
      "text/plain": [
       "alcohol              0\n",
       "malic_acid           0\n",
       "alcalinity_of_ash    0\n",
       "magnesium            0\n",
       "flavanoids           0\n",
       "proanthocyanins      0\n",
       "hue                  0\n",
       "dtype: int64"
      ]
     },
     "execution_count": 408,
     "metadata": {},
     "output_type": "execute_result"
    }
   ],
   "source": [
    "wine.isna().sum()"
   ]
  },
  {
   "cell_type": "markdown",
   "id": "e41bc334",
   "metadata": {},
   "source": [
    "### Step 10.  Create an array of 10 random numbers up until 10"
   ]
  },
  {
   "cell_type": "code",
   "execution_count": 410,
   "id": "437d0084",
   "metadata": {},
   "outputs": [
    {
     "data": {
      "text/plain": [
       "array([8, 4, 7, 7, 6, 0, 7, 8, 8, 0])"
      ]
     },
     "execution_count": 410,
     "metadata": {},
     "output_type": "execute_result"
    }
   ],
   "source": [
    "some_array = np.random.randint(0, 11, size=10)\n",
    "some_array"
   ]
  },
  {
   "cell_type": "markdown",
   "id": "498e2cad",
   "metadata": {},
   "source": [
    "### Step 11.  Use random numbers you generated as an index and assign NaN value to each of cell."
   ]
  },
  {
   "cell_type": "code",
   "execution_count": 416,
   "id": "cd1ba6ef",
   "metadata": {},
   "outputs": [
    {
     "data": {
      "text/html": [
       "<div>\n",
       "<style scoped>\n",
       "    .dataframe tbody tr th:only-of-type {\n",
       "        vertical-align: middle;\n",
       "    }\n",
       "\n",
       "    .dataframe tbody tr th {\n",
       "        vertical-align: top;\n",
       "    }\n",
       "\n",
       "    .dataframe thead th {\n",
       "        text-align: right;\n",
       "    }\n",
       "</style>\n",
       "<table border=\"1\" class=\"dataframe\">\n",
       "  <thead>\n",
       "    <tr style=\"text-align: right;\">\n",
       "      <th></th>\n",
       "      <th>alcohol</th>\n",
       "      <th>malic_acid</th>\n",
       "      <th>alcalinity_of_ash</th>\n",
       "      <th>magnesium</th>\n",
       "      <th>flavanoids</th>\n",
       "      <th>proanthocyanins</th>\n",
       "      <th>hue</th>\n",
       "    </tr>\n",
       "  </thead>\n",
       "  <tbody>\n",
       "    <tr>\n",
       "      <th>0</th>\n",
       "      <td>NaN</td>\n",
       "      <td>NaN</td>\n",
       "      <td>NaN</td>\n",
       "      <td>NaN</td>\n",
       "      <td>NaN</td>\n",
       "      <td>NaN</td>\n",
       "      <td>NaN</td>\n",
       "    </tr>\n",
       "    <tr>\n",
       "      <th>1</th>\n",
       "      <td>10.00</td>\n",
       "      <td>2.36</td>\n",
       "      <td>18.6</td>\n",
       "      <td>101.0</td>\n",
       "      <td>3.24</td>\n",
       "      <td>2.81</td>\n",
       "      <td>1.03</td>\n",
       "    </tr>\n",
       "    <tr>\n",
       "      <th>2</th>\n",
       "      <td>10.00</td>\n",
       "      <td>1.95</td>\n",
       "      <td>16.8</td>\n",
       "      <td>100.0</td>\n",
       "      <td>3.49</td>\n",
       "      <td>2.18</td>\n",
       "      <td>0.86</td>\n",
       "    </tr>\n",
       "    <tr>\n",
       "      <th>3</th>\n",
       "      <td>13.24</td>\n",
       "      <td>2.59</td>\n",
       "      <td>21.0</td>\n",
       "      <td>100.0</td>\n",
       "      <td>2.69</td>\n",
       "      <td>1.82</td>\n",
       "      <td>1.04</td>\n",
       "    </tr>\n",
       "    <tr>\n",
       "      <th>4</th>\n",
       "      <td>NaN</td>\n",
       "      <td>NaN</td>\n",
       "      <td>NaN</td>\n",
       "      <td>NaN</td>\n",
       "      <td>NaN</td>\n",
       "      <td>NaN</td>\n",
       "      <td>NaN</td>\n",
       "    </tr>\n",
       "    <tr>\n",
       "      <th>5</th>\n",
       "      <td>14.39</td>\n",
       "      <td>1.87</td>\n",
       "      <td>14.6</td>\n",
       "      <td>96.0</td>\n",
       "      <td>2.52</td>\n",
       "      <td>1.98</td>\n",
       "      <td>1.02</td>\n",
       "    </tr>\n",
       "    <tr>\n",
       "      <th>6</th>\n",
       "      <td>NaN</td>\n",
       "      <td>NaN</td>\n",
       "      <td>NaN</td>\n",
       "      <td>NaN</td>\n",
       "      <td>NaN</td>\n",
       "      <td>NaN</td>\n",
       "      <td>NaN</td>\n",
       "    </tr>\n",
       "    <tr>\n",
       "      <th>7</th>\n",
       "      <td>NaN</td>\n",
       "      <td>NaN</td>\n",
       "      <td>NaN</td>\n",
       "      <td>NaN</td>\n",
       "      <td>NaN</td>\n",
       "      <td>NaN</td>\n",
       "      <td>NaN</td>\n",
       "    </tr>\n",
       "    <tr>\n",
       "      <th>8</th>\n",
       "      <td>NaN</td>\n",
       "      <td>NaN</td>\n",
       "      <td>NaN</td>\n",
       "      <td>NaN</td>\n",
       "      <td>NaN</td>\n",
       "      <td>NaN</td>\n",
       "      <td>NaN</td>\n",
       "    </tr>\n",
       "    <tr>\n",
       "      <th>9</th>\n",
       "      <td>14.10</td>\n",
       "      <td>2.16</td>\n",
       "      <td>18.0</td>\n",
       "      <td>105.0</td>\n",
       "      <td>3.32</td>\n",
       "      <td>2.38</td>\n",
       "      <td>1.25</td>\n",
       "    </tr>\n",
       "  </tbody>\n",
       "</table>\n",
       "</div>"
      ],
      "text/plain": [
       "   alcohol  malic_acid  alcalinity_of_ash  magnesium  flavanoids  \\\n",
       "0      NaN         NaN                NaN        NaN         NaN   \n",
       "1    10.00        2.36               18.6      101.0        3.24   \n",
       "2    10.00        1.95               16.8      100.0        3.49   \n",
       "3    13.24        2.59               21.0      100.0        2.69   \n",
       "4      NaN         NaN                NaN        NaN         NaN   \n",
       "5    14.39        1.87               14.6       96.0        2.52   \n",
       "6      NaN         NaN                NaN        NaN         NaN   \n",
       "7      NaN         NaN                NaN        NaN         NaN   \n",
       "8      NaN         NaN                NaN        NaN         NaN   \n",
       "9    14.10        2.16               18.0      105.0        3.32   \n",
       "\n",
       "   proanthocyanins   hue  \n",
       "0              NaN   NaN  \n",
       "1             2.81  1.03  \n",
       "2             2.18  0.86  \n",
       "3             1.82  1.04  \n",
       "4              NaN   NaN  \n",
       "5             1.98  1.02  \n",
       "6              NaN   NaN  \n",
       "7              NaN   NaN  \n",
       "8              NaN   NaN  \n",
       "9             2.38  1.25  "
      ]
     },
     "execution_count": 416,
     "metadata": {},
     "output_type": "execute_result"
    }
   ],
   "source": [
    "wine.loc[some_array] = np.nan\n",
    "wine.head(10)"
   ]
  },
  {
   "cell_type": "markdown",
   "id": "ae9adea8",
   "metadata": {},
   "source": [
    "### Step 12.  How many missing values do we have?"
   ]
  },
  {
   "cell_type": "code",
   "execution_count": 417,
   "id": "5bfe2ca7",
   "metadata": {},
   "outputs": [
    {
     "data": {
      "text/plain": [
       "alcohol              5\n",
       "malic_acid           5\n",
       "alcalinity_of_ash    5\n",
       "magnesium            5\n",
       "flavanoids           5\n",
       "proanthocyanins      5\n",
       "hue                  5\n",
       "dtype: int64"
      ]
     },
     "execution_count": 417,
     "metadata": {},
     "output_type": "execute_result"
    }
   ],
   "source": [
    "wine.isna().sum()"
   ]
  },
  {
   "cell_type": "markdown",
   "id": "e1930d56",
   "metadata": {},
   "source": [
    "### Step 13. Delete the rows that contain missing values"
   ]
  },
  {
   "cell_type": "code",
   "execution_count": 419,
   "id": "c3458689",
   "metadata": {},
   "outputs": [
    {
     "data": {
      "text/html": [
       "<div>\n",
       "<style scoped>\n",
       "    .dataframe tbody tr th:only-of-type {\n",
       "        vertical-align: middle;\n",
       "    }\n",
       "\n",
       "    .dataframe tbody tr th {\n",
       "        vertical-align: top;\n",
       "    }\n",
       "\n",
       "    .dataframe thead th {\n",
       "        text-align: right;\n",
       "    }\n",
       "</style>\n",
       "<table border=\"1\" class=\"dataframe\">\n",
       "  <thead>\n",
       "    <tr style=\"text-align: right;\">\n",
       "      <th></th>\n",
       "      <th>alcohol</th>\n",
       "      <th>malic_acid</th>\n",
       "      <th>alcalinity_of_ash</th>\n",
       "      <th>magnesium</th>\n",
       "      <th>flavanoids</th>\n",
       "      <th>proanthocyanins</th>\n",
       "      <th>hue</th>\n",
       "    </tr>\n",
       "  </thead>\n",
       "  <tbody>\n",
       "    <tr>\n",
       "      <th>1</th>\n",
       "      <td>10.00</td>\n",
       "      <td>2.36</td>\n",
       "      <td>18.6</td>\n",
       "      <td>101.0</td>\n",
       "      <td>3.24</td>\n",
       "      <td>2.81</td>\n",
       "      <td>1.03</td>\n",
       "    </tr>\n",
       "    <tr>\n",
       "      <th>2</th>\n",
       "      <td>10.00</td>\n",
       "      <td>1.95</td>\n",
       "      <td>16.8</td>\n",
       "      <td>100.0</td>\n",
       "      <td>3.49</td>\n",
       "      <td>2.18</td>\n",
       "      <td>0.86</td>\n",
       "    </tr>\n",
       "    <tr>\n",
       "      <th>3</th>\n",
       "      <td>13.24</td>\n",
       "      <td>2.59</td>\n",
       "      <td>21.0</td>\n",
       "      <td>100.0</td>\n",
       "      <td>2.69</td>\n",
       "      <td>1.82</td>\n",
       "      <td>1.04</td>\n",
       "    </tr>\n",
       "    <tr>\n",
       "      <th>5</th>\n",
       "      <td>14.39</td>\n",
       "      <td>1.87</td>\n",
       "      <td>14.6</td>\n",
       "      <td>96.0</td>\n",
       "      <td>2.52</td>\n",
       "      <td>1.98</td>\n",
       "      <td>1.02</td>\n",
       "    </tr>\n",
       "    <tr>\n",
       "      <th>9</th>\n",
       "      <td>14.10</td>\n",
       "      <td>2.16</td>\n",
       "      <td>18.0</td>\n",
       "      <td>105.0</td>\n",
       "      <td>3.32</td>\n",
       "      <td>2.38</td>\n",
       "      <td>1.25</td>\n",
       "    </tr>\n",
       "    <tr>\n",
       "      <th>10</th>\n",
       "      <td>14.12</td>\n",
       "      <td>1.48</td>\n",
       "      <td>16.8</td>\n",
       "      <td>95.0</td>\n",
       "      <td>2.43</td>\n",
       "      <td>1.57</td>\n",
       "      <td>1.17</td>\n",
       "    </tr>\n",
       "    <tr>\n",
       "      <th>11</th>\n",
       "      <td>13.75</td>\n",
       "      <td>1.73</td>\n",
       "      <td>16.0</td>\n",
       "      <td>89.0</td>\n",
       "      <td>2.76</td>\n",
       "      <td>1.81</td>\n",
       "      <td>1.15</td>\n",
       "    </tr>\n",
       "    <tr>\n",
       "      <th>12</th>\n",
       "      <td>14.75</td>\n",
       "      <td>1.73</td>\n",
       "      <td>11.4</td>\n",
       "      <td>91.0</td>\n",
       "      <td>3.69</td>\n",
       "      <td>2.81</td>\n",
       "      <td>1.25</td>\n",
       "    </tr>\n",
       "    <tr>\n",
       "      <th>13</th>\n",
       "      <td>14.38</td>\n",
       "      <td>1.87</td>\n",
       "      <td>12.0</td>\n",
       "      <td>102.0</td>\n",
       "      <td>3.64</td>\n",
       "      <td>2.96</td>\n",
       "      <td>1.20</td>\n",
       "    </tr>\n",
       "    <tr>\n",
       "      <th>14</th>\n",
       "      <td>13.63</td>\n",
       "      <td>1.81</td>\n",
       "      <td>17.2</td>\n",
       "      <td>112.0</td>\n",
       "      <td>2.91</td>\n",
       "      <td>1.46</td>\n",
       "      <td>1.28</td>\n",
       "    </tr>\n",
       "  </tbody>\n",
       "</table>\n",
       "</div>"
      ],
      "text/plain": [
       "    alcohol  malic_acid  alcalinity_of_ash  magnesium  flavanoids  \\\n",
       "1     10.00        2.36               18.6      101.0        3.24   \n",
       "2     10.00        1.95               16.8      100.0        3.49   \n",
       "3     13.24        2.59               21.0      100.0        2.69   \n",
       "5     14.39        1.87               14.6       96.0        2.52   \n",
       "9     14.10        2.16               18.0      105.0        3.32   \n",
       "10    14.12        1.48               16.8       95.0        2.43   \n",
       "11    13.75        1.73               16.0       89.0        2.76   \n",
       "12    14.75        1.73               11.4       91.0        3.69   \n",
       "13    14.38        1.87               12.0      102.0        3.64   \n",
       "14    13.63        1.81               17.2      112.0        2.91   \n",
       "\n",
       "    proanthocyanins   hue  \n",
       "1              2.81  1.03  \n",
       "2              2.18  0.86  \n",
       "3              1.82  1.04  \n",
       "5              1.98  1.02  \n",
       "9              2.38  1.25  \n",
       "10             1.57  1.17  \n",
       "11             1.81  1.15  \n",
       "12             2.81  1.25  \n",
       "13             2.96  1.20  \n",
       "14             1.46  1.28  "
      ]
     },
     "execution_count": 419,
     "metadata": {},
     "output_type": "execute_result"
    }
   ],
   "source": [
    "wine.dropna(inplace=True)\n",
    "wine.head(10)"
   ]
  },
  {
   "cell_type": "markdown",
   "id": "0730ca32",
   "metadata": {},
   "source": [
    "### Step 14. Print only the non-null values in alcohol"
   ]
  },
  {
   "cell_type": "code",
   "execution_count": 420,
   "id": "71e0aa4d",
   "metadata": {},
   "outputs": [
    {
     "data": {
      "text/plain": [
       "1      10.00\n",
       "2      10.00\n",
       "3      13.24\n",
       "5      14.39\n",
       "9      14.10\n",
       "       ...  \n",
       "172    13.71\n",
       "173    13.40\n",
       "174    13.27\n",
       "175    13.17\n",
       "176    14.13\n",
       "Name: alcohol, Length: 172, dtype: float64"
      ]
     },
     "execution_count": 420,
     "metadata": {},
     "output_type": "execute_result"
    }
   ],
   "source": [
    "wine[wine['alcohol'].notnull()]['alcohol']\n"
   ]
  },
  {
   "cell_type": "markdown",
   "id": "1d3b99c6",
   "metadata": {},
   "source": [
    "### Step 15.  Reset the index, so it starts with 0 again"
   ]
  },
  {
   "cell_type": "code",
   "execution_count": 423,
   "id": "4b240c6a",
   "metadata": {},
   "outputs": [
    {
     "data": {
      "text/html": [
       "<div>\n",
       "<style scoped>\n",
       "    .dataframe tbody tr th:only-of-type {\n",
       "        vertical-align: middle;\n",
       "    }\n",
       "\n",
       "    .dataframe tbody tr th {\n",
       "        vertical-align: top;\n",
       "    }\n",
       "\n",
       "    .dataframe thead th {\n",
       "        text-align: right;\n",
       "    }\n",
       "</style>\n",
       "<table border=\"1\" class=\"dataframe\">\n",
       "  <thead>\n",
       "    <tr style=\"text-align: right;\">\n",
       "      <th></th>\n",
       "      <th>alcohol</th>\n",
       "      <th>malic_acid</th>\n",
       "      <th>alcalinity_of_ash</th>\n",
       "      <th>magnesium</th>\n",
       "      <th>flavanoids</th>\n",
       "      <th>proanthocyanins</th>\n",
       "      <th>hue</th>\n",
       "    </tr>\n",
       "  </thead>\n",
       "  <tbody>\n",
       "    <tr>\n",
       "      <th>0</th>\n",
       "      <td>10.00</td>\n",
       "      <td>2.36</td>\n",
       "      <td>18.6</td>\n",
       "      <td>101.0</td>\n",
       "      <td>3.24</td>\n",
       "      <td>2.81</td>\n",
       "      <td>1.03</td>\n",
       "    </tr>\n",
       "    <tr>\n",
       "      <th>1</th>\n",
       "      <td>10.00</td>\n",
       "      <td>1.95</td>\n",
       "      <td>16.8</td>\n",
       "      <td>100.0</td>\n",
       "      <td>3.49</td>\n",
       "      <td>2.18</td>\n",
       "      <td>0.86</td>\n",
       "    </tr>\n",
       "    <tr>\n",
       "      <th>2</th>\n",
       "      <td>13.24</td>\n",
       "      <td>2.59</td>\n",
       "      <td>21.0</td>\n",
       "      <td>100.0</td>\n",
       "      <td>2.69</td>\n",
       "      <td>1.82</td>\n",
       "      <td>1.04</td>\n",
       "    </tr>\n",
       "    <tr>\n",
       "      <th>3</th>\n",
       "      <td>14.39</td>\n",
       "      <td>1.87</td>\n",
       "      <td>14.6</td>\n",
       "      <td>96.0</td>\n",
       "      <td>2.52</td>\n",
       "      <td>1.98</td>\n",
       "      <td>1.02</td>\n",
       "    </tr>\n",
       "    <tr>\n",
       "      <th>4</th>\n",
       "      <td>14.10</td>\n",
       "      <td>2.16</td>\n",
       "      <td>18.0</td>\n",
       "      <td>105.0</td>\n",
       "      <td>3.32</td>\n",
       "      <td>2.38</td>\n",
       "      <td>1.25</td>\n",
       "    </tr>\n",
       "  </tbody>\n",
       "</table>\n",
       "</div>"
      ],
      "text/plain": [
       "   alcohol  malic_acid  alcalinity_of_ash  magnesium  flavanoids  \\\n",
       "0    10.00        2.36               18.6      101.0        3.24   \n",
       "1    10.00        1.95               16.8      100.0        3.49   \n",
       "2    13.24        2.59               21.0      100.0        2.69   \n",
       "3    14.39        1.87               14.6       96.0        2.52   \n",
       "4    14.10        2.16               18.0      105.0        3.32   \n",
       "\n",
       "   proanthocyanins   hue  \n",
       "0             2.81  1.03  \n",
       "1             2.18  0.86  \n",
       "2             1.82  1.04  \n",
       "3             1.98  1.02  \n",
       "4             2.38  1.25  "
      ]
     },
     "execution_count": 423,
     "metadata": {},
     "output_type": "execute_result"
    }
   ],
   "source": [
    "wine.reset_index(drop=True, inplace=True)\n",
    "wine.head()"
   ]
  },
  {
   "cell_type": "code",
   "execution_count": null,
   "id": "59e1445c-b118-4cd8-886c-0a5332bf7262",
   "metadata": {},
   "outputs": [],
   "source": []
  }
 ],
 "metadata": {
  "kernelspec": {
   "display_name": "Python 3 (ipykernel)",
   "language": "python",
   "name": "python3"
  },
  "language_info": {
   "codemirror_mode": {
    "name": "ipython",
    "version": 3
   },
   "file_extension": ".py",
   "mimetype": "text/x-python",
   "name": "python",
   "nbconvert_exporter": "python",
   "pygments_lexer": "ipython3",
   "version": "3.13.1"
  }
 },
 "nbformat": 4,
 "nbformat_minor": 5
}
